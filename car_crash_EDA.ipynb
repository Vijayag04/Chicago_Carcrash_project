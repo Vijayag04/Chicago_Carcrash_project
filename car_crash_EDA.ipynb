{
 "cells": [
  {
   "cell_type": "markdown",
   "metadata": {},
   "source": [
    "# Chicago Car Crashes Project"
   ]
  },
  {
   "cell_type": "markdown",
   "metadata": {},
   "source": [
    "**Build a model to predict the severity of a traffic crashes.**"
   ]
  },
  {
   "cell_type": "markdown",
   "metadata": {},
   "source": [
    "# Importing libraries"
   ]
  },
  {
   "cell_type": "code",
   "execution_count": 1,
   "metadata": {},
   "outputs": [],
   "source": [
    "#importing libraries\n",
    "import pandas as pd\n",
    "import numpy as np\n",
    "import seaborn as sns\n",
    "import matplotlib.pyplot as plt\n",
    "%matplotlib inline\n",
    "\n",
    "pd.set_option('display.max_columns', None)\n",
    "pd.set_option('display.max_rows', None)"
   ]
  },
  {
   "cell_type": "markdown",
   "metadata": {},
   "source": [
    "# Loading Data"
   ]
  },
  {
   "cell_type": "markdown",
   "metadata": {},
   "source": [
    "Using the data from \"Chicago Car Crash Dataset\".\n",
    "The dataset can be found here:\n",
    "https://data.cityofchicago.org/Transportation/Traffic-Crashes-Crashes/85ca-t3if"
   ]
  },
  {
   "cell_type": "code",
   "execution_count": 2,
   "metadata": {},
   "outputs": [
    {
     "name": "stderr",
     "output_type": "stream",
     "text": [
      "C:\\Users\\vijay\\anaconda3\\lib\\site-packages\\IPython\\core\\interactiveshell.py:3071: DtypeWarning: Columns (33) have mixed types.Specify dtype option on import or set low_memory=False.\n",
      "  has_raised = await self.run_ast_nodes(code_ast.body, cell_name,\n"
     ]
    }
   ],
   "source": [
    "#loading the data into dataframe using pandas\n",
    "df = pd.read_csv('Traffic_Crashes_-_Crashes.csv')"
   ]
  },
  {
   "cell_type": "code",
   "execution_count": 3,
   "metadata": {},
   "outputs": [
    {
     "data": {
      "text/plain": [
       "(475553, 49)"
      ]
     },
     "execution_count": 3,
     "metadata": {},
     "output_type": "execute_result"
    }
   ],
   "source": [
    "#checking the shape of dataframe\n",
    "df.shape"
   ]
  },
  {
   "cell_type": "code",
   "execution_count": 4,
   "metadata": {},
   "outputs": [
    {
     "data": {
      "text/html": [
       "<div>\n",
       "<style scoped>\n",
       "    .dataframe tbody tr th:only-of-type {\n",
       "        vertical-align: middle;\n",
       "    }\n",
       "\n",
       "    .dataframe tbody tr th {\n",
       "        vertical-align: top;\n",
       "    }\n",
       "\n",
       "    .dataframe thead th {\n",
       "        text-align: right;\n",
       "    }\n",
       "</style>\n",
       "<table border=\"1\" class=\"dataframe\">\n",
       "  <thead>\n",
       "    <tr style=\"text-align: right;\">\n",
       "      <th></th>\n",
       "      <th>CRASH_RECORD_ID</th>\n",
       "      <th>RD_NO</th>\n",
       "      <th>CRASH_DATE_EST_I</th>\n",
       "      <th>CRASH_DATE</th>\n",
       "      <th>POSTED_SPEED_LIMIT</th>\n",
       "      <th>TRAFFIC_CONTROL_DEVICE</th>\n",
       "      <th>DEVICE_CONDITION</th>\n",
       "      <th>WEATHER_CONDITION</th>\n",
       "      <th>LIGHTING_CONDITION</th>\n",
       "      <th>FIRST_CRASH_TYPE</th>\n",
       "      <th>TRAFFICWAY_TYPE</th>\n",
       "      <th>LANE_CNT</th>\n",
       "      <th>ALIGNMENT</th>\n",
       "      <th>ROADWAY_SURFACE_COND</th>\n",
       "      <th>ROAD_DEFECT</th>\n",
       "      <th>REPORT_TYPE</th>\n",
       "      <th>CRASH_TYPE</th>\n",
       "      <th>INTERSECTION_RELATED_I</th>\n",
       "      <th>NOT_RIGHT_OF_WAY_I</th>\n",
       "      <th>HIT_AND_RUN_I</th>\n",
       "      <th>DAMAGE</th>\n",
       "      <th>DATE_POLICE_NOTIFIED</th>\n",
       "      <th>PRIM_CONTRIBUTORY_CAUSE</th>\n",
       "      <th>SEC_CONTRIBUTORY_CAUSE</th>\n",
       "      <th>STREET_NO</th>\n",
       "      <th>STREET_DIRECTION</th>\n",
       "      <th>STREET_NAME</th>\n",
       "      <th>BEAT_OF_OCCURRENCE</th>\n",
       "      <th>PHOTOS_TAKEN_I</th>\n",
       "      <th>STATEMENTS_TAKEN_I</th>\n",
       "      <th>DOORING_I</th>\n",
       "      <th>WORK_ZONE_I</th>\n",
       "      <th>WORK_ZONE_TYPE</th>\n",
       "      <th>WORKERS_PRESENT_I</th>\n",
       "      <th>NUM_UNITS</th>\n",
       "      <th>MOST_SEVERE_INJURY</th>\n",
       "      <th>INJURIES_TOTAL</th>\n",
       "      <th>INJURIES_FATAL</th>\n",
       "      <th>INJURIES_INCAPACITATING</th>\n",
       "      <th>INJURIES_NON_INCAPACITATING</th>\n",
       "      <th>INJURIES_REPORTED_NOT_EVIDENT</th>\n",
       "      <th>INJURIES_NO_INDICATION</th>\n",
       "      <th>INJURIES_UNKNOWN</th>\n",
       "      <th>CRASH_HOUR</th>\n",
       "      <th>CRASH_DAY_OF_WEEK</th>\n",
       "      <th>CRASH_MONTH</th>\n",
       "      <th>LATITUDE</th>\n",
       "      <th>LONGITUDE</th>\n",
       "      <th>LOCATION</th>\n",
       "    </tr>\n",
       "  </thead>\n",
       "  <tbody>\n",
       "    <tr>\n",
       "      <th>0</th>\n",
       "      <td>4fd0a3e0897b3335b94cd8d5b2d2b350eb691add56c62d...</td>\n",
       "      <td>JC343143</td>\n",
       "      <td>NaN</td>\n",
       "      <td>07/10/2019 05:56:00 PM</td>\n",
       "      <td>35</td>\n",
       "      <td>NO CONTROLS</td>\n",
       "      <td>NO CONTROLS</td>\n",
       "      <td>CLEAR</td>\n",
       "      <td>DAYLIGHT</td>\n",
       "      <td>TURNING</td>\n",
       "      <td>ONE-WAY</td>\n",
       "      <td>NaN</td>\n",
       "      <td>STRAIGHT AND LEVEL</td>\n",
       "      <td>DRY</td>\n",
       "      <td>NO DEFECTS</td>\n",
       "      <td>ON SCENE</td>\n",
       "      <td>NO INJURY / DRIVE AWAY</td>\n",
       "      <td>NaN</td>\n",
       "      <td>NaN</td>\n",
       "      <td>NaN</td>\n",
       "      <td>OVER $1,500</td>\n",
       "      <td>07/10/2019 06:16:00 PM</td>\n",
       "      <td>IMPROPER BACKING</td>\n",
       "      <td>UNABLE TO DETERMINE</td>\n",
       "      <td>2158</td>\n",
       "      <td>N</td>\n",
       "      <td>MARMORA AVE</td>\n",
       "      <td>2515.0</td>\n",
       "      <td>NaN</td>\n",
       "      <td>NaN</td>\n",
       "      <td>NaN</td>\n",
       "      <td>NaN</td>\n",
       "      <td>NaN</td>\n",
       "      <td>NaN</td>\n",
       "      <td>2</td>\n",
       "      <td>NO INDICATION OF INJURY</td>\n",
       "      <td>0.0</td>\n",
       "      <td>0.0</td>\n",
       "      <td>0.0</td>\n",
       "      <td>0.0</td>\n",
       "      <td>0.0</td>\n",
       "      <td>3.0</td>\n",
       "      <td>0.0</td>\n",
       "      <td>17</td>\n",
       "      <td>4</td>\n",
       "      <td>7</td>\n",
       "      <td>41.919664</td>\n",
       "      <td>-87.773288</td>\n",
       "      <td>POINT (-87.773287883007 41.919663832993)</td>\n",
       "    </tr>\n",
       "    <tr>\n",
       "      <th>1</th>\n",
       "      <td>009e9e67203442370272e1a13d6ee51a4155dac65e583d...</td>\n",
       "      <td>JA329216</td>\n",
       "      <td>NaN</td>\n",
       "      <td>06/30/2017 04:00:00 PM</td>\n",
       "      <td>35</td>\n",
       "      <td>STOP SIGN/FLASHER</td>\n",
       "      <td>FUNCTIONING PROPERLY</td>\n",
       "      <td>CLEAR</td>\n",
       "      <td>DAYLIGHT</td>\n",
       "      <td>TURNING</td>\n",
       "      <td>NOT DIVIDED</td>\n",
       "      <td>4.0</td>\n",
       "      <td>STRAIGHT AND LEVEL</td>\n",
       "      <td>DRY</td>\n",
       "      <td>NO DEFECTS</td>\n",
       "      <td>ON SCENE</td>\n",
       "      <td>INJURY AND / OR TOW DUE TO CRASH</td>\n",
       "      <td>Y</td>\n",
       "      <td>NaN</td>\n",
       "      <td>NaN</td>\n",
       "      <td>OVER $1,500</td>\n",
       "      <td>06/30/2017 04:01:00 PM</td>\n",
       "      <td>FAILING TO YIELD RIGHT-OF-WAY</td>\n",
       "      <td>NOT APPLICABLE</td>\n",
       "      <td>8301</td>\n",
       "      <td>S</td>\n",
       "      <td>CICERO AVE</td>\n",
       "      <td>834.0</td>\n",
       "      <td>NaN</td>\n",
       "      <td>NaN</td>\n",
       "      <td>NaN</td>\n",
       "      <td>NaN</td>\n",
       "      <td>NaN</td>\n",
       "      <td>NaN</td>\n",
       "      <td>2</td>\n",
       "      <td>NO INDICATION OF INJURY</td>\n",
       "      <td>0.0</td>\n",
       "      <td>0.0</td>\n",
       "      <td>0.0</td>\n",
       "      <td>0.0</td>\n",
       "      <td>0.0</td>\n",
       "      <td>3.0</td>\n",
       "      <td>0.0</td>\n",
       "      <td>16</td>\n",
       "      <td>6</td>\n",
       "      <td>6</td>\n",
       "      <td>41.741804</td>\n",
       "      <td>-87.740954</td>\n",
       "      <td>POINT (-87.740953581987 41.741803598989)</td>\n",
       "    </tr>\n",
       "    <tr>\n",
       "      <th>2</th>\n",
       "      <td>ee9283eff3a55ac50ee58f3d9528ce1d689b1c4180b4c4...</td>\n",
       "      <td>JD292400</td>\n",
       "      <td>NaN</td>\n",
       "      <td>07/10/2020 10:25:00 AM</td>\n",
       "      <td>30</td>\n",
       "      <td>TRAFFIC SIGNAL</td>\n",
       "      <td>FUNCTIONING PROPERLY</td>\n",
       "      <td>CLEAR</td>\n",
       "      <td>DAYLIGHT</td>\n",
       "      <td>REAR END</td>\n",
       "      <td>FOUR WAY</td>\n",
       "      <td>NaN</td>\n",
       "      <td>STRAIGHT AND LEVEL</td>\n",
       "      <td>DRY</td>\n",
       "      <td>NO DEFECTS</td>\n",
       "      <td>ON SCENE</td>\n",
       "      <td>NO INJURY / DRIVE AWAY</td>\n",
       "      <td>NaN</td>\n",
       "      <td>NaN</td>\n",
       "      <td>NaN</td>\n",
       "      <td>OVER $1,500</td>\n",
       "      <td>07/10/2020 10:25:00 AM</td>\n",
       "      <td>FAILING TO YIELD RIGHT-OF-WAY</td>\n",
       "      <td>FAILING TO YIELD RIGHT-OF-WAY</td>\n",
       "      <td>1632</td>\n",
       "      <td>E</td>\n",
       "      <td>67TH ST</td>\n",
       "      <td>331.0</td>\n",
       "      <td>NaN</td>\n",
       "      <td>NaN</td>\n",
       "      <td>NaN</td>\n",
       "      <td>NaN</td>\n",
       "      <td>NaN</td>\n",
       "      <td>NaN</td>\n",
       "      <td>3</td>\n",
       "      <td>NO INDICATION OF INJURY</td>\n",
       "      <td>0.0</td>\n",
       "      <td>0.0</td>\n",
       "      <td>0.0</td>\n",
       "      <td>0.0</td>\n",
       "      <td>0.0</td>\n",
       "      <td>3.0</td>\n",
       "      <td>0.0</td>\n",
       "      <td>10</td>\n",
       "      <td>6</td>\n",
       "      <td>7</td>\n",
       "      <td>41.773456</td>\n",
       "      <td>-87.585022</td>\n",
       "      <td>POINT (-87.585022352022 41.773455972008)</td>\n",
       "    </tr>\n",
       "    <tr>\n",
       "      <th>3</th>\n",
       "      <td>f8960f698e870ebdc60b521b2a141a5395556bc3704191...</td>\n",
       "      <td>JD293602</td>\n",
       "      <td>NaN</td>\n",
       "      <td>07/11/2020 01:00:00 AM</td>\n",
       "      <td>30</td>\n",
       "      <td>NO CONTROLS</td>\n",
       "      <td>NO CONTROLS</td>\n",
       "      <td>CLEAR</td>\n",
       "      <td>DARKNESS</td>\n",
       "      <td>PARKED MOTOR VEHICLE</td>\n",
       "      <td>DIVIDED - W/MEDIAN (NOT RAISED)</td>\n",
       "      <td>NaN</td>\n",
       "      <td>STRAIGHT AND LEVEL</td>\n",
       "      <td>DRY</td>\n",
       "      <td>NO DEFECTS</td>\n",
       "      <td>NOT ON SCENE (DESK REPORT)</td>\n",
       "      <td>NO INJURY / DRIVE AWAY</td>\n",
       "      <td>NaN</td>\n",
       "      <td>NaN</td>\n",
       "      <td>Y</td>\n",
       "      <td>$500 OR LESS</td>\n",
       "      <td>07/11/2020 08:30:00 AM</td>\n",
       "      <td>UNABLE TO DETERMINE</td>\n",
       "      <td>UNABLE TO DETERMINE</td>\n",
       "      <td>110</td>\n",
       "      <td>E</td>\n",
       "      <td>51ST ST</td>\n",
       "      <td>224.0</td>\n",
       "      <td>NaN</td>\n",
       "      <td>NaN</td>\n",
       "      <td>NaN</td>\n",
       "      <td>NaN</td>\n",
       "      <td>NaN</td>\n",
       "      <td>NaN</td>\n",
       "      <td>2</td>\n",
       "      <td>NO INDICATION OF INJURY</td>\n",
       "      <td>0.0</td>\n",
       "      <td>0.0</td>\n",
       "      <td>0.0</td>\n",
       "      <td>0.0</td>\n",
       "      <td>0.0</td>\n",
       "      <td>3.0</td>\n",
       "      <td>0.0</td>\n",
       "      <td>1</td>\n",
       "      <td>7</td>\n",
       "      <td>7</td>\n",
       "      <td>41.802119</td>\n",
       "      <td>-87.622115</td>\n",
       "      <td>POINT (-87.622114914961 41.802118543011)</td>\n",
       "    </tr>\n",
       "    <tr>\n",
       "      <th>4</th>\n",
       "      <td>8eaa2678d1a127804ee9b8c35ddf7d63d913c14eda61d6...</td>\n",
       "      <td>JD290451</td>\n",
       "      <td>NaN</td>\n",
       "      <td>07/08/2020 02:00:00 PM</td>\n",
       "      <td>20</td>\n",
       "      <td>NO CONTROLS</td>\n",
       "      <td>NO CONTROLS</td>\n",
       "      <td>CLEAR</td>\n",
       "      <td>DAYLIGHT</td>\n",
       "      <td>PARKED MOTOR VEHICLE</td>\n",
       "      <td>DRIVEWAY</td>\n",
       "      <td>NaN</td>\n",
       "      <td>STRAIGHT AND LEVEL</td>\n",
       "      <td>DRY</td>\n",
       "      <td>NO DEFECTS</td>\n",
       "      <td>ON SCENE</td>\n",
       "      <td>NO INJURY / DRIVE AWAY</td>\n",
       "      <td>NaN</td>\n",
       "      <td>NaN</td>\n",
       "      <td>NaN</td>\n",
       "      <td>OVER $1,500</td>\n",
       "      <td>07/08/2020 02:15:00 PM</td>\n",
       "      <td>UNABLE TO DETERMINE</td>\n",
       "      <td>UNABLE TO DETERMINE</td>\n",
       "      <td>412</td>\n",
       "      <td>W</td>\n",
       "      <td>OHARE ST</td>\n",
       "      <td>1654.0</td>\n",
       "      <td>NaN</td>\n",
       "      <td>NaN</td>\n",
       "      <td>NaN</td>\n",
       "      <td>NaN</td>\n",
       "      <td>NaN</td>\n",
       "      <td>NaN</td>\n",
       "      <td>2</td>\n",
       "      <td>NO INDICATION OF INJURY</td>\n",
       "      <td>0.0</td>\n",
       "      <td>0.0</td>\n",
       "      <td>0.0</td>\n",
       "      <td>0.0</td>\n",
       "      <td>0.0</td>\n",
       "      <td>1.0</td>\n",
       "      <td>0.0</td>\n",
       "      <td>14</td>\n",
       "      <td>4</td>\n",
       "      <td>7</td>\n",
       "      <td>NaN</td>\n",
       "      <td>NaN</td>\n",
       "      <td>NaN</td>\n",
       "    </tr>\n",
       "  </tbody>\n",
       "</table>\n",
       "</div>"
      ],
      "text/plain": [
       "                                     CRASH_RECORD_ID     RD_NO  \\\n",
       "0  4fd0a3e0897b3335b94cd8d5b2d2b350eb691add56c62d...  JC343143   \n",
       "1  009e9e67203442370272e1a13d6ee51a4155dac65e583d...  JA329216   \n",
       "2  ee9283eff3a55ac50ee58f3d9528ce1d689b1c4180b4c4...  JD292400   \n",
       "3  f8960f698e870ebdc60b521b2a141a5395556bc3704191...  JD293602   \n",
       "4  8eaa2678d1a127804ee9b8c35ddf7d63d913c14eda61d6...  JD290451   \n",
       "\n",
       "  CRASH_DATE_EST_I              CRASH_DATE  POSTED_SPEED_LIMIT  \\\n",
       "0              NaN  07/10/2019 05:56:00 PM                  35   \n",
       "1              NaN  06/30/2017 04:00:00 PM                  35   \n",
       "2              NaN  07/10/2020 10:25:00 AM                  30   \n",
       "3              NaN  07/11/2020 01:00:00 AM                  30   \n",
       "4              NaN  07/08/2020 02:00:00 PM                  20   \n",
       "\n",
       "  TRAFFIC_CONTROL_DEVICE      DEVICE_CONDITION WEATHER_CONDITION  \\\n",
       "0            NO CONTROLS           NO CONTROLS             CLEAR   \n",
       "1      STOP SIGN/FLASHER  FUNCTIONING PROPERLY             CLEAR   \n",
       "2         TRAFFIC SIGNAL  FUNCTIONING PROPERLY             CLEAR   \n",
       "3            NO CONTROLS           NO CONTROLS             CLEAR   \n",
       "4            NO CONTROLS           NO CONTROLS             CLEAR   \n",
       "\n",
       "  LIGHTING_CONDITION      FIRST_CRASH_TYPE                  TRAFFICWAY_TYPE  \\\n",
       "0           DAYLIGHT               TURNING                          ONE-WAY   \n",
       "1           DAYLIGHT               TURNING                      NOT DIVIDED   \n",
       "2           DAYLIGHT              REAR END                         FOUR WAY   \n",
       "3           DARKNESS  PARKED MOTOR VEHICLE  DIVIDED - W/MEDIAN (NOT RAISED)   \n",
       "4           DAYLIGHT  PARKED MOTOR VEHICLE                         DRIVEWAY   \n",
       "\n",
       "   LANE_CNT           ALIGNMENT ROADWAY_SURFACE_COND ROAD_DEFECT  \\\n",
       "0       NaN  STRAIGHT AND LEVEL                  DRY  NO DEFECTS   \n",
       "1       4.0  STRAIGHT AND LEVEL                  DRY  NO DEFECTS   \n",
       "2       NaN  STRAIGHT AND LEVEL                  DRY  NO DEFECTS   \n",
       "3       NaN  STRAIGHT AND LEVEL                  DRY  NO DEFECTS   \n",
       "4       NaN  STRAIGHT AND LEVEL                  DRY  NO DEFECTS   \n",
       "\n",
       "                  REPORT_TYPE                        CRASH_TYPE  \\\n",
       "0                    ON SCENE            NO INJURY / DRIVE AWAY   \n",
       "1                    ON SCENE  INJURY AND / OR TOW DUE TO CRASH   \n",
       "2                    ON SCENE            NO INJURY / DRIVE AWAY   \n",
       "3  NOT ON SCENE (DESK REPORT)            NO INJURY / DRIVE AWAY   \n",
       "4                    ON SCENE            NO INJURY / DRIVE AWAY   \n",
       "\n",
       "  INTERSECTION_RELATED_I NOT_RIGHT_OF_WAY_I HIT_AND_RUN_I        DAMAGE  \\\n",
       "0                    NaN                NaN           NaN   OVER $1,500   \n",
       "1                      Y                NaN           NaN   OVER $1,500   \n",
       "2                    NaN                NaN           NaN   OVER $1,500   \n",
       "3                    NaN                NaN             Y  $500 OR LESS   \n",
       "4                    NaN                NaN           NaN   OVER $1,500   \n",
       "\n",
       "     DATE_POLICE_NOTIFIED        PRIM_CONTRIBUTORY_CAUSE  \\\n",
       "0  07/10/2019 06:16:00 PM               IMPROPER BACKING   \n",
       "1  06/30/2017 04:01:00 PM  FAILING TO YIELD RIGHT-OF-WAY   \n",
       "2  07/10/2020 10:25:00 AM  FAILING TO YIELD RIGHT-OF-WAY   \n",
       "3  07/11/2020 08:30:00 AM            UNABLE TO DETERMINE   \n",
       "4  07/08/2020 02:15:00 PM            UNABLE TO DETERMINE   \n",
       "\n",
       "          SEC_CONTRIBUTORY_CAUSE  STREET_NO STREET_DIRECTION  STREET_NAME  \\\n",
       "0            UNABLE TO DETERMINE       2158                N  MARMORA AVE   \n",
       "1                 NOT APPLICABLE       8301                S   CICERO AVE   \n",
       "2  FAILING TO YIELD RIGHT-OF-WAY       1632                E      67TH ST   \n",
       "3            UNABLE TO DETERMINE        110                E      51ST ST   \n",
       "4            UNABLE TO DETERMINE        412                W     OHARE ST   \n",
       "\n",
       "   BEAT_OF_OCCURRENCE PHOTOS_TAKEN_I STATEMENTS_TAKEN_I DOORING_I WORK_ZONE_I  \\\n",
       "0              2515.0            NaN                NaN       NaN         NaN   \n",
       "1               834.0            NaN                NaN       NaN         NaN   \n",
       "2               331.0            NaN                NaN       NaN         NaN   \n",
       "3               224.0            NaN                NaN       NaN         NaN   \n",
       "4              1654.0            NaN                NaN       NaN         NaN   \n",
       "\n",
       "  WORK_ZONE_TYPE WORKERS_PRESENT_I  NUM_UNITS       MOST_SEVERE_INJURY  \\\n",
       "0            NaN               NaN          2  NO INDICATION OF INJURY   \n",
       "1            NaN               NaN          2  NO INDICATION OF INJURY   \n",
       "2            NaN               NaN          3  NO INDICATION OF INJURY   \n",
       "3            NaN               NaN          2  NO INDICATION OF INJURY   \n",
       "4            NaN               NaN          2  NO INDICATION OF INJURY   \n",
       "\n",
       "   INJURIES_TOTAL  INJURIES_FATAL  INJURIES_INCAPACITATING  \\\n",
       "0             0.0             0.0                      0.0   \n",
       "1             0.0             0.0                      0.0   \n",
       "2             0.0             0.0                      0.0   \n",
       "3             0.0             0.0                      0.0   \n",
       "4             0.0             0.0                      0.0   \n",
       "\n",
       "   INJURIES_NON_INCAPACITATING  INJURIES_REPORTED_NOT_EVIDENT  \\\n",
       "0                          0.0                            0.0   \n",
       "1                          0.0                            0.0   \n",
       "2                          0.0                            0.0   \n",
       "3                          0.0                            0.0   \n",
       "4                          0.0                            0.0   \n",
       "\n",
       "   INJURIES_NO_INDICATION  INJURIES_UNKNOWN  CRASH_HOUR  CRASH_DAY_OF_WEEK  \\\n",
       "0                     3.0               0.0          17                  4   \n",
       "1                     3.0               0.0          16                  6   \n",
       "2                     3.0               0.0          10                  6   \n",
       "3                     3.0               0.0           1                  7   \n",
       "4                     1.0               0.0          14                  4   \n",
       "\n",
       "   CRASH_MONTH   LATITUDE  LONGITUDE                                  LOCATION  \n",
       "0            7  41.919664 -87.773288  POINT (-87.773287883007 41.919663832993)  \n",
       "1            6  41.741804 -87.740954  POINT (-87.740953581987 41.741803598989)  \n",
       "2            7  41.773456 -87.585022  POINT (-87.585022352022 41.773455972008)  \n",
       "3            7  41.802119 -87.622115  POINT (-87.622114914961 41.802118543011)  \n",
       "4            7        NaN        NaN                                       NaN  "
      ]
     },
     "execution_count": 4,
     "metadata": {},
     "output_type": "execute_result"
    }
   ],
   "source": [
    "#printing the first five rows of dataframe\n",
    "df.head()"
   ]
  },
  {
   "cell_type": "code",
   "execution_count": 5,
   "metadata": {},
   "outputs": [
    {
     "name": "stdout",
     "output_type": "stream",
     "text": [
      "<class 'pandas.core.frame.DataFrame'>\n",
      "RangeIndex: 475553 entries, 0 to 475552\n",
      "Data columns (total 49 columns):\n",
      " #   Column                         Non-Null Count   Dtype  \n",
      "---  ------                         --------------   -----  \n",
      " 0   CRASH_RECORD_ID                475553 non-null  object \n",
      " 1   RD_NO                          471829 non-null  object \n",
      " 2   CRASH_DATE_EST_I               35549 non-null   object \n",
      " 3   CRASH_DATE                     475553 non-null  object \n",
      " 4   POSTED_SPEED_LIMIT             475553 non-null  int64  \n",
      " 5   TRAFFIC_CONTROL_DEVICE         475553 non-null  object \n",
      " 6   DEVICE_CONDITION               475553 non-null  object \n",
      " 7   WEATHER_CONDITION              475553 non-null  object \n",
      " 8   LIGHTING_CONDITION             475553 non-null  object \n",
      " 9   FIRST_CRASH_TYPE               475553 non-null  object \n",
      " 10  TRAFFICWAY_TYPE                475553 non-null  object \n",
      " 11  LANE_CNT                       198963 non-null  float64\n",
      " 12  ALIGNMENT                      475553 non-null  object \n",
      " 13  ROADWAY_SURFACE_COND           475553 non-null  object \n",
      " 14  ROAD_DEFECT                    475553 non-null  object \n",
      " 15  REPORT_TYPE                    464041 non-null  object \n",
      " 16  CRASH_TYPE                     475553 non-null  object \n",
      " 17  INTERSECTION_RELATED_I         107491 non-null  object \n",
      " 18  NOT_RIGHT_OF_WAY_I             22330 non-null   object \n",
      " 19  HIT_AND_RUN_I                  139277 non-null  object \n",
      " 20  DAMAGE                         475553 non-null  object \n",
      " 21  DATE_POLICE_NOTIFIED           475553 non-null  object \n",
      " 22  PRIM_CONTRIBUTORY_CAUSE        475553 non-null  object \n",
      " 23  SEC_CONTRIBUTORY_CAUSE         475553 non-null  object \n",
      " 24  STREET_NO                      475553 non-null  int64  \n",
      " 25  STREET_DIRECTION               475550 non-null  object \n",
      " 26  STREET_NAME                    475552 non-null  object \n",
      " 27  BEAT_OF_OCCURRENCE             475548 non-null  float64\n",
      " 28  PHOTOS_TAKEN_I                 5989 non-null    object \n",
      " 29  STATEMENTS_TAKEN_I             9570 non-null    object \n",
      " 30  DOORING_I                      1541 non-null    object \n",
      " 31  WORK_ZONE_I                    3102 non-null    object \n",
      " 32  WORK_ZONE_TYPE                 2450 non-null    object \n",
      " 33  WORKERS_PRESENT_I              740 non-null     object \n",
      " 34  NUM_UNITS                      475553 non-null  int64  \n",
      " 35  MOST_SEVERE_INJURY             474586 non-null  object \n",
      " 36  INJURIES_TOTAL                 474597 non-null  float64\n",
      " 37  INJURIES_FATAL                 474597 non-null  float64\n",
      " 38  INJURIES_INCAPACITATING        474597 non-null  float64\n",
      " 39  INJURIES_NON_INCAPACITATING    474597 non-null  float64\n",
      " 40  INJURIES_REPORTED_NOT_EVIDENT  474597 non-null  float64\n",
      " 41  INJURIES_NO_INDICATION         474597 non-null  float64\n",
      " 42  INJURIES_UNKNOWN               474597 non-null  float64\n",
      " 43  CRASH_HOUR                     475553 non-null  int64  \n",
      " 44  CRASH_DAY_OF_WEEK              475553 non-null  int64  \n",
      " 45  CRASH_MONTH                    475553 non-null  int64  \n",
      " 46  LATITUDE                       472936 non-null  float64\n",
      " 47  LONGITUDE                      472936 non-null  float64\n",
      " 48  LOCATION                       472936 non-null  object \n",
      "dtypes: float64(11), int64(6), object(32)\n",
      "memory usage: 177.8+ MB\n"
     ]
    }
   ],
   "source": [
    "#checking the datatype of columns in the dataframe\n",
    "df.info()"
   ]
  },
  {
   "cell_type": "markdown",
   "metadata": {},
   "source": [
    "Looking at the information above , there are 32 object type columns that need to be\n",
    "taken care and also need to handle the missing values."
   ]
  },
  {
   "cell_type": "markdown",
   "metadata": {},
   "source": [
    "**Columns of the dataset represents:**"
   ]
  },
  {
   "cell_type": "markdown",
   "metadata": {},
   "source": [
    "- **CRASH_RECORD_ID**  : A unique ID can be used to link to the same crash in the Vehicles                                     and people datasets. \n",
    "- **RD_NO**:             Chicago Police Department report number. \n",
    "- **CRASH_DATE_EST_I** : Crash date estimated by desk officer or reporting party.\n",
    "- **CRASH_DATE** :       Date and time of crash.\n",
    "- **POSTED_SPEED_LIMIT**:Posted speed limit.\n",
    "- **TRAFFIC_CONTROL_DEVICE**:Traffic control device present at crash location.\n",
    "- **DEVICE_CONDITION**  : Condition of traffic control device.\n",
    "- **WEATHER_CONDITION** : Weather condition at time of crash.\n",
    "- **LIGHTING_CONDITION**: Light condition at time of crasH.\n",
    "- **FIRST_CRASH_TYPE**  : Type of first collision in crash.\n",
    "- **TRAFFICWAY_TYPE**   : Trafficway type.\n",
    "- **LANE_CNT**          : Total number of through lanes in either direction, excluding turn lanes.\n",
    "- **ALIGNMENT**         : Street alignment at crash location.\n",
    "- **ROADWAY_SURFACE_COND**:Road surface condition.\n",
    "- **ROAD_DEFECT**       : Road defects.\n",
    "- **REPORT_TYPE**       : Administrative report type (at scene, at desk, amended).\n",
    "- **CRASH_TYPE**        : A general severity classification for the crash. Can be either Injury  \n",
    "and/or Tow Due to Crash or No Injury / Drive Away.\n",
    "- **INTERSECTION_RELATED_I**:A field observation by the police officer whether an intersection played a role in the crash. Does not represent whether or not the crash occurred within the intersection.\n",
    "- **NOT_RIGHT_OF_WAY_I**  :Whether the crash begun or first contact was made outside of the public \n",
    "right-of-way.\n",
    "- **HIT_AND_RUN_I**      : Crash did/did not involve a driver who caused the crash and fled the scene without exchanging information and/or rendering aid.\n",
    "- **DAMAGE**             : A field observation of estimated damage.\n",
    "- **DATE_POLICE_NOTIFIED**: Calendar date on which police were notified of the crash.\n",
    "- **PRIM_CONTRIBUTORY_CAUSE**:The factor which was most significant in causing the crash.\n",
    "- **SEC_CONTRIBUTORY_CAUSE** :The factor which was second most significant in causing the crash.\n",
    "- **STREET_NO**            :Street address number of crash location.\n",
    "- **STREET_DIRECTION**     :Street address direction (N,E,S,W) of crash location.\n",
    "- **STREET_NAME**          :Street address name of crash location.\n",
    "- **BEAT_OF_OCCURRENCE**   :Chicago Police Department Beat ID.\n",
    "- **PHOTOS_TAKEN_I**       :Whether the Chicago Police Department took photos at the location of the \n",
    "crash.\n",
    "- **STATEMENTS_TAKEN_I**   :Whether statements were taken from unit(s) involved in crash.\n",
    "- **DOORING_I**            :Whether crash involved a motor vehicle occupant opening a door into the \n",
    "travel path of a bicyclist, causing a crash.\n",
    "- **WORK_ZONE_I**          :Whether the crash occurred in an active work zone.\n",
    "- **WORK_ZONE_TYPE**       :The type of work zone.           \n",
    "- **WORKERS_PRESENT_I**    :Whether construction workers were present in an active work zone at crash                             location\n",
    "- **NUM_UNITS**            :Number of units involved in the crash. \n",
    "- **MOST_SEVERE_INJURY**   :Most severe injury sustained by any person involved in the crash.\n",
    "- **INJURIES_TOTAL**       :Total persons sustaining fatal, incapacitating, non-incapacitating, and possible injuries.\n",
    "- **INJURIES_FATAL**       :Total persons sustaining fatal injuries in the crash.\n",
    "- **INJURIES_INCAPACITATING**:Total persons sustaining incapacitating/serious injuries in the crash.  - **INJURIES_NON_INCAPACITATING**:Total persons sustaining non-incapacitating injuries in the crash. -**INJURIES_REPORTED_NOT_EVIDENT**:Total persons sustaining possible injuries in the crash.       \n",
    "- **INJURIES_NO_INDICATION**:Total persons sustaining no injuries in the crash.\n",
    "- **INJURIES_UNKNOWN**      :Total persons for whom injuries sustained, if any, are unknown.         \n",
    "\n",
    "- **CRASH_HOUR**            :The hour of the day component of CRASH_DATE. \n",
    "- **CRASH_DAY_OF_WEEK**     :The day of the week component of CRASH_DATE. Sunday=1                \n",
    "- **CRASH_MONTH**           :The month component of CRASH_DATE.                \n",
    "- **LATITUDE**              :The latitude of the crash location.             \n",
    "- **LONGITUDE**             :The longitude of the crash location.            \n",
    "- **LOCATION**              :The crash location.          "
   ]
  },
  {
   "cell_type": "markdown",
   "metadata": {},
   "source": [
    "# Scrubing the Data"
   ]
  },
  {
   "cell_type": "code",
   "execution_count": 6,
   "metadata": {},
   "outputs": [
    {
     "data": {
      "text/plain": [
       "CRASH_RECORD_ID                       0\n",
       "RD_NO                              3724\n",
       "CRASH_DATE_EST_I                 440004\n",
       "CRASH_DATE                            0\n",
       "POSTED_SPEED_LIMIT                    0\n",
       "TRAFFIC_CONTROL_DEVICE                0\n",
       "DEVICE_CONDITION                      0\n",
       "WEATHER_CONDITION                     0\n",
       "LIGHTING_CONDITION                    0\n",
       "FIRST_CRASH_TYPE                      0\n",
       "TRAFFICWAY_TYPE                       0\n",
       "LANE_CNT                         276590\n",
       "ALIGNMENT                             0\n",
       "ROADWAY_SURFACE_COND                  0\n",
       "ROAD_DEFECT                           0\n",
       "REPORT_TYPE                       11512\n",
       "CRASH_TYPE                            0\n",
       "INTERSECTION_RELATED_I           368062\n",
       "NOT_RIGHT_OF_WAY_I               453223\n",
       "HIT_AND_RUN_I                    336276\n",
       "DAMAGE                                0\n",
       "DATE_POLICE_NOTIFIED                  0\n",
       "PRIM_CONTRIBUTORY_CAUSE               0\n",
       "SEC_CONTRIBUTORY_CAUSE                0\n",
       "STREET_NO                             0\n",
       "STREET_DIRECTION                      3\n",
       "STREET_NAME                           1\n",
       "BEAT_OF_OCCURRENCE                    5\n",
       "PHOTOS_TAKEN_I                   469564\n",
       "STATEMENTS_TAKEN_I               465983\n",
       "DOORING_I                        474012\n",
       "WORK_ZONE_I                      472451\n",
       "WORK_ZONE_TYPE                   473103\n",
       "WORKERS_PRESENT_I                474813\n",
       "NUM_UNITS                             0\n",
       "MOST_SEVERE_INJURY                  967\n",
       "INJURIES_TOTAL                      956\n",
       "INJURIES_FATAL                      956\n",
       "INJURIES_INCAPACITATING             956\n",
       "INJURIES_NON_INCAPACITATING         956\n",
       "INJURIES_REPORTED_NOT_EVIDENT       956\n",
       "INJURIES_NO_INDICATION              956\n",
       "INJURIES_UNKNOWN                    956\n",
       "CRASH_HOUR                            0\n",
       "CRASH_DAY_OF_WEEK                     0\n",
       "CRASH_MONTH                           0\n",
       "LATITUDE                           2617\n",
       "LONGITUDE                          2617\n",
       "LOCATION                           2617\n",
       "dtype: int64"
      ]
     },
     "execution_count": 6,
     "metadata": {},
     "output_type": "execute_result"
    }
   ],
   "source": [
    "#checking for the null values\n",
    "df.isna().sum()"
   ]
  },
  {
   "cell_type": "markdown",
   "metadata": {},
   "source": [
    "Noticed null values over 400000 in columns PHOTOS_TAKEN_I, STATEMENTS_TAKEN_I, DOORING_I,              WORK_ZONE_I, WORK_ZONE_TYPE, WORKERS_PRESENT_I and NOT_RIGHT_OF_WAY_I.            "
   ]
  },
  {
   "cell_type": "markdown",
   "metadata": {},
   "source": [
    "# Choosing the Target variable"
   ]
  },
  {
   "cell_type": "code",
   "execution_count": 7,
   "metadata": {},
   "outputs": [
    {
     "data": {
      "text/plain": [
       "NO INJURY / DRIVE AWAY              358333\n",
       "INJURY AND / OR TOW DUE TO CRASH    117220\n",
       "Name: CRASH_TYPE, dtype: int64"
      ]
     },
     "execution_count": 7,
     "metadata": {},
     "output_type": "execute_result"
    }
   ],
   "source": [
    "#checking the value counts\n",
    "df['CRASH_TYPE'].value_counts()"
   ]
  },
  {
   "cell_type": "markdown",
   "metadata": {},
   "source": [
    "- Target variable is the 'CRASH_TYPE' column which will be renamed 'SEVERE'.\n",
    "- The severity of the crash will be determined on whether or not their is an injury / a car being towed.\n",
    "- This column will be a binary column with 0 representing no injury and 1 representing an injury."
   ]
  },
  {
   "cell_type": "code",
   "execution_count": 8,
   "metadata": {},
   "outputs": [],
   "source": [
    "df.rename(columns = {'CRASH_TYPE': 'SEVERE'}, inplace = True)\n",
    "df['SEVERE'] = df['SEVERE'].map(lambda x:1 if x == 'INJURY AND / OR TOW DUE TO CRASH' else 0)"
   ]
  },
  {
   "cell_type": "code",
   "execution_count": 9,
   "metadata": {},
   "outputs": [
    {
     "data": {
      "text/plain": [
       "0    358333\n",
       "1    117220\n",
       "Name: SEVERE, dtype: int64"
      ]
     },
     "execution_count": 9,
     "metadata": {},
     "output_type": "execute_result"
    }
   ],
   "source": [
    "df['SEVERE'].value_counts()"
   ]
  },
  {
   "cell_type": "markdown",
   "metadata": {},
   "source": [
    "**Changing the datatype of the 'CRASH_DATE' column from object to date.**"
   ]
  },
  {
   "cell_type": "code",
   "execution_count": 10,
   "metadata": {},
   "outputs": [],
   "source": [
    "df['CRASH_DATE'] = pd.to_datetime(df.CRASH_DATE)"
   ]
  },
  {
   "cell_type": "code",
   "execution_count": 11,
   "metadata": {},
   "outputs": [
    {
     "data": {
      "text/html": [
       "<div>\n",
       "<style scoped>\n",
       "    .dataframe tbody tr th:only-of-type {\n",
       "        vertical-align: middle;\n",
       "    }\n",
       "\n",
       "    .dataframe tbody tr th {\n",
       "        vertical-align: top;\n",
       "    }\n",
       "\n",
       "    .dataframe thead th {\n",
       "        text-align: right;\n",
       "    }\n",
       "</style>\n",
       "<table border=\"1\" class=\"dataframe\">\n",
       "  <thead>\n",
       "    <tr style=\"text-align: right;\">\n",
       "      <th></th>\n",
       "      <th>CRASH_RECORD_ID</th>\n",
       "      <th>RD_NO</th>\n",
       "      <th>CRASH_DATE_EST_I</th>\n",
       "      <th>CRASH_DATE</th>\n",
       "      <th>POSTED_SPEED_LIMIT</th>\n",
       "      <th>TRAFFIC_CONTROL_DEVICE</th>\n",
       "      <th>DEVICE_CONDITION</th>\n",
       "      <th>WEATHER_CONDITION</th>\n",
       "      <th>LIGHTING_CONDITION</th>\n",
       "      <th>FIRST_CRASH_TYPE</th>\n",
       "      <th>TRAFFICWAY_TYPE</th>\n",
       "      <th>LANE_CNT</th>\n",
       "      <th>ALIGNMENT</th>\n",
       "      <th>ROADWAY_SURFACE_COND</th>\n",
       "      <th>ROAD_DEFECT</th>\n",
       "      <th>REPORT_TYPE</th>\n",
       "      <th>SEVERE</th>\n",
       "      <th>INTERSECTION_RELATED_I</th>\n",
       "      <th>NOT_RIGHT_OF_WAY_I</th>\n",
       "      <th>HIT_AND_RUN_I</th>\n",
       "      <th>DAMAGE</th>\n",
       "      <th>DATE_POLICE_NOTIFIED</th>\n",
       "      <th>PRIM_CONTRIBUTORY_CAUSE</th>\n",
       "      <th>SEC_CONTRIBUTORY_CAUSE</th>\n",
       "      <th>STREET_NO</th>\n",
       "      <th>STREET_DIRECTION</th>\n",
       "      <th>STREET_NAME</th>\n",
       "      <th>BEAT_OF_OCCURRENCE</th>\n",
       "      <th>PHOTOS_TAKEN_I</th>\n",
       "      <th>STATEMENTS_TAKEN_I</th>\n",
       "      <th>DOORING_I</th>\n",
       "      <th>WORK_ZONE_I</th>\n",
       "      <th>WORK_ZONE_TYPE</th>\n",
       "      <th>WORKERS_PRESENT_I</th>\n",
       "      <th>NUM_UNITS</th>\n",
       "      <th>MOST_SEVERE_INJURY</th>\n",
       "      <th>INJURIES_TOTAL</th>\n",
       "      <th>INJURIES_FATAL</th>\n",
       "      <th>INJURIES_INCAPACITATING</th>\n",
       "      <th>INJURIES_NON_INCAPACITATING</th>\n",
       "      <th>INJURIES_REPORTED_NOT_EVIDENT</th>\n",
       "      <th>INJURIES_NO_INDICATION</th>\n",
       "      <th>INJURIES_UNKNOWN</th>\n",
       "      <th>CRASH_HOUR</th>\n",
       "      <th>CRASH_DAY_OF_WEEK</th>\n",
       "      <th>CRASH_MONTH</th>\n",
       "      <th>LATITUDE</th>\n",
       "      <th>LONGITUDE</th>\n",
       "      <th>LOCATION</th>\n",
       "    </tr>\n",
       "  </thead>\n",
       "  <tbody>\n",
       "    <tr>\n",
       "      <th>0</th>\n",
       "      <td>4fd0a3e0897b3335b94cd8d5b2d2b350eb691add56c62d...</td>\n",
       "      <td>JC343143</td>\n",
       "      <td>NaN</td>\n",
       "      <td>2019-07-10 17:56:00</td>\n",
       "      <td>35</td>\n",
       "      <td>NO CONTROLS</td>\n",
       "      <td>NO CONTROLS</td>\n",
       "      <td>CLEAR</td>\n",
       "      <td>DAYLIGHT</td>\n",
       "      <td>TURNING</td>\n",
       "      <td>ONE-WAY</td>\n",
       "      <td>NaN</td>\n",
       "      <td>STRAIGHT AND LEVEL</td>\n",
       "      <td>DRY</td>\n",
       "      <td>NO DEFECTS</td>\n",
       "      <td>ON SCENE</td>\n",
       "      <td>0</td>\n",
       "      <td>NaN</td>\n",
       "      <td>NaN</td>\n",
       "      <td>NaN</td>\n",
       "      <td>OVER $1,500</td>\n",
       "      <td>07/10/2019 06:16:00 PM</td>\n",
       "      <td>IMPROPER BACKING</td>\n",
       "      <td>UNABLE TO DETERMINE</td>\n",
       "      <td>2158</td>\n",
       "      <td>N</td>\n",
       "      <td>MARMORA AVE</td>\n",
       "      <td>2515.0</td>\n",
       "      <td>NaN</td>\n",
       "      <td>NaN</td>\n",
       "      <td>NaN</td>\n",
       "      <td>NaN</td>\n",
       "      <td>NaN</td>\n",
       "      <td>NaN</td>\n",
       "      <td>2</td>\n",
       "      <td>NO INDICATION OF INJURY</td>\n",
       "      <td>0.0</td>\n",
       "      <td>0.0</td>\n",
       "      <td>0.0</td>\n",
       "      <td>0.0</td>\n",
       "      <td>0.0</td>\n",
       "      <td>3.0</td>\n",
       "      <td>0.0</td>\n",
       "      <td>17</td>\n",
       "      <td>4</td>\n",
       "      <td>7</td>\n",
       "      <td>41.919664</td>\n",
       "      <td>-87.773288</td>\n",
       "      <td>POINT (-87.773287883007 41.919663832993)</td>\n",
       "    </tr>\n",
       "    <tr>\n",
       "      <th>1</th>\n",
       "      <td>009e9e67203442370272e1a13d6ee51a4155dac65e583d...</td>\n",
       "      <td>JA329216</td>\n",
       "      <td>NaN</td>\n",
       "      <td>2017-06-30 16:00:00</td>\n",
       "      <td>35</td>\n",
       "      <td>STOP SIGN/FLASHER</td>\n",
       "      <td>FUNCTIONING PROPERLY</td>\n",
       "      <td>CLEAR</td>\n",
       "      <td>DAYLIGHT</td>\n",
       "      <td>TURNING</td>\n",
       "      <td>NOT DIVIDED</td>\n",
       "      <td>4.0</td>\n",
       "      <td>STRAIGHT AND LEVEL</td>\n",
       "      <td>DRY</td>\n",
       "      <td>NO DEFECTS</td>\n",
       "      <td>ON SCENE</td>\n",
       "      <td>1</td>\n",
       "      <td>Y</td>\n",
       "      <td>NaN</td>\n",
       "      <td>NaN</td>\n",
       "      <td>OVER $1,500</td>\n",
       "      <td>06/30/2017 04:01:00 PM</td>\n",
       "      <td>FAILING TO YIELD RIGHT-OF-WAY</td>\n",
       "      <td>NOT APPLICABLE</td>\n",
       "      <td>8301</td>\n",
       "      <td>S</td>\n",
       "      <td>CICERO AVE</td>\n",
       "      <td>834.0</td>\n",
       "      <td>NaN</td>\n",
       "      <td>NaN</td>\n",
       "      <td>NaN</td>\n",
       "      <td>NaN</td>\n",
       "      <td>NaN</td>\n",
       "      <td>NaN</td>\n",
       "      <td>2</td>\n",
       "      <td>NO INDICATION OF INJURY</td>\n",
       "      <td>0.0</td>\n",
       "      <td>0.0</td>\n",
       "      <td>0.0</td>\n",
       "      <td>0.0</td>\n",
       "      <td>0.0</td>\n",
       "      <td>3.0</td>\n",
       "      <td>0.0</td>\n",
       "      <td>16</td>\n",
       "      <td>6</td>\n",
       "      <td>6</td>\n",
       "      <td>41.741804</td>\n",
       "      <td>-87.740954</td>\n",
       "      <td>POINT (-87.740953581987 41.741803598989)</td>\n",
       "    </tr>\n",
       "  </tbody>\n",
       "</table>\n",
       "</div>"
      ],
      "text/plain": [
       "                                     CRASH_RECORD_ID     RD_NO  \\\n",
       "0  4fd0a3e0897b3335b94cd8d5b2d2b350eb691add56c62d...  JC343143   \n",
       "1  009e9e67203442370272e1a13d6ee51a4155dac65e583d...  JA329216   \n",
       "\n",
       "  CRASH_DATE_EST_I          CRASH_DATE  POSTED_SPEED_LIMIT  \\\n",
       "0              NaN 2019-07-10 17:56:00                  35   \n",
       "1              NaN 2017-06-30 16:00:00                  35   \n",
       "\n",
       "  TRAFFIC_CONTROL_DEVICE      DEVICE_CONDITION WEATHER_CONDITION  \\\n",
       "0            NO CONTROLS           NO CONTROLS             CLEAR   \n",
       "1      STOP SIGN/FLASHER  FUNCTIONING PROPERLY             CLEAR   \n",
       "\n",
       "  LIGHTING_CONDITION FIRST_CRASH_TYPE TRAFFICWAY_TYPE  LANE_CNT  \\\n",
       "0           DAYLIGHT          TURNING         ONE-WAY       NaN   \n",
       "1           DAYLIGHT          TURNING     NOT DIVIDED       4.0   \n",
       "\n",
       "            ALIGNMENT ROADWAY_SURFACE_COND ROAD_DEFECT REPORT_TYPE  SEVERE  \\\n",
       "0  STRAIGHT AND LEVEL                  DRY  NO DEFECTS    ON SCENE       0   \n",
       "1  STRAIGHT AND LEVEL                  DRY  NO DEFECTS    ON SCENE       1   \n",
       "\n",
       "  INTERSECTION_RELATED_I NOT_RIGHT_OF_WAY_I HIT_AND_RUN_I       DAMAGE  \\\n",
       "0                    NaN                NaN           NaN  OVER $1,500   \n",
       "1                      Y                NaN           NaN  OVER $1,500   \n",
       "\n",
       "     DATE_POLICE_NOTIFIED        PRIM_CONTRIBUTORY_CAUSE  \\\n",
       "0  07/10/2019 06:16:00 PM               IMPROPER BACKING   \n",
       "1  06/30/2017 04:01:00 PM  FAILING TO YIELD RIGHT-OF-WAY   \n",
       "\n",
       "  SEC_CONTRIBUTORY_CAUSE  STREET_NO STREET_DIRECTION  STREET_NAME  \\\n",
       "0    UNABLE TO DETERMINE       2158                N  MARMORA AVE   \n",
       "1         NOT APPLICABLE       8301                S   CICERO AVE   \n",
       "\n",
       "   BEAT_OF_OCCURRENCE PHOTOS_TAKEN_I STATEMENTS_TAKEN_I DOORING_I WORK_ZONE_I  \\\n",
       "0              2515.0            NaN                NaN       NaN         NaN   \n",
       "1               834.0            NaN                NaN       NaN         NaN   \n",
       "\n",
       "  WORK_ZONE_TYPE WORKERS_PRESENT_I  NUM_UNITS       MOST_SEVERE_INJURY  \\\n",
       "0            NaN               NaN          2  NO INDICATION OF INJURY   \n",
       "1            NaN               NaN          2  NO INDICATION OF INJURY   \n",
       "\n",
       "   INJURIES_TOTAL  INJURIES_FATAL  INJURIES_INCAPACITATING  \\\n",
       "0             0.0             0.0                      0.0   \n",
       "1             0.0             0.0                      0.0   \n",
       "\n",
       "   INJURIES_NON_INCAPACITATING  INJURIES_REPORTED_NOT_EVIDENT  \\\n",
       "0                          0.0                            0.0   \n",
       "1                          0.0                            0.0   \n",
       "\n",
       "   INJURIES_NO_INDICATION  INJURIES_UNKNOWN  CRASH_HOUR  CRASH_DAY_OF_WEEK  \\\n",
       "0                     3.0               0.0          17                  4   \n",
       "1                     3.0               0.0          16                  6   \n",
       "\n",
       "   CRASH_MONTH   LATITUDE  LONGITUDE                                  LOCATION  \n",
       "0            7  41.919664 -87.773288  POINT (-87.773287883007 41.919663832993)  \n",
       "1            6  41.741804 -87.740954  POINT (-87.740953581987 41.741803598989)  "
      ]
     },
     "execution_count": 11,
     "metadata": {},
     "output_type": "execute_result"
    }
   ],
   "source": [
    "df.head(2)"
   ]
  },
  {
   "cell_type": "markdown",
   "metadata": {},
   "source": [
    "**Checking the value counts of multiple columns using for loop** "
   ]
  },
  {
   "cell_type": "code",
   "execution_count": 12,
   "metadata": {},
   "outputs": [
    {
     "name": "stdout",
     "output_type": "stream",
     "text": [
      "Y    102421\n",
      "N      5070\n",
      "Name: INTERSECTION_RELATED_I, dtype: int64\n",
      "_________________________________________________________________\n",
      "STRAIGHT AND LEVEL       463555\n",
      "STRAIGHT ON GRADE          5895\n",
      "CURVE, LEVEL               3671\n",
      "STRAIGHT ON HILLCREST      1484\n",
      "CURVE ON GRADE              714\n",
      "CURVE ON HILLCREST          234\n",
      "Name: ALIGNMENT, dtype: int64\n",
      "_________________________________________________________________\n",
      "Y    20381\n",
      "N     1949\n",
      "Name: NOT_RIGHT_OF_WAY_I, dtype: int64\n",
      "_________________________________________________________________\n",
      "Y    133188\n",
      "N      6089\n",
      "Name: HIT_AND_RUN_I, dtype: int64\n",
      "_________________________________________________________________\n",
      "Y    2450\n",
      "N     652\n",
      "Name: WORK_ZONE_I, dtype: int64\n",
      "_________________________________________________________________\n",
      "NO INDICATION OF INJURY     413464\n",
      "NONINCAPACITATING INJURY     33832\n",
      "REPORTED, NOT EVIDENT        19064\n",
      "INCAPACITATING INJURY         7759\n",
      "FATAL                          467\n",
      "Name: MOST_SEVERE_INJURY, dtype: int64\n",
      "_________________________________________________________________\n",
      "REAR END                        114001\n",
      "PARKED MOTOR VEHICLE            108655\n",
      "SIDESWIPE SAME DIRECTION         73572\n",
      "TURNING                          66519\n",
      "ANGLE                            50335\n",
      "FIXED OBJECT                     21818\n",
      "PEDESTRIAN                       11074\n",
      "SIDESWIPE OPPOSITE DIRECTION      7007\n",
      "PEDALCYCLIST                      6962\n",
      "OTHER OBJECT                      4511\n",
      "HEAD ON                           4044\n",
      "REAR TO FRONT                     2632\n",
      "REAR TO SIDE                      1624\n",
      "OTHER NONCOLLISION                1588\n",
      "REAR TO REAR                       586\n",
      "ANIMAL                             331\n",
      "OVERTURNED                         264\n",
      "TRAIN                               30\n",
      "Name: FIRST_CRASH_TYPE, dtype: int64\n",
      "_________________________________________________________________\n",
      "UNABLE TO DETERMINE                                                                 175445\n",
      "FAILING TO YIELD RIGHT-OF-WAY                                                        52502\n",
      "FOLLOWING TOO CLOSELY                                                                50804\n",
      "NOT APPLICABLE                                                                       25540\n",
      "IMPROPER OVERTAKING/PASSING                                                          22625\n",
      "IMPROPER BACKING                                                                     20829\n",
      "FAILING TO REDUCE SPEED TO AVOID CRASH                                               20494\n",
      "IMPROPER LANE USAGE                                                                  18474\n",
      "IMPROPER TURNING/NO SIGNAL                                                           15845\n",
      "DRIVING SKILLS/KNOWLEDGE/EXPERIENCE                                                  14808\n",
      "DISREGARDING TRAFFIC SIGNALS                                                          8609\n",
      "WEATHER                                                                               7867\n",
      "OPERATING VEHICLE IN ERRATIC, RECKLESS, CARELESS, NEGLIGENT OR AGGRESSIVE MANNER      5913\n",
      "DISREGARDING STOP SIGN                                                                5277\n",
      "DISTRACTION - FROM INSIDE VEHICLE                                                     3485\n",
      "EQUIPMENT - VEHICLE CONDITION                                                         2961\n",
      "PHYSICAL CONDITION OF DRIVER                                                          2793\n",
      "VISION OBSCURED (SIGNS, TREE LIMBS, BUILDINGS, ETC.)                                  2782\n",
      "UNDER THE INFLUENCE OF ALCOHOL/DRUGS (USE WHEN ARREST IS EFFECTED)                    2542\n",
      "DRIVING ON WRONG SIDE/WRONG WAY                                                       2228\n",
      "DISTRACTION - FROM OUTSIDE VEHICLE                                                    2114\n",
      "EXCEEDING AUTHORIZED SPEED LIMIT                                                      1982\n",
      "EXCEEDING SAFE SPEED FOR CONDITIONS                                                   1684\n",
      "ROAD ENGINEERING/SURFACE/MARKING DEFECTS                                              1352\n",
      "ROAD CONSTRUCTION/MAINTENANCE                                                         1159\n",
      "DISREGARDING OTHER TRAFFIC SIGNS                                                      1015\n",
      "EVASIVE ACTION DUE TO ANIMAL, OBJECT, NONMOTORIST                                      878\n",
      "CELL PHONE USE OTHER THAN TEXTING                                                      669\n",
      "DISREGARDING ROAD MARKINGS                                                             655\n",
      "HAD BEEN DRINKING (USE WHEN ARREST IS NOT MADE)                                        531\n",
      "ANIMAL                                                                                 407\n",
      "TURNING RIGHT ON RED                                                                   332\n",
      "DISTRACTION - OTHER ELECTRONIC DEVICE (NAVIGATION DEVICE, DVD PLAYER, ETC.)            230\n",
      "TEXTING                                                                                210\n",
      "DISREGARDING YIELD SIGN                                                                184\n",
      "RELATED TO BUS STOP                                                                    153\n",
      "BICYCLE ADVANCING LEGALLY ON RED LIGHT                                                  64\n",
      "PASSING STOPPED SCHOOL BUS                                                              61\n",
      "OBSTRUCTED CROSSWALKS                                                                   31\n",
      "MOTORCYCLE ADVANCING LEGALLY ON RED LIGHT                                               19\n",
      "Name: PRIM_CONTRIBUTORY_CAUSE, dtype: int64\n",
      "_________________________________________________________________\n"
     ]
    }
   ],
   "source": [
    "# finding value_counts of columns using for loop\n",
    "columns=['INTERSECTION_RELATED_I','ALIGNMENT','NOT_RIGHT_OF_WAY_I','HIT_AND_RUN_I',\n",
    "         'WORK_ZONE_I','MOST_SEVERE_INJURY','FIRST_CRASH_TYPE','PRIM_CONTRIBUTORY_CAUSE']\n",
    "for i in columns:\n",
    "    print(df[i].value_counts())\n",
    "    print('_________________________________________________________________')"
   ]
  },
  {
   "cell_type": "markdown",
   "metadata": {},
   "source": [
    "**Changing the column values to binary i.e(0 or 1) instead of (Y or N) using the lambda\n",
    "function in columns INTERSECTION_RELATED_I, NOT_RIGHT_OF_WAY_I, HIT_AND_RUN_I and\n",
    "WORK_ZONE_I.**"
   ]
  },
  {
   "cell_type": "code",
   "execution_count": 13,
   "metadata": {},
   "outputs": [],
   "source": [
    "#lambda fuction to change values to binary\n",
    "df['INTERSECTION_RELATED_I'] = df['INTERSECTION_RELATED_I'].map(lambda x: 1 if x=='Y' else 0)\n",
    "df['NOT_RIGHT_OF_WAY_I'] = df['NOT_RIGHT_OF_WAY_I'].map(lambda x:1 if x=='Y' else 0)\n",
    "df['HIT_AND_RUN_I'] =df['HIT_AND_RUN_I'].map(lambda x:1 if x=='Y' else 0)"
   ]
  },
  {
   "cell_type": "code",
   "execution_count": 14,
   "metadata": {},
   "outputs": [],
   "source": [
    "#replacing null values with 0 and lambda function to convert values to binary\n",
    "df['WORK_ZONE_I'].fillna(0, inplace=True)\n",
    "df['WORK_ZONE_I'] =df['WORK_ZONE_I'].map(lambda x:1 if x=='Y' else 0)"
   ]
  },
  {
   "cell_type": "markdown",
   "metadata": {},
   "source": [
    "**Replacing null values with 0 in multiple columns using for loop**"
   ]
  },
  {
   "cell_type": "code",
   "execution_count": 15,
   "metadata": {},
   "outputs": [],
   "source": [
    "#filling nu\n",
    "col=['INJURIES_TOTAL','INJURIES_FATAL','INJURIES_INCAPACITATING',\n",
    "     'INJURIES_NON_INCAPACITATING','INJURIES_REPORTED_NOT_EVIDENT',\n",
    "     'INJURIES_NO_INDICATION','LANE_CNT' ]\n",
    "for i in col:\n",
    "    df[i].fillna(0, inplace=True)"
   ]
  },
  {
   "cell_type": "markdown",
   "metadata": {},
   "source": [
    "**Dropping the inconclusive columns**"
   ]
  },
  {
   "cell_type": "code",
   "execution_count": 16,
   "metadata": {},
   "outputs": [],
   "source": [
    "#dropping the columns which are inconclusive\n",
    "drop_list = ['CRASH_DATE_EST_I', 'RD_NO','REPORT_TYPE','DATE_POLICE_NOTIFIED', \n",
    "             'STREET_DIRECTION', 'BEAT_OF_OCCURRENCE','PHOTOS_TAKEN_I','STATEMENTS_TAKEN_I', \n",
    "             'DOORING_I','WORK_ZONE_TYPE', 'WORKERS_PRESENT_I','LATITUDE', \n",
    "             'LONGITUDE','CRASH_RECORD_ID','INJURIES_UNKNOWN','STREET_NO',\n",
    "             'MOST_SEVERE_INJURY','SEC_CONTRIBUTORY_CAUSE','LOCATION','STREET_NAME']\n",
    "df.drop(columns = drop_list, inplace = True)"
   ]
  },
  {
   "cell_type": "code",
   "execution_count": 17,
   "metadata": {},
   "outputs": [
    {
     "name": "stdout",
     "output_type": "stream",
     "text": [
      "<class 'pandas.core.frame.DataFrame'>\n",
      "RangeIndex: 475553 entries, 0 to 475552\n",
      "Data columns (total 29 columns):\n",
      " #   Column                         Non-Null Count   Dtype         \n",
      "---  ------                         --------------   -----         \n",
      " 0   CRASH_DATE                     475553 non-null  datetime64[ns]\n",
      " 1   POSTED_SPEED_LIMIT             475553 non-null  int64         \n",
      " 2   TRAFFIC_CONTROL_DEVICE         475553 non-null  object        \n",
      " 3   DEVICE_CONDITION               475553 non-null  object        \n",
      " 4   WEATHER_CONDITION              475553 non-null  object        \n",
      " 5   LIGHTING_CONDITION             475553 non-null  object        \n",
      " 6   FIRST_CRASH_TYPE               475553 non-null  object        \n",
      " 7   TRAFFICWAY_TYPE                475553 non-null  object        \n",
      " 8   LANE_CNT                       475553 non-null  float64       \n",
      " 9   ALIGNMENT                      475553 non-null  object        \n",
      " 10  ROADWAY_SURFACE_COND           475553 non-null  object        \n",
      " 11  ROAD_DEFECT                    475553 non-null  object        \n",
      " 12  SEVERE                         475553 non-null  int64         \n",
      " 13  INTERSECTION_RELATED_I         475553 non-null  int64         \n",
      " 14  NOT_RIGHT_OF_WAY_I             475553 non-null  int64         \n",
      " 15  HIT_AND_RUN_I                  475553 non-null  int64         \n",
      " 16  DAMAGE                         475553 non-null  object        \n",
      " 17  PRIM_CONTRIBUTORY_CAUSE        475553 non-null  object        \n",
      " 18  WORK_ZONE_I                    475553 non-null  int64         \n",
      " 19  NUM_UNITS                      475553 non-null  int64         \n",
      " 20  INJURIES_TOTAL                 475553 non-null  float64       \n",
      " 21  INJURIES_FATAL                 475553 non-null  float64       \n",
      " 22  INJURIES_INCAPACITATING        475553 non-null  float64       \n",
      " 23  INJURIES_NON_INCAPACITATING    475553 non-null  float64       \n",
      " 24  INJURIES_REPORTED_NOT_EVIDENT  475553 non-null  float64       \n",
      " 25  INJURIES_NO_INDICATION         475553 non-null  float64       \n",
      " 26  CRASH_HOUR                     475553 non-null  int64         \n",
      " 27  CRASH_DAY_OF_WEEK              475553 non-null  int64         \n",
      " 28  CRASH_MONTH                    475553 non-null  int64         \n",
      "dtypes: datetime64[ns](1), float64(7), int64(10), object(11)\n",
      "memory usage: 105.2+ MB\n"
     ]
    }
   ],
   "source": [
    "#printing the shape of dataframe after droppin the columns\n",
    "df.info()"
   ]
  },
  {
   "cell_type": "markdown",
   "metadata": {},
   "source": [
    "**Capped the continuous values of the column 'INJURIES_NO_INDICATION ' greater than 7\n",
    " assigned to 7**"
   ]
  },
  {
   "cell_type": "code",
   "execution_count": 18,
   "metadata": {},
   "outputs": [
    {
     "name": "stdout",
     "output_type": "stream",
     "text": [
      "2.0     222564\n",
      "1.0     141725\n",
      "3.0      61269\n",
      "4.0      23295\n",
      "5.0       9776\n",
      "0.0       9736\n",
      "6.0       4158\n",
      "7.0       1579\n",
      "8.0        715\n",
      "9.0        302\n",
      "10.0       153\n",
      "11.0        72\n",
      "12.0        42\n",
      "14.0        28\n",
      "13.0        28\n",
      "16.0        16\n",
      "15.0        14\n",
      "17.0        10\n",
      "20.0         9\n",
      "21.0         6\n",
      "30.0         5\n",
      "37.0         5\n",
      "18.0         4\n",
      "26.0         4\n",
      "27.0         4\n",
      "19.0         4\n",
      "22.0         4\n",
      "31.0         3\n",
      "36.0         3\n",
      "42.0         3\n",
      "40.0         2\n",
      "29.0         2\n",
      "24.0         2\n",
      "28.0         2\n",
      "38.0         1\n",
      "25.0         1\n",
      "46.0         1\n",
      "34.0         1\n",
      "50.0         1\n",
      "33.0         1\n",
      "32.0         1\n",
      "61.0         1\n",
      "39.0         1\n",
      "Name: INJURIES_NO_INDICATION, dtype: int64\n",
      "2.0    222564\n",
      "1.0    141725\n",
      "3.0     61269\n",
      "4.0     23295\n",
      "5.0      9776\n",
      "0.0      9736\n",
      "6.0      4158\n",
      "7.0      3030\n",
      "Name: INJURIES_NO_INDICATION, dtype: int64\n"
     ]
    }
   ],
   "source": [
    "#capped to 7\n",
    "print(df['INJURIES_NO_INDICATION'].value_counts())\n",
    "df['INJURIES_NO_INDICATION'].values[df['INJURIES_NO_INDICATION'] > 7] =7\n",
    "print(df['INJURIES_NO_INDICATION'].value_counts())"
   ]
  },
  {
   "cell_type": "markdown",
   "metadata": {},
   "source": [
    "**Capped the continuous values of the column 'NUM_UNITS' greater than 6\n",
    " assigned to 6**"
   ]
  },
  {
   "cell_type": "code",
   "execution_count": 19,
   "metadata": {},
   "outputs": [
    {
     "name": "stdout",
     "output_type": "stream",
     "text": [
      "2     418363\n",
      "1      25445\n",
      "3      25319\n",
      "4       4767\n",
      "5       1116\n",
      "6        335\n",
      "7        120\n",
      "8         41\n",
      "9         26\n",
      "10        10\n",
      "11         5\n",
      "12         2\n",
      "18         1\n",
      "16         1\n",
      "15         1\n",
      "14         1\n",
      "Name: NUM_UNITS, dtype: int64\n",
      "2    418363\n",
      "1     25445\n",
      "3     25319\n",
      "4      4767\n",
      "5      1116\n",
      "6       543\n",
      "Name: NUM_UNITS, dtype: int64\n"
     ]
    }
   ],
   "source": [
    "# capped at 6\n",
    "print(df['NUM_UNITS'].value_counts())\n",
    "df['NUM_UNITS'].values[df['NUM_UNITS'] > 6] = 6\n",
    "print(df['NUM_UNITS'].value_counts())"
   ]
  },
  {
   "cell_type": "markdown",
   "metadata": {},
   "source": [
    "**Capped the continuous values of the column 'INJURIES_TOTAL' greater than 5\n",
    " assigned to 5**"
   ]
  },
  {
   "cell_type": "code",
   "execution_count": 20,
   "metadata": {},
   "outputs": [
    {
     "name": "stdout",
     "output_type": "stream",
     "text": [
      "0.0     414431\n",
      "1.0      46295\n",
      "2.0       9998\n",
      "3.0       3053\n",
      "4.0       1086\n",
      "5.0        409\n",
      "6.0        160\n",
      "7.0         60\n",
      "8.0         20\n",
      "9.0         14\n",
      "10.0         9\n",
      "15.0         5\n",
      "11.0         5\n",
      "12.0         2\n",
      "13.0         2\n",
      "21.0         2\n",
      "16.0         1\n",
      "19.0         1\n",
      "Name: INJURIES_TOTAL, dtype: int64\n",
      "0.0    414431\n",
      "1.0     46295\n",
      "2.0      9998\n",
      "3.0      3053\n",
      "4.0      1086\n",
      "5.0       690\n",
      "Name: INJURIES_TOTAL, dtype: int64\n"
     ]
    }
   ],
   "source": [
    "#capped to 5\n",
    "print(df['INJURIES_TOTAL'].value_counts())\n",
    "df['INJURIES_TOTAL'].values[df['INJURIES_TOTAL'] > 5] = 5\n",
    "print(df['INJURIES_TOTAL'].value_counts())"
   ]
  },
  {
   "cell_type": "markdown",
   "metadata": {},
   "source": [
    "**Merging and replacing the values of the column WEATHER_CONDITION to reduced the categorical values in the column.**\n",
    "- UNKNOWN and OTHER to UNKNOWN/OTHER\n",
    "- FREEZING RAIN/DRIZZLE to SLEET/HAIL\n",
    "- BLOWING SNOW to SNOW\n",
    "- SEVERE CROSS WIND GATE to CLOUDY/OVERCAST\n",
    "- BLOWING SAND, SOIL, DIRT to UNKNOWN/OTHER"
   ]
  },
  {
   "cell_type": "code",
   "execution_count": 21,
   "metadata": {},
   "outputs": [
    {
     "data": {
      "text/plain": [
       "CLEAR                       376055\n",
       "RAIN                         42732\n",
       "UNKNOWN                      20639\n",
       "SNOW                         18052\n",
       "CLOUDY/OVERCAST              14273\n",
       "OTHER                         1508\n",
       "FOG/SMOKE/HAZE                 818\n",
       "SLEET/HAIL                     701\n",
       "FREEZING RAIN/DRIZZLE          555\n",
       "BLOWING SNOW                   120\n",
       "SEVERE CROSS WIND GATE          98\n",
       "BLOWING SAND, SOIL, DIRT         2\n",
       "Name: WEATHER_CONDITION, dtype: int64"
      ]
     },
     "execution_count": 21,
     "metadata": {},
     "output_type": "execute_result"
    }
   ],
   "source": [
    "#printing the value counts\n",
    "df['WEATHER_CONDITION'].value_counts()"
   ]
  },
  {
   "cell_type": "code",
   "execution_count": 22,
   "metadata": {},
   "outputs": [
    {
     "data": {
      "text/plain": [
       "CLEAR              376055\n",
       "RAIN                42732\n",
       "UNKNOWN/OTHER       22149\n",
       "SNOW                18172\n",
       "CLOUDY/OVERCAST     14371\n",
       "SLEET/HAIL           1256\n",
       "FOG/SMOKE/HAZE        818\n",
       "Name: WEATHER_CONDITION, dtype: int64"
      ]
     },
     "execution_count": 22,
     "metadata": {},
     "output_type": "execute_result"
    }
   ],
   "source": [
    "#merging the values  and printing the value counts after merge\n",
    "df['WEATHER_CONDITION'] = df['WEATHER_CONDITION'].replace({'UNKNOWN':'UNKNOWN/OTHER','OTHER':'UNKNOWN/OTHER',\n",
    "                                                     'FREEZING RAIN/DRIZZLE': 'SLEET/HAIL',\n",
    "                                                     'BLOWING SNOW': 'SNOW',\n",
    "                                                      'SEVERE CROSS WIND GATE': 'CLOUDY/OVERCAST',\n",
    "                                                     'BLOWING SAND, SOIL, DIRT': 'UNKNOWN/OTHER'})\n",
    "df['WEATHER_CONDITION'].value_counts()"
   ]
  },
  {
   "cell_type": "markdown",
   "metadata": {},
   "source": [
    "**Merging and replacing the values of the column 'ROADWAY_SURFACE_COND'  to reduced the categorical values in the column.**\n",
    "- UNKNOWN  - UNKNOWN/OTHER\n",
    "- OTHER    - UNKNOWN/OTHER\n",
    "- SAND, MUD, DIRT - UNKNOWN/OTHER\n",
    "- ICE   -  SNOW OR SLUSH"
   ]
  },
  {
   "cell_type": "code",
   "execution_count": 23,
   "metadata": {},
   "outputs": [
    {
     "data": {
      "text/plain": [
       "DRY                355877\n",
       "WET                 65685\n",
       "UNKNOWN             31407\n",
       "SNOW OR SLUSH       17521\n",
       "ICE                  3730\n",
       "OTHER                1118\n",
       "SAND, MUD, DIRT       215\n",
       "Name: ROADWAY_SURFACE_COND, dtype: int64"
      ]
     },
     "execution_count": 23,
     "metadata": {},
     "output_type": "execute_result"
    }
   ],
   "source": [
    "#printing the value_counts\n",
    "df['ROADWAY_SURFACE_COND'].value_counts()"
   ]
  },
  {
   "cell_type": "code",
   "execution_count": 24,
   "metadata": {},
   "outputs": [
    {
     "data": {
      "text/plain": [
       "DRY              355877\n",
       "WET               65685\n",
       "UNKNOWN/OTHER     32740\n",
       "SNOW OR SLUSH     21251\n",
       "Name: ROADWAY_SURFACE_COND, dtype: int64"
      ]
     },
     "execution_count": 24,
     "metadata": {},
     "output_type": "execute_result"
    }
   ],
   "source": [
    "#merging the values and printing the new value counts\n",
    "df['ROADWAY_SURFACE_COND'] =df['ROADWAY_SURFACE_COND'].replace({'UNKNOWN':'UNKNOWN/OTHER',\n",
    "                                                                 'OTHER':'UNKNOWN/OTHER',\n",
    "                                                               'SAND, MUD, DIRT': 'UNKNOWN/OTHER',\n",
    "                                                                 'ICE': 'SNOW OR SLUSH'})\n",
    "df['ROADWAY_SURFACE_COND'].value_counts()"
   ]
  },
  {
   "cell_type": "markdown",
   "metadata": {},
   "source": [
    "**Merging and replacing the values of the column 'TRAFFIC_CONTROL_DEVICE'  to reduced the categorical values in the column.**\n",
    "- UNKNOWN - UNKNOWN/OTHER\n",
    "- OTHER - UNKNOWN/OTHER\n",
    "- FLASHING CONTROL SIGNAL- STOP SIGN/FLASHER\n",
    "- OTHER RAILROAD CROSSING - RAILROAD CROSSING GATE"
   ]
  },
  {
   "cell_type": "code",
   "execution_count": 25,
   "metadata": {},
   "outputs": [
    {
     "data": {
      "text/plain": [
       "NO CONTROLS                 273353\n",
       "TRAFFIC SIGNAL              132591\n",
       "STOP SIGN/FLASHER            47224\n",
       "UNKNOWN                      15355\n",
       "OTHER                         2913\n",
       "LANE USE MARKING              1226\n",
       "YIELD                          683\n",
       "OTHER REG. SIGN                467\n",
       "OTHER WARNING SIGN             414\n",
       "RAILROAD CROSSING GATE         313\n",
       "PEDESTRIAN CROSSING SIGN       206\n",
       "POLICE/FLAGMAN                 181\n",
       "SCHOOL ZONE                    168\n",
       "DELINEATORS                    142\n",
       "FLASHING CONTROL SIGNAL        131\n",
       "OTHER RAILROAD CROSSING        110\n",
       "RR CROSSING SIGN                41\n",
       "NO PASSING                      21\n",
       "BICYCLE CROSSING SIGN           14\n",
       "Name: TRAFFIC_CONTROL_DEVICE, dtype: int64"
      ]
     },
     "execution_count": 25,
     "metadata": {},
     "output_type": "execute_result"
    }
   ],
   "source": [
    "#printing value_counts\n",
    "df['TRAFFIC_CONTROL_DEVICE'].value_counts()"
   ]
  },
  {
   "cell_type": "code",
   "execution_count": 26,
   "metadata": {},
   "outputs": [
    {
     "data": {
      "text/plain": [
       "NO CONTROLS                 273353\n",
       "TRAFFIC SIGNAL              132591\n",
       "STOP SIGN/FLASHER            47224\n",
       "UNKNOWN/OTHER                18268\n",
       "LANE USE MARKING              1226\n",
       "YIELD                          683\n",
       "OTHER REG. SIGN                467\n",
       "RAILROAD CROSSING GATE         423\n",
       "OTHER WARNING SIGN             414\n",
       "PEDESTRIAN CROSSING SIGN       206\n",
       "POLICE/FLAGMAN                 181\n",
       "SCHOOL ZONE                    168\n",
       "DELINEATORS                    142\n",
       "STOP SIGN/FALSHER              131\n",
       "RR CROSSING SIGN                41\n",
       "NO PASSING                      21\n",
       "BICYCLE CROSSING SIGN           14\n",
       "Name: TRAFFIC_CONTROL_DEVICE, dtype: int64"
      ]
     },
     "execution_count": 26,
     "metadata": {},
     "output_type": "execute_result"
    }
   ],
   "source": [
    "#merging and replacing values, printing the new value counts\n",
    "df['TRAFFIC_CONTROL_DEVICE']=df['TRAFFIC_CONTROL_DEVICE'].replace(\n",
    "                            {'UNKNOWN':'UNKNOWN/OTHER',\n",
    "                            'OTHER':'UNKNOWN/OTHER',\n",
    "                            'FLASHING CONTROL SIGNAL':'STOP SIGN/FALSHER',\n",
    "                              'OTHER RAILROAD CROSSING':'RAILROAD CROSSING GATE'})\n",
    "df['TRAFFIC_CONTROL_DEVICE'].value_counts()"
   ]
  },
  {
   "cell_type": "markdown",
   "metadata": {},
   "source": [
    "**Merging and replacing the values of the column 'ROAD_DEFECT'  to reduced the categorical values in the column.**\n",
    "- UNKNOWN - UNKNOWN/OTHER\n",
    "- OTHER    -UNKNOWN/OTHER"
   ]
  },
  {
   "cell_type": "code",
   "execution_count": 27,
   "metadata": {},
   "outputs": [
    {
     "data": {
      "text/plain": [
       "NO DEFECTS           395713\n",
       "UNKNOWN               69368\n",
       "RUT, HOLES             4408\n",
       "OTHER                  2679\n",
       "WORN SURFACE           1934\n",
       "SHOULDER DEFECT        1040\n",
       "DEBRIS ON ROADWAY       411\n",
       "Name: ROAD_DEFECT, dtype: int64"
      ]
     },
     "execution_count": 27,
     "metadata": {},
     "output_type": "execute_result"
    }
   ],
   "source": [
    "#Printing value counts\n",
    "df['ROAD_DEFECT'].value_counts()"
   ]
  },
  {
   "cell_type": "code",
   "execution_count": 28,
   "metadata": {},
   "outputs": [
    {
     "data": {
      "text/plain": [
       "NO DEFECTS           395713\n",
       "UNKNOWN/OTHER         72047\n",
       "RUT, HOLES             4408\n",
       "WORN SURFACE           1934\n",
       "SHOULDER DEFECT        1040\n",
       "DEBRIS ON ROADWAY       411\n",
       "Name: ROAD_DEFECT, dtype: int64"
      ]
     },
     "execution_count": 28,
     "metadata": {},
     "output_type": "execute_result"
    }
   ],
   "source": [
    "#merging and replacing the values \n",
    "df['ROAD_DEFECT'] = df['ROAD_DEFECT'].replace({'UNKNOWN':'UNKNOWN/OTHER',\n",
    "                            'OTHER':'UNKNOWN/OTHER'})\n",
    "#printing the new value counts\n",
    "df['ROAD_DEFECT'].value_counts()"
   ]
  },
  {
   "cell_type": "markdown",
   "metadata": {},
   "source": [
    "**Merging and replacing the values of the column 'TRAFFICWAY_TYPE' to reduced the categorical values in the column.**\n",
    "- T-INTERSECTION - INTERSECTION\n",
    "- UNKNOWN INTERSECTION TYPE - INTERSECTION\n",
    "- Y-INTERSECTION - INTERSECTION\n",
    "- L-INTERSECTION - INTERSECTION\n",
    "- FIVE POINT, OR MORE - INTERSECTION\n",
    "- FOUR WAY - INTERSECTION\n",
    "- ROUNDABOUT - INTERSECTION \n",
    "- OTHER - UNKNOWN/OTHER\n",
    "- UNKNOWN - UNKNOWN/OTHER\n",
    "- NOT REPORTED- UNKNOWN/OTHER\n",
    "- TRAFFIC ROUTE - UNKNOWN/OTHER"
   ]
  },
  {
   "cell_type": "code",
   "execution_count": 29,
   "metadata": {},
   "outputs": [
    {
     "data": {
      "text/plain": [
       "NOT DIVIDED                        212410\n",
       "DIVIDED - W/MEDIAN (NOT RAISED)     84236\n",
       "ONE-WAY                             63078\n",
       "PARKING LOT                         33684\n",
       "DIVIDED - W/MEDIAN BARRIER          28445\n",
       "FOUR WAY                            14619\n",
       "OTHER                               13543\n",
       "ALLEY                                7754\n",
       "UNKNOWN                              5194\n",
       "CENTER TURN LANE                     4083\n",
       "T-INTERSECTION                       3125\n",
       "DRIVEWAY                             1652\n",
       "RAMP                                 1523\n",
       "UNKNOWN INTERSECTION TYPE             921\n",
       "Y-INTERSECTION                        377\n",
       "FIVE POINT, OR MORE                   371\n",
       "TRAFFIC ROUTE                         274\n",
       "NOT REPORTED                          124\n",
       "ROUNDABOUT                             89\n",
       "L-INTERSECTION                         51\n",
       "Name: TRAFFICWAY_TYPE, dtype: int64"
      ]
     },
     "execution_count": 29,
     "metadata": {},
     "output_type": "execute_result"
    }
   ],
   "source": [
    "#printing value counts\n",
    "df['TRAFFICWAY_TYPE'].value_counts()"
   ]
  },
  {
   "cell_type": "code",
   "execution_count": 30,
   "metadata": {},
   "outputs": [
    {
     "data": {
      "text/plain": [
       "NOT DIVIDED                        212410\n",
       "DIVIDED - W/MEDIAN (NOT RAISED)     84236\n",
       "ONE-WAY                             63078\n",
       "PARKING LOT                         33684\n",
       "DIVIDED - W/MEDIAN BARRIER          28445\n",
       "INTERSECTION                        19553\n",
       "UNKNOWN/OTHER                       19135\n",
       "ALLEY                                7754\n",
       "CENTER TURN LANE                     4083\n",
       "DRIVEWAY                             1652\n",
       "RAMP                                 1523\n",
       "Name: TRAFFICWAY_TYPE, dtype: int64"
      ]
     },
     "execution_count": 30,
     "metadata": {},
     "output_type": "execute_result"
    }
   ],
   "source": [
    "# merged the different types of intersections into one feature and unknown/other into one feature\n",
    "df['TRAFFICWAY_TYPE'] = df['TRAFFICWAY_TYPE'].replace({'T-INTERSECTION':'INTERSECTION', 'UNKNOWN INTERSECTION TYPE':'INTERSECTION',\n",
    "                                                'Y-INTERSECTION':'INTERSECTION','L-INTERSECTION':'INTERSECTION',\n",
    "                                                 'FIVE POINT, OR MORE': 'INTERSECTION', 'FOUR WAY':'INTERSECTION',\n",
    "                                                 'ROUNDABOUT': 'INTERSECTION', 'OTHER': 'UNKNOWN/OTHER',\n",
    "                                                'UNKNOWN':'UNKNOWN/OTHER','NOT REPORTED':'UNKNOWN/OTHER',\n",
    "                                                'TRAFFIC ROUTE':'UNKNOWN/OTHER'})\n",
    "#printing new value counts\n",
    "df.TRAFFICWAY_TYPE.value_counts()"
   ]
  },
  {
   "cell_type": "markdown",
   "metadata": {},
   "source": [
    "# Feature Engineering"
   ]
  },
  {
   "cell_type": "code",
   "execution_count": 31,
   "metadata": {},
   "outputs": [
    {
     "data": {
      "text/plain": [
       "(array([0, 1, 2, 3, 4, 5, 6, 7, 8, 9]),\n",
       " <a list of 10 Text major ticklabel objects>)"
      ]
     },
     "execution_count": 31,
     "metadata": {},
     "output_type": "execute_result"
    },
    {
     "data": {
      "image/png": "[encoded data removed]",
      "text/plain": [
       "<Figure size 720x504 with 1 Axes>"
      ]
     },
     "metadata": {
      "needs_background": "light"
     },
     "output_type": "display_data"
    }
   ],
   "source": [
    "#bar plot of Primary contributory cause\n",
    "df['PRIM_CONTRIBUTORY_CAUSE'].value_counts(normalize = True).head(10).plot(kind = 'bar', figsize = (10,7))\n",
    "plt.title('Primary Cause of Accidents')\n",
    "plt.xlabel('Cause of Accident')\n",
    "plt.ylabel('Number of Accidents')\n",
    "plt.xticks(rotation=85)\n"
   ]
  },
  {
   "cell_type": "markdown",
   "metadata": {},
   "source": [
    "**Primary cause  of most of the accidents is unable to determine.**"
   ]
  },
  {
   "cell_type": "markdown",
   "metadata": {},
   "source": [
    "Binning the column CRASH_MONTH to seasons and added a 'SEASON' column to dataframe."
   ]
  },
  {
   "cell_type": "code",
   "execution_count": 32,
   "metadata": {},
   "outputs": [],
   "source": [
    "#binning the CRASH_MONTH\n",
    "month_bins = [1,4,7,10,13]\n",
    "label=('Winter','Spring','Summer','Fall')\n",
    "month_binned = pd.cut(df['CRASH_MONTH'], month_bins, labels= label)\n",
    "month_binned= month_binned.cat.as_unordered()\n",
    "df['SEASON']= month_binned"
   ]
  },
  {
   "cell_type": "code",
   "execution_count": 33,
   "metadata": {},
   "outputs": [
    {
     "data": {
      "text/plain": [
       "Summer    131721\n",
       "Spring    115098\n",
       "Winter    100112\n",
       "Fall       87164\n",
       "Name: SEASON, dtype: int64"
      ]
     },
     "execution_count": 33,
     "metadata": {},
     "output_type": "execute_result"
    }
   ],
   "source": [
    "df['SEASON'].value_counts()"
   ]
  },
  {
   "cell_type": "code",
   "execution_count": 34,
   "metadata": {},
   "outputs": [
    {
     "data": {
      "text/plain": [
       "(array([0, 1, 2, 3]), <a list of 4 Text major ticklabel objects>)"
      ]
     },
     "execution_count": 34,
     "metadata": {},
     "output_type": "execute_result"
    },
    {
     "data": {
      "image/png": "[encoded data removed]",
      "text/plain": [
       "<Figure size 720x576 with 1 Axes>"
      ]
     },
     "metadata": {
      "needs_background": "light"
     },
     "output_type": "display_data"
    }
   ],
   "source": [
    "plt.figure(figsize=(10,8))\n",
    "sns.countplot(x=\"SEASON\", data=df, hue=\"SEVERE\")\n",
    "plt.title('Number of Accidents by Season')\n",
    "plt.xlabel('Season')\n",
    "plt.ylabel('Number of Accidents')\n",
    "plt.xticks(rotation=40)"
   ]
  },
  {
   "cell_type": "markdown",
   "metadata": {},
   "source": [
    "**Looking at the graph, most number of accidents occurred in summer**"
   ]
  },
  {
   "cell_type": "code",
   "execution_count": 35,
   "metadata": {},
   "outputs": [
    {
     "data": {
      "text/plain": [
       "([<matplotlib.axis.XTick at 0x2570b33a910>,\n",
       "  <matplotlib.axis.XTick at 0x2570b33a8e0>,\n",
       "  <matplotlib.axis.XTick at 0x2570b3315b0>,\n",
       "  <matplotlib.axis.XTick at 0x2570801ea90>,\n",
       "  <matplotlib.axis.XTick at 0x2570801efa0>,\n",
       "  <matplotlib.axis.XTick at 0x2570802a4f0>,\n",
       "  <matplotlib.axis.XTick at 0x2570802aa00>],\n",
       " [Text(0, 0, 'Sun'),\n",
       "  Text(0, 0, 'Mon'),\n",
       "  Text(0, 0, 'Tue'),\n",
       "  Text(0, 0, 'Wed'),\n",
       "  Text(0, 0, 'Thr'),\n",
       "  Text(0, 0, 'Fri'),\n",
       "  Text(0, 0, 'Sat')])"
      ]
     },
     "execution_count": 35,
     "metadata": {},
     "output_type": "execute_result"
    },
    {
     "data": {
      "image/png": "[encoded data removed]",
      "text/plain": [
       "<Figure size 720x576 with 1 Axes>"
      ]
     },
     "metadata": {
      "needs_background": "light"
     },
     "output_type": "display_data"
    }
   ],
   "source": [
    "#counterplot of CRASH_DAY_OF_WEEK\n",
    "plt.figure(figsize=(10,8))\n",
    "sns.countplot(x= \"CRASH_DAY_OF_WEEK\" , data=df, \n",
    "              hue=\"SEVERE\")\n",
    "plt.title('Accidents by Day of Week')\n",
    "plt.xlabel('Day of Week')\n",
    "plt.ylabel('Number of Accidents')\n",
    "plt.xticks(np.arange(7), ('Sun','Mon','Tue','Wed','Thr','Fri','Sat'), \n",
    "           rotation=40)"
   ]
  },
  {
   "cell_type": "markdown",
   "metadata": {},
   "source": [
    "**It seems most accidents occurred on weekend mainly(Friday and Saturday).**"
   ]
  },
  {
   "cell_type": "code",
   "execution_count": 36,
   "metadata": {},
   "outputs": [
    {
     "data": {
      "image/png": "[encoded data removed]",
      "text/plain": [
       "<Figure size 720x576 with 1 Axes>"
      ]
     },
     "metadata": {
      "needs_background": "light"
     },
     "output_type": "display_data"
    }
   ],
   "source": [
    "# CRASH_HOUR histogram plot\n",
    "plt.figure(figsize=(10,8))\n",
    "df['CRASH_HOUR'].plot(kind = 'hist', bins = 24)\n",
    "plt.title('Hour of Accident')\n",
    "plt.xlabel('Hour of Day')\n",
    "plt.ylabel('Number of Accidents')\n",
    "plt.show()"
   ]
  },
  {
   "cell_type": "markdown",
   "metadata": {},
   "source": [
    "**Noticed increased number of the accidents in the rush hour.**"
   ]
  },
  {
   "cell_type": "code",
   "execution_count": 37,
   "metadata": {},
   "outputs": [
    {
     "data": {
      "text/plain": [
       "(array([0, 1, 2, 3, 4, 5, 6]), <a list of 7 Text major ticklabel objects>)"
      ]
     },
     "execution_count": 37,
     "metadata": {},
     "output_type": "execute_result"
    },
    {
     "data": {
      "image/png": "[encoded data removed]",
      "text/plain": [
       "<Figure size 720x576 with 1 Axes>"
      ]
     },
     "metadata": {
      "needs_background": "light"
     },
     "output_type": "display_data"
    }
   ],
   "source": [
    "#bar plot of WEATHER_CONDITION\n",
    "weather = df.groupby(['WEATHER_CONDITION', 'SEVERE'])['WEATHER_CONDITION'].count().unstack()\n",
    "weather.plot( kind='bar', stacked=True, figsize =(10,8))\n",
    "plt.title('Effects of Weather Conditon')\n",
    "plt.xlabel('Weather condition')\n",
    "plt.ylabel('Number of Accidents')\n",
    "plt.xticks(rotation=75)"
   ]
  },
  {
   "cell_type": "markdown",
   "metadata": {},
   "source": [
    "**Most accidents occurred in a clear weather condition**"
   ]
  },
  {
   "cell_type": "code",
   "execution_count": 38,
   "metadata": {},
   "outputs": [
    {
     "data": {
      "text/plain": [
       "(array([0, 1, 2, 3]), <a list of 4 Text major ticklabel objects>)"
      ]
     },
     "execution_count": 38,
     "metadata": {},
     "output_type": "execute_result"
    },
    {
     "data": {
      "image/png": "[encoded data removed]",
      "text/plain": [
       "<Figure size 720x576 with 1 Axes>"
      ]
     },
     "metadata": {
      "needs_background": "light"
     },
     "output_type": "display_data"
    }
   ],
   "source": [
    "#counter plot of RAODWAY_SURFACE_COND\n",
    "plt.figure(figsize=(10,8))\n",
    "sns.countplot(x=\"ROADWAY_SURFACE_COND\", data=df, hue=\"SEVERE\")\n",
    "plt.title('Effects of Road Conditions')\n",
    "plt.xlabel('Road Condition')\n",
    "plt.ylabel('Number of Accidents')\n",
    "plt.xticks(rotation=75)"
   ]
  },
  {
   "cell_type": "markdown",
   "metadata": {},
   "source": [
    "**Noticed most accidents happened in a DRY Road condition.**"
   ]
  },
  {
   "cell_type": "markdown",
   "metadata": {},
   "source": [
    "**Counter plot of Damage cost**"
   ]
  },
  {
   "cell_type": "code",
   "execution_count": 39,
   "metadata": {},
   "outputs": [
    {
     "data": {
      "text/plain": [
       "(array([0, 1, 2]), <a list of 3 Text major ticklabel objects>)"
      ]
     },
     "execution_count": 39,
     "metadata": {},
     "output_type": "execute_result"
    },
    {
     "data": {
      "image/png": "[encoded data removed]",
      "text/plain": [
       "<Figure size 720x576 with 1 Axes>"
      ]
     },
     "metadata": {
      "needs_background": "light"
     },
     "output_type": "display_data"
    }
   ],
   "source": [
    "#counter plot of DAMAGE\n",
    "plt.figure(figsize=(10,8))\n",
    "sns.countplot(x=\"DAMAGE\", data=df, hue=\"SEVERE\")\n",
    "plt.title('Cost of Damage')\n",
    "plt.xlabel('Cost')\n",
    "plt.ylabel('Number of Accidents')\n",
    "plt.xticks(rotation=40)"
   ]
  },
  {
   "cell_type": "markdown",
   "metadata": {},
   "source": [
    "**Large number of accidents as damage over $1500.**"
   ]
  },
  {
   "cell_type": "markdown",
   "metadata": {},
   "source": [
    "**Creating the dummies for categorical columns**"
   ]
  },
  {
   "cell_type": "code",
   "execution_count": 40,
   "metadata": {},
   "outputs": [],
   "source": [
    "#creating the dummies\n",
    "dummies=['TRAFFIC_CONTROL_DEVICE','DEVICE_CONDITION', 'WEATHER_CONDITION', \n",
    "         'LIGHTING_CONDITION', 'FIRST_CRASH_TYPE' , 'TRAFFICWAY_TYPE', \n",
    "         'ROADWAY_SURFACE_COND', 'ALIGNMENT','SEASON',\n",
    "         'ROAD_DEFECT', 'DAMAGE', 'PRIM_CONTRIBUTORY_CAUSE']\n",
    "df =  pd.get_dummies(df, columns = dummies, drop_first = True )"
   ]
  },
  {
   "cell_type": "code",
   "execution_count": 41,
   "metadata": {},
   "outputs": [
    {
     "name": "stdout",
     "output_type": "stream",
     "text": [
      "<class 'pandas.core.frame.DataFrame'>\n",
      "RangeIndex: 475553 entries, 0 to 475552\n",
      "Columns: 136 entries, CRASH_DATE to PRIM_CONTRIBUTORY_CAUSE_WEATHER\n",
      "dtypes: datetime64[ns](1), float64(7), int64(10), uint8(118)\n",
      "memory usage: 118.8 MB\n"
     ]
    }
   ],
   "source": [
    "#printing the dataframe after the scrubbing\n",
    "df.info()"
   ]
  },
  {
   "cell_type": "code",
   "execution_count": 42,
   "metadata": {},
   "outputs": [],
   "source": [
    "#saving and converting the cleaned dataframe to csv file\n",
    "df.to_csv('carcrash_cleaned_data')"
   ]
  },
  {
   "cell_type": "code",
   "execution_count": null,
   "metadata": {},
   "outputs": [],
   "source": []
  }
 ],
 "metadata": {
  "kernelspec": {
   "display_name": "Python 3",
   "language": "python",
   "name": "python3"
  },
  "language_info": {
   "codemirror_mode": {
    "name": "ipython",
    "version": 3
   },
   "file_extension": ".py",
   "mimetype": "text/x-python",
   "name": "python",
   "nbconvert_exporter": "python",
   "pygments_lexer": "ipython3",
   "version": "3.8.3"
  },
  "toc": {
   "base_numbering": 1,
   "nav_menu": {},
   "number_sections": true,
   "sideBar": true,
   "skip_h1_title": false,
   "title_cell": "Table of Contents",
   "title_sidebar": "Contents",
   "toc_cell": false,
   "toc_position": {},
   "toc_section_display": true,
   "toc_window_display": false
  },
  "varInspector": {
   "cols": {
    "lenName": 16,
    "lenType": 16,
    "lenVar": 40
   },
   "kernels_config": {
    "python": {
     "delete_cmd_postfix": "",
     "delete_cmd_prefix": "del ",
     "library": "var_list.py",
     "varRefreshCmd": "print(var_dic_list())"
    },
    "r": {
     "delete_cmd_postfix": ") ",
     "delete_cmd_prefix": "rm(",
     "library": "var_list.r",
     "varRefreshCmd": "cat(var_dic_list()) "
    }
   },
   "types_to_exclude": [
    "module",
    "function",
    "builtin_function_or_method",
    "instance",
    "_Feature"
   ],
   "window_display": false
  }
 },
 "nbformat": 4,
 "nbformat_minor": 4
}

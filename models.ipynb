{
 "cells": [
  {
   "cell_type": "markdown",
   "metadata": {},
   "source": [
    "# Chicago Car Crashes Project"
   ]
  },
  {
   "cell_type": "code",
   "execution_count": 1,
   "metadata": {},
   "outputs": [],
   "source": [
    "#importing libraries\n",
    "import pandas as pd\n",
    "import numpy as np\n",
    "import seaborn as sns\n",
    "import matplotlib.pyplot as plt\n",
    "%matplotlib inline\n",
    "\n",
    "pd.set_option('display.max_columns', 100)\n",
    "pd.set_option('display.max_rows', 100)"
   ]
  },
  {
   "cell_type": "code",
   "execution_count": 2,
   "metadata": {},
   "outputs": [],
   "source": [
    "#loading the data\n",
    "df = pd.read_csv('carcrash_cleaned_data')"
   ]
  },
  {
   "cell_type": "code",
   "execution_count": 3,
   "metadata": {},
   "outputs": [
    {
     "data": {
      "text/html": [
       "<div>\n",
       "<style scoped>\n",
       "    .dataframe tbody tr th:only-of-type {\n",
       "        vertical-align: middle;\n",
       "    }\n",
       "\n",
       "    .dataframe tbody tr th {\n",
       "        vertical-align: top;\n",
       "    }\n",
       "\n",
       "    .dataframe thead th {\n",
       "        text-align: right;\n",
       "    }\n",
       "</style>\n",
       "<table border=\"1\" class=\"dataframe\">\n",
       "  <thead>\n",
       "    <tr style=\"text-align: right;\">\n",
       "      <th></th>\n",
       "      <th>Unnamed: 0</th>\n",
       "      <th>CRASH_DATE</th>\n",
       "      <th>POSTED_SPEED_LIMIT</th>\n",
       "      <th>LANE_CNT</th>\n",
       "      <th>SEVERE</th>\n",
       "      <th>INTERSECTION_RELATED_I</th>\n",
       "      <th>NOT_RIGHT_OF_WAY_I</th>\n",
       "      <th>HIT_AND_RUN_I</th>\n",
       "      <th>WORK_ZONE_I</th>\n",
       "      <th>NUM_UNITS</th>\n",
       "      <th>INJURIES_TOTAL</th>\n",
       "      <th>INJURIES_FATAL</th>\n",
       "      <th>INJURIES_INCAPACITATING</th>\n",
       "      <th>INJURIES_NON_INCAPACITATING</th>\n",
       "      <th>INJURIES_REPORTED_NOT_EVIDENT</th>\n",
       "      <th>INJURIES_NO_INDICATION</th>\n",
       "      <th>CRASH_HOUR</th>\n",
       "      <th>CRASH_DAY_OF_WEEK</th>\n",
       "      <th>CRASH_MONTH</th>\n",
       "      <th>TRAFFIC_CONTROL_DEVICE_DELINEATORS</th>\n",
       "      <th>TRAFFIC_CONTROL_DEVICE_LANE USE MARKING</th>\n",
       "      <th>TRAFFIC_CONTROL_DEVICE_NO CONTROLS</th>\n",
       "      <th>TRAFFIC_CONTROL_DEVICE_NO PASSING</th>\n",
       "      <th>TRAFFIC_CONTROL_DEVICE_OTHER REG. SIGN</th>\n",
       "      <th>TRAFFIC_CONTROL_DEVICE_OTHER WARNING SIGN</th>\n",
       "      <th>TRAFFIC_CONTROL_DEVICE_PEDESTRIAN CROSSING SIGN</th>\n",
       "      <th>TRAFFIC_CONTROL_DEVICE_POLICE/FLAGMAN</th>\n",
       "      <th>TRAFFIC_CONTROL_DEVICE_RAILROAD CROSSING GATE</th>\n",
       "      <th>TRAFFIC_CONTROL_DEVICE_RR CROSSING SIGN</th>\n",
       "      <th>TRAFFIC_CONTROL_DEVICE_SCHOOL ZONE</th>\n",
       "      <th>TRAFFIC_CONTROL_DEVICE_STOP SIGN/FALSHER</th>\n",
       "      <th>TRAFFIC_CONTROL_DEVICE_STOP SIGN/FLASHER</th>\n",
       "      <th>TRAFFIC_CONTROL_DEVICE_TRAFFIC SIGNAL</th>\n",
       "      <th>TRAFFIC_CONTROL_DEVICE_UNKNOWN/OTHER</th>\n",
       "      <th>TRAFFIC_CONTROL_DEVICE_YIELD</th>\n",
       "      <th>DEVICE_CONDITION_FUNCTIONING PROPERLY</th>\n",
       "      <th>DEVICE_CONDITION_MISSING</th>\n",
       "      <th>DEVICE_CONDITION_NO CONTROLS</th>\n",
       "      <th>DEVICE_CONDITION_NOT FUNCTIONING</th>\n",
       "      <th>DEVICE_CONDITION_OTHER</th>\n",
       "      <th>DEVICE_CONDITION_UNKNOWN</th>\n",
       "      <th>DEVICE_CONDITION_WORN REFLECTIVE MATERIAL</th>\n",
       "      <th>WEATHER_CONDITION_CLOUDY/OVERCAST</th>\n",
       "      <th>WEATHER_CONDITION_FOG/SMOKE/HAZE</th>\n",
       "      <th>WEATHER_CONDITION_RAIN</th>\n",
       "      <th>WEATHER_CONDITION_SLEET/HAIL</th>\n",
       "      <th>WEATHER_CONDITION_SNOW</th>\n",
       "      <th>WEATHER_CONDITION_UNKNOWN/OTHER</th>\n",
       "      <th>LIGHTING_CONDITION_DARKNESS, LIGHTED ROAD</th>\n",
       "      <th>LIGHTING_CONDITION_DAWN</th>\n",
       "      <th>...</th>\n",
       "      <th>ALIGNMENT_STRAIGHT ON HILLCREST</th>\n",
       "      <th>SEASON_Spring</th>\n",
       "      <th>SEASON_Summer</th>\n",
       "      <th>SEASON_Fall</th>\n",
       "      <th>ROAD_DEFECT_NO DEFECTS</th>\n",
       "      <th>ROAD_DEFECT_RUT, HOLES</th>\n",
       "      <th>ROAD_DEFECT_SHOULDER DEFECT</th>\n",
       "      <th>ROAD_DEFECT_UNKNOWN/OTHER</th>\n",
       "      <th>ROAD_DEFECT_WORN SURFACE</th>\n",
       "      <th>DAMAGE_$501 - $1,500</th>\n",
       "      <th>DAMAGE_OVER $1,500</th>\n",
       "      <th>PRIM_CONTRIBUTORY_CAUSE_BICYCLE ADVANCING LEGALLY ON RED LIGHT</th>\n",
       "      <th>PRIM_CONTRIBUTORY_CAUSE_CELL PHONE USE OTHER THAN TEXTING</th>\n",
       "      <th>PRIM_CONTRIBUTORY_CAUSE_DISREGARDING OTHER TRAFFIC SIGNS</th>\n",
       "      <th>PRIM_CONTRIBUTORY_CAUSE_DISREGARDING ROAD MARKINGS</th>\n",
       "      <th>PRIM_CONTRIBUTORY_CAUSE_DISREGARDING STOP SIGN</th>\n",
       "      <th>PRIM_CONTRIBUTORY_CAUSE_DISREGARDING TRAFFIC SIGNALS</th>\n",
       "      <th>PRIM_CONTRIBUTORY_CAUSE_DISREGARDING YIELD SIGN</th>\n",
       "      <th>PRIM_CONTRIBUTORY_CAUSE_DISTRACTION - FROM INSIDE VEHICLE</th>\n",
       "      <th>PRIM_CONTRIBUTORY_CAUSE_DISTRACTION - FROM OUTSIDE VEHICLE</th>\n",
       "      <th>PRIM_CONTRIBUTORY_CAUSE_DISTRACTION - OTHER ELECTRONIC DEVICE (NAVIGATION DEVICE, DVD PLAYER, ETC.)</th>\n",
       "      <th>PRIM_CONTRIBUTORY_CAUSE_DRIVING ON WRONG SIDE/WRONG WAY</th>\n",
       "      <th>PRIM_CONTRIBUTORY_CAUSE_DRIVING SKILLS/KNOWLEDGE/EXPERIENCE</th>\n",
       "      <th>PRIM_CONTRIBUTORY_CAUSE_EQUIPMENT - VEHICLE CONDITION</th>\n",
       "      <th>PRIM_CONTRIBUTORY_CAUSE_EVASIVE ACTION DUE TO ANIMAL, OBJECT, NONMOTORIST</th>\n",
       "      <th>PRIM_CONTRIBUTORY_CAUSE_EXCEEDING AUTHORIZED SPEED LIMIT</th>\n",
       "      <th>PRIM_CONTRIBUTORY_CAUSE_EXCEEDING SAFE SPEED FOR CONDITIONS</th>\n",
       "      <th>PRIM_CONTRIBUTORY_CAUSE_FAILING TO REDUCE SPEED TO AVOID CRASH</th>\n",
       "      <th>PRIM_CONTRIBUTORY_CAUSE_FAILING TO YIELD RIGHT-OF-WAY</th>\n",
       "      <th>PRIM_CONTRIBUTORY_CAUSE_FOLLOWING TOO CLOSELY</th>\n",
       "      <th>PRIM_CONTRIBUTORY_CAUSE_HAD BEEN DRINKING (USE WHEN ARREST IS NOT MADE)</th>\n",
       "      <th>PRIM_CONTRIBUTORY_CAUSE_IMPROPER BACKING</th>\n",
       "      <th>PRIM_CONTRIBUTORY_CAUSE_IMPROPER LANE USAGE</th>\n",
       "      <th>PRIM_CONTRIBUTORY_CAUSE_IMPROPER OVERTAKING/PASSING</th>\n",
       "      <th>PRIM_CONTRIBUTORY_CAUSE_IMPROPER TURNING/NO SIGNAL</th>\n",
       "      <th>PRIM_CONTRIBUTORY_CAUSE_MOTORCYCLE ADVANCING LEGALLY ON RED LIGHT</th>\n",
       "      <th>PRIM_CONTRIBUTORY_CAUSE_NOT APPLICABLE</th>\n",
       "      <th>PRIM_CONTRIBUTORY_CAUSE_OBSTRUCTED CROSSWALKS</th>\n",
       "      <th>PRIM_CONTRIBUTORY_CAUSE_OPERATING VEHICLE IN ERRATIC, RECKLESS, CARELESS, NEGLIGENT OR AGGRESSIVE MANNER</th>\n",
       "      <th>PRIM_CONTRIBUTORY_CAUSE_PASSING STOPPED SCHOOL BUS</th>\n",
       "      <th>PRIM_CONTRIBUTORY_CAUSE_PHYSICAL CONDITION OF DRIVER</th>\n",
       "      <th>PRIM_CONTRIBUTORY_CAUSE_RELATED TO BUS STOP</th>\n",
       "      <th>PRIM_CONTRIBUTORY_CAUSE_ROAD CONSTRUCTION/MAINTENANCE</th>\n",
       "      <th>PRIM_CONTRIBUTORY_CAUSE_ROAD ENGINEERING/SURFACE/MARKING DEFECTS</th>\n",
       "      <th>PRIM_CONTRIBUTORY_CAUSE_TEXTING</th>\n",
       "      <th>PRIM_CONTRIBUTORY_CAUSE_TURNING RIGHT ON RED</th>\n",
       "      <th>PRIM_CONTRIBUTORY_CAUSE_UNABLE TO DETERMINE</th>\n",
       "      <th>PRIM_CONTRIBUTORY_CAUSE_UNDER THE INFLUENCE OF ALCOHOL/DRUGS (USE WHEN ARREST IS EFFECTED)</th>\n",
       "      <th>PRIM_CONTRIBUTORY_CAUSE_VISION OBSCURED (SIGNS, TREE LIMBS, BUILDINGS, ETC.)</th>\n",
       "      <th>PRIM_CONTRIBUTORY_CAUSE_WEATHER</th>\n",
       "    </tr>\n",
       "  </thead>\n",
       "  <tbody>\n",
       "    <tr>\n",
       "      <th>0</th>\n",
       "      <td>0</td>\n",
       "      <td>2019-07-10 17:56:00</td>\n",
       "      <td>35</td>\n",
       "      <td>0.0</td>\n",
       "      <td>0</td>\n",
       "      <td>0</td>\n",
       "      <td>0</td>\n",
       "      <td>0</td>\n",
       "      <td>0</td>\n",
       "      <td>2</td>\n",
       "      <td>0.0</td>\n",
       "      <td>0.0</td>\n",
       "      <td>0.0</td>\n",
       "      <td>0.0</td>\n",
       "      <td>0.0</td>\n",
       "      <td>3.0</td>\n",
       "      <td>17</td>\n",
       "      <td>4</td>\n",
       "      <td>7</td>\n",
       "      <td>0</td>\n",
       "      <td>0</td>\n",
       "      <td>1</td>\n",
       "      <td>0</td>\n",
       "      <td>0</td>\n",
       "      <td>0</td>\n",
       "      <td>0</td>\n",
       "      <td>0</td>\n",
       "      <td>0</td>\n",
       "      <td>0</td>\n",
       "      <td>0</td>\n",
       "      <td>0</td>\n",
       "      <td>0</td>\n",
       "      <td>0</td>\n",
       "      <td>0</td>\n",
       "      <td>0</td>\n",
       "      <td>0</td>\n",
       "      <td>0</td>\n",
       "      <td>1</td>\n",
       "      <td>0</td>\n",
       "      <td>0</td>\n",
       "      <td>0</td>\n",
       "      <td>0</td>\n",
       "      <td>0</td>\n",
       "      <td>0</td>\n",
       "      <td>0</td>\n",
       "      <td>0</td>\n",
       "      <td>0</td>\n",
       "      <td>0</td>\n",
       "      <td>0</td>\n",
       "      <td>0</td>\n",
       "      <td>...</td>\n",
       "      <td>0</td>\n",
       "      <td>1</td>\n",
       "      <td>0</td>\n",
       "      <td>0</td>\n",
       "      <td>1</td>\n",
       "      <td>0</td>\n",
       "      <td>0</td>\n",
       "      <td>0</td>\n",
       "      <td>0</td>\n",
       "      <td>0</td>\n",
       "      <td>1</td>\n",
       "      <td>0</td>\n",
       "      <td>0</td>\n",
       "      <td>0</td>\n",
       "      <td>0</td>\n",
       "      <td>0</td>\n",
       "      <td>0</td>\n",
       "      <td>0</td>\n",
       "      <td>0</td>\n",
       "      <td>0</td>\n",
       "      <td>0</td>\n",
       "      <td>0</td>\n",
       "      <td>0</td>\n",
       "      <td>0</td>\n",
       "      <td>0</td>\n",
       "      <td>0</td>\n",
       "      <td>0</td>\n",
       "      <td>0</td>\n",
       "      <td>0</td>\n",
       "      <td>0</td>\n",
       "      <td>0</td>\n",
       "      <td>1</td>\n",
       "      <td>0</td>\n",
       "      <td>0</td>\n",
       "      <td>0</td>\n",
       "      <td>0</td>\n",
       "      <td>0</td>\n",
       "      <td>0</td>\n",
       "      <td>0</td>\n",
       "      <td>0</td>\n",
       "      <td>0</td>\n",
       "      <td>0</td>\n",
       "      <td>0</td>\n",
       "      <td>0</td>\n",
       "      <td>0</td>\n",
       "      <td>0</td>\n",
       "      <td>0</td>\n",
       "      <td>0</td>\n",
       "      <td>0</td>\n",
       "      <td>0</td>\n",
       "    </tr>\n",
       "    <tr>\n",
       "      <th>1</th>\n",
       "      <td>1</td>\n",
       "      <td>2017-06-30 16:00:00</td>\n",
       "      <td>35</td>\n",
       "      <td>4.0</td>\n",
       "      <td>1</td>\n",
       "      <td>1</td>\n",
       "      <td>0</td>\n",
       "      <td>0</td>\n",
       "      <td>0</td>\n",
       "      <td>2</td>\n",
       "      <td>0.0</td>\n",
       "      <td>0.0</td>\n",
       "      <td>0.0</td>\n",
       "      <td>0.0</td>\n",
       "      <td>0.0</td>\n",
       "      <td>3.0</td>\n",
       "      <td>16</td>\n",
       "      <td>6</td>\n",
       "      <td>6</td>\n",
       "      <td>0</td>\n",
       "      <td>0</td>\n",
       "      <td>0</td>\n",
       "      <td>0</td>\n",
       "      <td>0</td>\n",
       "      <td>0</td>\n",
       "      <td>0</td>\n",
       "      <td>0</td>\n",
       "      <td>0</td>\n",
       "      <td>0</td>\n",
       "      <td>0</td>\n",
       "      <td>0</td>\n",
       "      <td>1</td>\n",
       "      <td>0</td>\n",
       "      <td>0</td>\n",
       "      <td>0</td>\n",
       "      <td>1</td>\n",
       "      <td>0</td>\n",
       "      <td>0</td>\n",
       "      <td>0</td>\n",
       "      <td>0</td>\n",
       "      <td>0</td>\n",
       "      <td>0</td>\n",
       "      <td>0</td>\n",
       "      <td>0</td>\n",
       "      <td>0</td>\n",
       "      <td>0</td>\n",
       "      <td>0</td>\n",
       "      <td>0</td>\n",
       "      <td>0</td>\n",
       "      <td>0</td>\n",
       "      <td>...</td>\n",
       "      <td>0</td>\n",
       "      <td>1</td>\n",
       "      <td>0</td>\n",
       "      <td>0</td>\n",
       "      <td>1</td>\n",
       "      <td>0</td>\n",
       "      <td>0</td>\n",
       "      <td>0</td>\n",
       "      <td>0</td>\n",
       "      <td>0</td>\n",
       "      <td>1</td>\n",
       "      <td>0</td>\n",
       "      <td>0</td>\n",
       "      <td>0</td>\n",
       "      <td>0</td>\n",
       "      <td>0</td>\n",
       "      <td>0</td>\n",
       "      <td>0</td>\n",
       "      <td>0</td>\n",
       "      <td>0</td>\n",
       "      <td>0</td>\n",
       "      <td>0</td>\n",
       "      <td>0</td>\n",
       "      <td>0</td>\n",
       "      <td>0</td>\n",
       "      <td>0</td>\n",
       "      <td>0</td>\n",
       "      <td>0</td>\n",
       "      <td>1</td>\n",
       "      <td>0</td>\n",
       "      <td>0</td>\n",
       "      <td>0</td>\n",
       "      <td>0</td>\n",
       "      <td>0</td>\n",
       "      <td>0</td>\n",
       "      <td>0</td>\n",
       "      <td>0</td>\n",
       "      <td>0</td>\n",
       "      <td>0</td>\n",
       "      <td>0</td>\n",
       "      <td>0</td>\n",
       "      <td>0</td>\n",
       "      <td>0</td>\n",
       "      <td>0</td>\n",
       "      <td>0</td>\n",
       "      <td>0</td>\n",
       "      <td>0</td>\n",
       "      <td>0</td>\n",
       "      <td>0</td>\n",
       "      <td>0</td>\n",
       "    </tr>\n",
       "    <tr>\n",
       "      <th>2</th>\n",
       "      <td>2</td>\n",
       "      <td>2020-07-10 10:25:00</td>\n",
       "      <td>30</td>\n",
       "      <td>0.0</td>\n",
       "      <td>0</td>\n",
       "      <td>0</td>\n",
       "      <td>0</td>\n",
       "      <td>0</td>\n",
       "      <td>0</td>\n",
       "      <td>3</td>\n",
       "      <td>0.0</td>\n",
       "      <td>0.0</td>\n",
       "      <td>0.0</td>\n",
       "      <td>0.0</td>\n",
       "      <td>0.0</td>\n",
       "      <td>3.0</td>\n",
       "      <td>10</td>\n",
       "      <td>6</td>\n",
       "      <td>7</td>\n",
       "      <td>0</td>\n",
       "      <td>0</td>\n",
       "      <td>0</td>\n",
       "      <td>0</td>\n",
       "      <td>0</td>\n",
       "      <td>0</td>\n",
       "      <td>0</td>\n",
       "      <td>0</td>\n",
       "      <td>0</td>\n",
       "      <td>0</td>\n",
       "      <td>0</td>\n",
       "      <td>0</td>\n",
       "      <td>0</td>\n",
       "      <td>1</td>\n",
       "      <td>0</td>\n",
       "      <td>0</td>\n",
       "      <td>1</td>\n",
       "      <td>0</td>\n",
       "      <td>0</td>\n",
       "      <td>0</td>\n",
       "      <td>0</td>\n",
       "      <td>0</td>\n",
       "      <td>0</td>\n",
       "      <td>0</td>\n",
       "      <td>0</td>\n",
       "      <td>0</td>\n",
       "      <td>0</td>\n",
       "      <td>0</td>\n",
       "      <td>0</td>\n",
       "      <td>0</td>\n",
       "      <td>0</td>\n",
       "      <td>...</td>\n",
       "      <td>0</td>\n",
       "      <td>1</td>\n",
       "      <td>0</td>\n",
       "      <td>0</td>\n",
       "      <td>1</td>\n",
       "      <td>0</td>\n",
       "      <td>0</td>\n",
       "      <td>0</td>\n",
       "      <td>0</td>\n",
       "      <td>0</td>\n",
       "      <td>1</td>\n",
       "      <td>0</td>\n",
       "      <td>0</td>\n",
       "      <td>0</td>\n",
       "      <td>0</td>\n",
       "      <td>0</td>\n",
       "      <td>0</td>\n",
       "      <td>0</td>\n",
       "      <td>0</td>\n",
       "      <td>0</td>\n",
       "      <td>0</td>\n",
       "      <td>0</td>\n",
       "      <td>0</td>\n",
       "      <td>0</td>\n",
       "      <td>0</td>\n",
       "      <td>0</td>\n",
       "      <td>0</td>\n",
       "      <td>0</td>\n",
       "      <td>1</td>\n",
       "      <td>0</td>\n",
       "      <td>0</td>\n",
       "      <td>0</td>\n",
       "      <td>0</td>\n",
       "      <td>0</td>\n",
       "      <td>0</td>\n",
       "      <td>0</td>\n",
       "      <td>0</td>\n",
       "      <td>0</td>\n",
       "      <td>0</td>\n",
       "      <td>0</td>\n",
       "      <td>0</td>\n",
       "      <td>0</td>\n",
       "      <td>0</td>\n",
       "      <td>0</td>\n",
       "      <td>0</td>\n",
       "      <td>0</td>\n",
       "      <td>0</td>\n",
       "      <td>0</td>\n",
       "      <td>0</td>\n",
       "      <td>0</td>\n",
       "    </tr>\n",
       "    <tr>\n",
       "      <th>3</th>\n",
       "      <td>3</td>\n",
       "      <td>2020-07-11 01:00:00</td>\n",
       "      <td>30</td>\n",
       "      <td>0.0</td>\n",
       "      <td>0</td>\n",
       "      <td>0</td>\n",
       "      <td>0</td>\n",
       "      <td>1</td>\n",
       "      <td>0</td>\n",
       "      <td>2</td>\n",
       "      <td>0.0</td>\n",
       "      <td>0.0</td>\n",
       "      <td>0.0</td>\n",
       "      <td>0.0</td>\n",
       "      <td>0.0</td>\n",
       "      <td>3.0</td>\n",
       "      <td>1</td>\n",
       "      <td>7</td>\n",
       "      <td>7</td>\n",
       "      <td>0</td>\n",
       "      <td>0</td>\n",
       "      <td>1</td>\n",
       "      <td>0</td>\n",
       "      <td>0</td>\n",
       "      <td>0</td>\n",
       "      <td>0</td>\n",
       "      <td>0</td>\n",
       "      <td>0</td>\n",
       "      <td>0</td>\n",
       "      <td>0</td>\n",
       "      <td>0</td>\n",
       "      <td>0</td>\n",
       "      <td>0</td>\n",
       "      <td>0</td>\n",
       "      <td>0</td>\n",
       "      <td>0</td>\n",
       "      <td>0</td>\n",
       "      <td>1</td>\n",
       "      <td>0</td>\n",
       "      <td>0</td>\n",
       "      <td>0</td>\n",
       "      <td>0</td>\n",
       "      <td>0</td>\n",
       "      <td>0</td>\n",
       "      <td>0</td>\n",
       "      <td>0</td>\n",
       "      <td>0</td>\n",
       "      <td>0</td>\n",
       "      <td>0</td>\n",
       "      <td>0</td>\n",
       "      <td>...</td>\n",
       "      <td>0</td>\n",
       "      <td>1</td>\n",
       "      <td>0</td>\n",
       "      <td>0</td>\n",
       "      <td>1</td>\n",
       "      <td>0</td>\n",
       "      <td>0</td>\n",
       "      <td>0</td>\n",
       "      <td>0</td>\n",
       "      <td>0</td>\n",
       "      <td>0</td>\n",
       "      <td>0</td>\n",
       "      <td>0</td>\n",
       "      <td>0</td>\n",
       "      <td>0</td>\n",
       "      <td>0</td>\n",
       "      <td>0</td>\n",
       "      <td>0</td>\n",
       "      <td>0</td>\n",
       "      <td>0</td>\n",
       "      <td>0</td>\n",
       "      <td>0</td>\n",
       "      <td>0</td>\n",
       "      <td>0</td>\n",
       "      <td>0</td>\n",
       "      <td>0</td>\n",
       "      <td>0</td>\n",
       "      <td>0</td>\n",
       "      <td>0</td>\n",
       "      <td>0</td>\n",
       "      <td>0</td>\n",
       "      <td>0</td>\n",
       "      <td>0</td>\n",
       "      <td>0</td>\n",
       "      <td>0</td>\n",
       "      <td>0</td>\n",
       "      <td>0</td>\n",
       "      <td>0</td>\n",
       "      <td>0</td>\n",
       "      <td>0</td>\n",
       "      <td>0</td>\n",
       "      <td>0</td>\n",
       "      <td>0</td>\n",
       "      <td>0</td>\n",
       "      <td>0</td>\n",
       "      <td>0</td>\n",
       "      <td>1</td>\n",
       "      <td>0</td>\n",
       "      <td>0</td>\n",
       "      <td>0</td>\n",
       "    </tr>\n",
       "    <tr>\n",
       "      <th>4</th>\n",
       "      <td>4</td>\n",
       "      <td>2020-07-08 14:00:00</td>\n",
       "      <td>20</td>\n",
       "      <td>0.0</td>\n",
       "      <td>0</td>\n",
       "      <td>0</td>\n",
       "      <td>0</td>\n",
       "      <td>0</td>\n",
       "      <td>0</td>\n",
       "      <td>2</td>\n",
       "      <td>0.0</td>\n",
       "      <td>0.0</td>\n",
       "      <td>0.0</td>\n",
       "      <td>0.0</td>\n",
       "      <td>0.0</td>\n",
       "      <td>1.0</td>\n",
       "      <td>14</td>\n",
       "      <td>4</td>\n",
       "      <td>7</td>\n",
       "      <td>0</td>\n",
       "      <td>0</td>\n",
       "      <td>1</td>\n",
       "      <td>0</td>\n",
       "      <td>0</td>\n",
       "      <td>0</td>\n",
       "      <td>0</td>\n",
       "      <td>0</td>\n",
       "      <td>0</td>\n",
       "      <td>0</td>\n",
       "      <td>0</td>\n",
       "      <td>0</td>\n",
       "      <td>0</td>\n",
       "      <td>0</td>\n",
       "      <td>0</td>\n",
       "      <td>0</td>\n",
       "      <td>0</td>\n",
       "      <td>0</td>\n",
       "      <td>1</td>\n",
       "      <td>0</td>\n",
       "      <td>0</td>\n",
       "      <td>0</td>\n",
       "      <td>0</td>\n",
       "      <td>0</td>\n",
       "      <td>0</td>\n",
       "      <td>0</td>\n",
       "      <td>0</td>\n",
       "      <td>0</td>\n",
       "      <td>0</td>\n",
       "      <td>0</td>\n",
       "      <td>0</td>\n",
       "      <td>...</td>\n",
       "      <td>0</td>\n",
       "      <td>1</td>\n",
       "      <td>0</td>\n",
       "      <td>0</td>\n",
       "      <td>1</td>\n",
       "      <td>0</td>\n",
       "      <td>0</td>\n",
       "      <td>0</td>\n",
       "      <td>0</td>\n",
       "      <td>0</td>\n",
       "      <td>1</td>\n",
       "      <td>0</td>\n",
       "      <td>0</td>\n",
       "      <td>0</td>\n",
       "      <td>0</td>\n",
       "      <td>0</td>\n",
       "      <td>0</td>\n",
       "      <td>0</td>\n",
       "      <td>0</td>\n",
       "      <td>0</td>\n",
       "      <td>0</td>\n",
       "      <td>0</td>\n",
       "      <td>0</td>\n",
       "      <td>0</td>\n",
       "      <td>0</td>\n",
       "      <td>0</td>\n",
       "      <td>0</td>\n",
       "      <td>0</td>\n",
       "      <td>0</td>\n",
       "      <td>0</td>\n",
       "      <td>0</td>\n",
       "      <td>0</td>\n",
       "      <td>0</td>\n",
       "      <td>0</td>\n",
       "      <td>0</td>\n",
       "      <td>0</td>\n",
       "      <td>0</td>\n",
       "      <td>0</td>\n",
       "      <td>0</td>\n",
       "      <td>0</td>\n",
       "      <td>0</td>\n",
       "      <td>0</td>\n",
       "      <td>0</td>\n",
       "      <td>0</td>\n",
       "      <td>0</td>\n",
       "      <td>0</td>\n",
       "      <td>1</td>\n",
       "      <td>0</td>\n",
       "      <td>0</td>\n",
       "      <td>0</td>\n",
       "    </tr>\n",
       "  </tbody>\n",
       "</table>\n",
       "<p>5 rows × 137 columns</p>\n",
       "</div>"
      ],
      "text/plain": [
       "   Unnamed: 0           CRASH_DATE  POSTED_SPEED_LIMIT  LANE_CNT  SEVERE  \\\n",
       "0           0  2019-07-10 17:56:00                  35       0.0       0   \n",
       "1           1  2017-06-30 16:00:00                  35       4.0       1   \n",
       "2           2  2020-07-10 10:25:00                  30       0.0       0   \n",
       "3           3  2020-07-11 01:00:00                  30       0.0       0   \n",
       "4           4  2020-07-08 14:00:00                  20       0.0       0   \n",
       "\n",
       "   INTERSECTION_RELATED_I  NOT_RIGHT_OF_WAY_I  HIT_AND_RUN_I  WORK_ZONE_I  \\\n",
       "0                       0                   0              0            0   \n",
       "1                       1                   0              0            0   \n",
       "2                       0                   0              0            0   \n",
       "3                       0                   0              1            0   \n",
       "4                       0                   0              0            0   \n",
       "\n",
       "   NUM_UNITS  INJURIES_TOTAL  INJURIES_FATAL  INJURIES_INCAPACITATING  \\\n",
       "0          2             0.0             0.0                      0.0   \n",
       "1          2             0.0             0.0                      0.0   \n",
       "2          3             0.0             0.0                      0.0   \n",
       "3          2             0.0             0.0                      0.0   \n",
       "4          2             0.0             0.0                      0.0   \n",
       "\n",
       "   INJURIES_NON_INCAPACITATING  INJURIES_REPORTED_NOT_EVIDENT  \\\n",
       "0                          0.0                            0.0   \n",
       "1                          0.0                            0.0   \n",
       "2                          0.0                            0.0   \n",
       "3                          0.0                            0.0   \n",
       "4                          0.0                            0.0   \n",
       "\n",
       "   INJURIES_NO_INDICATION  CRASH_HOUR  CRASH_DAY_OF_WEEK  CRASH_MONTH  \\\n",
       "0                     3.0          17                  4            7   \n",
       "1                     3.0          16                  6            6   \n",
       "2                     3.0          10                  6            7   \n",
       "3                     3.0           1                  7            7   \n",
       "4                     1.0          14                  4            7   \n",
       "\n",
       "   TRAFFIC_CONTROL_DEVICE_DELINEATORS  \\\n",
       "0                                   0   \n",
       "1                                   0   \n",
       "2                                   0   \n",
       "3                                   0   \n",
       "4                                   0   \n",
       "\n",
       "   TRAFFIC_CONTROL_DEVICE_LANE USE MARKING  \\\n",
       "0                                        0   \n",
       "1                                        0   \n",
       "2                                        0   \n",
       "3                                        0   \n",
       "4                                        0   \n",
       "\n",
       "   TRAFFIC_CONTROL_DEVICE_NO CONTROLS  TRAFFIC_CONTROL_DEVICE_NO PASSING  \\\n",
       "0                                   1                                  0   \n",
       "1                                   0                                  0   \n",
       "2                                   0                                  0   \n",
       "3                                   1                                  0   \n",
       "4                                   1                                  0   \n",
       "\n",
       "   TRAFFIC_CONTROL_DEVICE_OTHER REG. SIGN  \\\n",
       "0                                       0   \n",
       "1                                       0   \n",
       "2                                       0   \n",
       "3                                       0   \n",
       "4                                       0   \n",
       "\n",
       "   TRAFFIC_CONTROL_DEVICE_OTHER WARNING SIGN  \\\n",
       "0                                          0   \n",
       "1                                          0   \n",
       "2                                          0   \n",
       "3                                          0   \n",
       "4                                          0   \n",
       "\n",
       "   TRAFFIC_CONTROL_DEVICE_PEDESTRIAN CROSSING SIGN  \\\n",
       "0                                                0   \n",
       "1                                                0   \n",
       "2                                                0   \n",
       "3                                                0   \n",
       "4                                                0   \n",
       "\n",
       "   TRAFFIC_CONTROL_DEVICE_POLICE/FLAGMAN  \\\n",
       "0                                      0   \n",
       "1                                      0   \n",
       "2                                      0   \n",
       "3                                      0   \n",
       "4                                      0   \n",
       "\n",
       "   TRAFFIC_CONTROL_DEVICE_RAILROAD CROSSING GATE  \\\n",
       "0                                              0   \n",
       "1                                              0   \n",
       "2                                              0   \n",
       "3                                              0   \n",
       "4                                              0   \n",
       "\n",
       "   TRAFFIC_CONTROL_DEVICE_RR CROSSING SIGN  \\\n",
       "0                                        0   \n",
       "1                                        0   \n",
       "2                                        0   \n",
       "3                                        0   \n",
       "4                                        0   \n",
       "\n",
       "   TRAFFIC_CONTROL_DEVICE_SCHOOL ZONE  \\\n",
       "0                                   0   \n",
       "1                                   0   \n",
       "2                                   0   \n",
       "3                                   0   \n",
       "4                                   0   \n",
       "\n",
       "   TRAFFIC_CONTROL_DEVICE_STOP SIGN/FALSHER  \\\n",
       "0                                         0   \n",
       "1                                         0   \n",
       "2                                         0   \n",
       "3                                         0   \n",
       "4                                         0   \n",
       "\n",
       "   TRAFFIC_CONTROL_DEVICE_STOP SIGN/FLASHER  \\\n",
       "0                                         0   \n",
       "1                                         1   \n",
       "2                                         0   \n",
       "3                                         0   \n",
       "4                                         0   \n",
       "\n",
       "   TRAFFIC_CONTROL_DEVICE_TRAFFIC SIGNAL  \\\n",
       "0                                      0   \n",
       "1                                      0   \n",
       "2                                      1   \n",
       "3                                      0   \n",
       "4                                      0   \n",
       "\n",
       "   TRAFFIC_CONTROL_DEVICE_UNKNOWN/OTHER  TRAFFIC_CONTROL_DEVICE_YIELD  \\\n",
       "0                                     0                             0   \n",
       "1                                     0                             0   \n",
       "2                                     0                             0   \n",
       "3                                     0                             0   \n",
       "4                                     0                             0   \n",
       "\n",
       "   DEVICE_CONDITION_FUNCTIONING PROPERLY  DEVICE_CONDITION_MISSING  \\\n",
       "0                                      0                         0   \n",
       "1                                      1                         0   \n",
       "2                                      1                         0   \n",
       "3                                      0                         0   \n",
       "4                                      0                         0   \n",
       "\n",
       "   DEVICE_CONDITION_NO CONTROLS  DEVICE_CONDITION_NOT FUNCTIONING  \\\n",
       "0                             1                                 0   \n",
       "1                             0                                 0   \n",
       "2                             0                                 0   \n",
       "3                             1                                 0   \n",
       "4                             1                                 0   \n",
       "\n",
       "   DEVICE_CONDITION_OTHER  DEVICE_CONDITION_UNKNOWN  \\\n",
       "0                       0                         0   \n",
       "1                       0                         0   \n",
       "2                       0                         0   \n",
       "3                       0                         0   \n",
       "4                       0                         0   \n",
       "\n",
       "   DEVICE_CONDITION_WORN REFLECTIVE MATERIAL  \\\n",
       "0                                          0   \n",
       "1                                          0   \n",
       "2                                          0   \n",
       "3                                          0   \n",
       "4                                          0   \n",
       "\n",
       "   WEATHER_CONDITION_CLOUDY/OVERCAST  WEATHER_CONDITION_FOG/SMOKE/HAZE  \\\n",
       "0                                  0                                 0   \n",
       "1                                  0                                 0   \n",
       "2                                  0                                 0   \n",
       "3                                  0                                 0   \n",
       "4                                  0                                 0   \n",
       "\n",
       "   WEATHER_CONDITION_RAIN  WEATHER_CONDITION_SLEET/HAIL  \\\n",
       "0                       0                             0   \n",
       "1                       0                             0   \n",
       "2                       0                             0   \n",
       "3                       0                             0   \n",
       "4                       0                             0   \n",
       "\n",
       "   WEATHER_CONDITION_SNOW  WEATHER_CONDITION_UNKNOWN/OTHER  \\\n",
       "0                       0                                0   \n",
       "1                       0                                0   \n",
       "2                       0                                0   \n",
       "3                       0                                0   \n",
       "4                       0                                0   \n",
       "\n",
       "   LIGHTING_CONDITION_DARKNESS, LIGHTED ROAD  LIGHTING_CONDITION_DAWN  ...  \\\n",
       "0                                          0                        0  ...   \n",
       "1                                          0                        0  ...   \n",
       "2                                          0                        0  ...   \n",
       "3                                          0                        0  ...   \n",
       "4                                          0                        0  ...   \n",
       "\n",
       "   ALIGNMENT_STRAIGHT ON HILLCREST  SEASON_Spring  SEASON_Summer  SEASON_Fall  \\\n",
       "0                                0              1              0            0   \n",
       "1                                0              1              0            0   \n",
       "2                                0              1              0            0   \n",
       "3                                0              1              0            0   \n",
       "4                                0              1              0            0   \n",
       "\n",
       "   ROAD_DEFECT_NO DEFECTS  ROAD_DEFECT_RUT, HOLES  \\\n",
       "0                       1                       0   \n",
       "1                       1                       0   \n",
       "2                       1                       0   \n",
       "3                       1                       0   \n",
       "4                       1                       0   \n",
       "\n",
       "   ROAD_DEFECT_SHOULDER DEFECT  ROAD_DEFECT_UNKNOWN/OTHER  \\\n",
       "0                            0                          0   \n",
       "1                            0                          0   \n",
       "2                            0                          0   \n",
       "3                            0                          0   \n",
       "4                            0                          0   \n",
       "\n",
       "   ROAD_DEFECT_WORN SURFACE  DAMAGE_$501 - $1,500  DAMAGE_OVER $1,500  \\\n",
       "0                         0                     0                   1   \n",
       "1                         0                     0                   1   \n",
       "2                         0                     0                   1   \n",
       "3                         0                     0                   0   \n",
       "4                         0                     0                   1   \n",
       "\n",
       "   PRIM_CONTRIBUTORY_CAUSE_BICYCLE ADVANCING LEGALLY ON RED LIGHT  \\\n",
       "0                                                  0                \n",
       "1                                                  0                \n",
       "2                                                  0                \n",
       "3                                                  0                \n",
       "4                                                  0                \n",
       "\n",
       "   PRIM_CONTRIBUTORY_CAUSE_CELL PHONE USE OTHER THAN TEXTING  \\\n",
       "0                                                  0           \n",
       "1                                                  0           \n",
       "2                                                  0           \n",
       "3                                                  0           \n",
       "4                                                  0           \n",
       "\n",
       "   PRIM_CONTRIBUTORY_CAUSE_DISREGARDING OTHER TRAFFIC SIGNS  \\\n",
       "0                                                  0          \n",
       "1                                                  0          \n",
       "2                                                  0          \n",
       "3                                                  0          \n",
       "4                                                  0          \n",
       "\n",
       "   PRIM_CONTRIBUTORY_CAUSE_DISREGARDING ROAD MARKINGS  \\\n",
       "0                                                  0    \n",
       "1                                                  0    \n",
       "2                                                  0    \n",
       "3                                                  0    \n",
       "4                                                  0    \n",
       "\n",
       "   PRIM_CONTRIBUTORY_CAUSE_DISREGARDING STOP SIGN  \\\n",
       "0                                               0   \n",
       "1                                               0   \n",
       "2                                               0   \n",
       "3                                               0   \n",
       "4                                               0   \n",
       "\n",
       "   PRIM_CONTRIBUTORY_CAUSE_DISREGARDING TRAFFIC SIGNALS  \\\n",
       "0                                                  0      \n",
       "1                                                  0      \n",
       "2                                                  0      \n",
       "3                                                  0      \n",
       "4                                                  0      \n",
       "\n",
       "   PRIM_CONTRIBUTORY_CAUSE_DISREGARDING YIELD SIGN  \\\n",
       "0                                                0   \n",
       "1                                                0   \n",
       "2                                                0   \n",
       "3                                                0   \n",
       "4                                                0   \n",
       "\n",
       "   PRIM_CONTRIBUTORY_CAUSE_DISTRACTION - FROM INSIDE VEHICLE  \\\n",
       "0                                                  0           \n",
       "1                                                  0           \n",
       "2                                                  0           \n",
       "3                                                  0           \n",
       "4                                                  0           \n",
       "\n",
       "   PRIM_CONTRIBUTORY_CAUSE_DISTRACTION - FROM OUTSIDE VEHICLE  \\\n",
       "0                                                  0            \n",
       "1                                                  0            \n",
       "2                                                  0            \n",
       "3                                                  0            \n",
       "4                                                  0            \n",
       "\n",
       "   PRIM_CONTRIBUTORY_CAUSE_DISTRACTION - OTHER ELECTRONIC DEVICE (NAVIGATION DEVICE, DVD PLAYER, ETC.)  \\\n",
       "0                                                  0                                                     \n",
       "1                                                  0                                                     \n",
       "2                                                  0                                                     \n",
       "3                                                  0                                                     \n",
       "4                                                  0                                                     \n",
       "\n",
       "   PRIM_CONTRIBUTORY_CAUSE_DRIVING ON WRONG SIDE/WRONG WAY  \\\n",
       "0                                                  0         \n",
       "1                                                  0         \n",
       "2                                                  0         \n",
       "3                                                  0         \n",
       "4                                                  0         \n",
       "\n",
       "   PRIM_CONTRIBUTORY_CAUSE_DRIVING SKILLS/KNOWLEDGE/EXPERIENCE  \\\n",
       "0                                                  0             \n",
       "1                                                  0             \n",
       "2                                                  0             \n",
       "3                                                  0             \n",
       "4                                                  0             \n",
       "\n",
       "   PRIM_CONTRIBUTORY_CAUSE_EQUIPMENT - VEHICLE CONDITION  \\\n",
       "0                                                  0       \n",
       "1                                                  0       \n",
       "2                                                  0       \n",
       "3                                                  0       \n",
       "4                                                  0       \n",
       "\n",
       "   PRIM_CONTRIBUTORY_CAUSE_EVASIVE ACTION DUE TO ANIMAL, OBJECT, NONMOTORIST  \\\n",
       "0                                                  0                           \n",
       "1                                                  0                           \n",
       "2                                                  0                           \n",
       "3                                                  0                           \n",
       "4                                                  0                           \n",
       "\n",
       "   PRIM_CONTRIBUTORY_CAUSE_EXCEEDING AUTHORIZED SPEED LIMIT  \\\n",
       "0                                                  0          \n",
       "1                                                  0          \n",
       "2                                                  0          \n",
       "3                                                  0          \n",
       "4                                                  0          \n",
       "\n",
       "   PRIM_CONTRIBUTORY_CAUSE_EXCEEDING SAFE SPEED FOR CONDITIONS  \\\n",
       "0                                                  0             \n",
       "1                                                  0             \n",
       "2                                                  0             \n",
       "3                                                  0             \n",
       "4                                                  0             \n",
       "\n",
       "   PRIM_CONTRIBUTORY_CAUSE_FAILING TO REDUCE SPEED TO AVOID CRASH  \\\n",
       "0                                                  0                \n",
       "1                                                  0                \n",
       "2                                                  0                \n",
       "3                                                  0                \n",
       "4                                                  0                \n",
       "\n",
       "   PRIM_CONTRIBUTORY_CAUSE_FAILING TO YIELD RIGHT-OF-WAY  \\\n",
       "0                                                  0       \n",
       "1                                                  1       \n",
       "2                                                  1       \n",
       "3                                                  0       \n",
       "4                                                  0       \n",
       "\n",
       "   PRIM_CONTRIBUTORY_CAUSE_FOLLOWING TOO CLOSELY  \\\n",
       "0                                              0   \n",
       "1                                              0   \n",
       "2                                              0   \n",
       "3                                              0   \n",
       "4                                              0   \n",
       "\n",
       "   PRIM_CONTRIBUTORY_CAUSE_HAD BEEN DRINKING (USE WHEN ARREST IS NOT MADE)  \\\n",
       "0                                                  0                         \n",
       "1                                                  0                         \n",
       "2                                                  0                         \n",
       "3                                                  0                         \n",
       "4                                                  0                         \n",
       "\n",
       "   PRIM_CONTRIBUTORY_CAUSE_IMPROPER BACKING  \\\n",
       "0                                         1   \n",
       "1                                         0   \n",
       "2                                         0   \n",
       "3                                         0   \n",
       "4                                         0   \n",
       "\n",
       "   PRIM_CONTRIBUTORY_CAUSE_IMPROPER LANE USAGE  \\\n",
       "0                                            0   \n",
       "1                                            0   \n",
       "2                                            0   \n",
       "3                                            0   \n",
       "4                                            0   \n",
       "\n",
       "   PRIM_CONTRIBUTORY_CAUSE_IMPROPER OVERTAKING/PASSING  \\\n",
       "0                                                  0     \n",
       "1                                                  0     \n",
       "2                                                  0     \n",
       "3                                                  0     \n",
       "4                                                  0     \n",
       "\n",
       "   PRIM_CONTRIBUTORY_CAUSE_IMPROPER TURNING/NO SIGNAL  \\\n",
       "0                                                  0    \n",
       "1                                                  0    \n",
       "2                                                  0    \n",
       "3                                                  0    \n",
       "4                                                  0    \n",
       "\n",
       "   PRIM_CONTRIBUTORY_CAUSE_MOTORCYCLE ADVANCING LEGALLY ON RED LIGHT  \\\n",
       "0                                                  0                   \n",
       "1                                                  0                   \n",
       "2                                                  0                   \n",
       "3                                                  0                   \n",
       "4                                                  0                   \n",
       "\n",
       "   PRIM_CONTRIBUTORY_CAUSE_NOT APPLICABLE  \\\n",
       "0                                       0   \n",
       "1                                       0   \n",
       "2                                       0   \n",
       "3                                       0   \n",
       "4                                       0   \n",
       "\n",
       "   PRIM_CONTRIBUTORY_CAUSE_OBSTRUCTED CROSSWALKS  \\\n",
       "0                                              0   \n",
       "1                                              0   \n",
       "2                                              0   \n",
       "3                                              0   \n",
       "4                                              0   \n",
       "\n",
       "   PRIM_CONTRIBUTORY_CAUSE_OPERATING VEHICLE IN ERRATIC, RECKLESS, CARELESS, NEGLIGENT OR AGGRESSIVE MANNER  \\\n",
       "0                                                  0                                                          \n",
       "1                                                  0                                                          \n",
       "2                                                  0                                                          \n",
       "3                                                  0                                                          \n",
       "4                                                  0                                                          \n",
       "\n",
       "   PRIM_CONTRIBUTORY_CAUSE_PASSING STOPPED SCHOOL BUS  \\\n",
       "0                                                  0    \n",
       "1                                                  0    \n",
       "2                                                  0    \n",
       "3                                                  0    \n",
       "4                                                  0    \n",
       "\n",
       "   PRIM_CONTRIBUTORY_CAUSE_PHYSICAL CONDITION OF DRIVER  \\\n",
       "0                                                  0      \n",
       "1                                                  0      \n",
       "2                                                  0      \n",
       "3                                                  0      \n",
       "4                                                  0      \n",
       "\n",
       "   PRIM_CONTRIBUTORY_CAUSE_RELATED TO BUS STOP  \\\n",
       "0                                            0   \n",
       "1                                            0   \n",
       "2                                            0   \n",
       "3                                            0   \n",
       "4                                            0   \n",
       "\n",
       "   PRIM_CONTRIBUTORY_CAUSE_ROAD CONSTRUCTION/MAINTENANCE  \\\n",
       "0                                                  0       \n",
       "1                                                  0       \n",
       "2                                                  0       \n",
       "3                                                  0       \n",
       "4                                                  0       \n",
       "\n",
       "   PRIM_CONTRIBUTORY_CAUSE_ROAD ENGINEERING/SURFACE/MARKING DEFECTS  \\\n",
       "0                                                  0                  \n",
       "1                                                  0                  \n",
       "2                                                  0                  \n",
       "3                                                  0                  \n",
       "4                                                  0                  \n",
       "\n",
       "   PRIM_CONTRIBUTORY_CAUSE_TEXTING  \\\n",
       "0                                0   \n",
       "1                                0   \n",
       "2                                0   \n",
       "3                                0   \n",
       "4                                0   \n",
       "\n",
       "   PRIM_CONTRIBUTORY_CAUSE_TURNING RIGHT ON RED  \\\n",
       "0                                             0   \n",
       "1                                             0   \n",
       "2                                             0   \n",
       "3                                             0   \n",
       "4                                             0   \n",
       "\n",
       "   PRIM_CONTRIBUTORY_CAUSE_UNABLE TO DETERMINE  \\\n",
       "0                                            0   \n",
       "1                                            0   \n",
       "2                                            0   \n",
       "3                                            1   \n",
       "4                                            1   \n",
       "\n",
       "   PRIM_CONTRIBUTORY_CAUSE_UNDER THE INFLUENCE OF ALCOHOL/DRUGS (USE WHEN ARREST IS EFFECTED)  \\\n",
       "0                                                  0                                            \n",
       "1                                                  0                                            \n",
       "2                                                  0                                            \n",
       "3                                                  0                                            \n",
       "4                                                  0                                            \n",
       "\n",
       "   PRIM_CONTRIBUTORY_CAUSE_VISION OBSCURED (SIGNS, TREE LIMBS, BUILDINGS, ETC.)  \\\n",
       "0                                                  0                              \n",
       "1                                                  0                              \n",
       "2                                                  0                              \n",
       "3                                                  0                              \n",
       "4                                                  0                              \n",
       "\n",
       "   PRIM_CONTRIBUTORY_CAUSE_WEATHER  \n",
       "0                                0  \n",
       "1                                0  \n",
       "2                                0  \n",
       "3                                0  \n",
       "4                                0  \n",
       "\n",
       "[5 rows x 137 columns]"
      ]
     },
     "execution_count": 3,
     "metadata": {},
     "output_type": "execute_result"
    }
   ],
   "source": [
    "#printing first 5 rows\n",
    "df.head()"
   ]
  },
  {
   "cell_type": "code",
   "execution_count": 4,
   "metadata": {},
   "outputs": [
    {
     "name": "stdout",
     "output_type": "stream",
     "text": [
      "<class 'pandas.core.frame.DataFrame'>\n",
      "RangeIndex: 475553 entries, 0 to 475552\n",
      "Columns: 137 entries, Unnamed: 0 to PRIM_CONTRIBUTORY_CAUSE_WEATHER\n",
      "dtypes: float64(7), int64(129), object(1)\n",
      "memory usage: 497.1+ MB\n"
     ]
    }
   ],
   "source": [
    "#checking the shapeof dataframe \n",
    "df.info()"
   ]
  },
  {
   "cell_type": "code",
   "execution_count": 5,
   "metadata": {},
   "outputs": [
    {
     "data": {
      "text/plain": [
       "Unnamed: 0                                                                                    0\n",
       "CRASH_DATE                                                                                    0\n",
       "POSTED_SPEED_LIMIT                                                                            0\n",
       "LANE_CNT                                                                                      0\n",
       "SEVERE                                                                                        0\n",
       "                                                                                             ..\n",
       "PRIM_CONTRIBUTORY_CAUSE_TURNING RIGHT ON RED                                                  0\n",
       "PRIM_CONTRIBUTORY_CAUSE_UNABLE TO DETERMINE                                                   0\n",
       "PRIM_CONTRIBUTORY_CAUSE_UNDER THE INFLUENCE OF ALCOHOL/DRUGS (USE WHEN ARREST IS EFFECTED)    0\n",
       "PRIM_CONTRIBUTORY_CAUSE_VISION OBSCURED (SIGNS, TREE LIMBS, BUILDINGS, ETC.)                  0\n",
       "PRIM_CONTRIBUTORY_CAUSE_WEATHER                                                               0\n",
       "Length: 137, dtype: int64"
      ]
     },
     "execution_count": 5,
     "metadata": {},
     "output_type": "execute_result"
    }
   ],
   "source": [
    "#checking for the nullvalues \n",
    "df.isna().sum()"
   ]
  },
  {
   "cell_type": "code",
   "execution_count": 6,
   "metadata": {},
   "outputs": [],
   "source": [
    "#dropping the columns\n",
    "df.drop(columns=['Unnamed: 0','CRASH_DATE'], axis = 1, inplace=True)"
   ]
  },
  {
   "cell_type": "markdown",
   "metadata": {},
   "source": [
    "# Basic Model- Logistic Regression"
   ]
  },
  {
   "cell_type": "code",
   "execution_count": 7,
   "metadata": {},
   "outputs": [],
   "source": [
    "#importing skitlearn modulus\n",
    "from sklearn.linear_model import LogisticRegression\n",
    "from sklearn.model_selection import train_test_split\n",
    "from sklearn.metrics import confusion_matrix,classification_report\n",
    "from sklearn import metrics"
   ]
  },
  {
   "cell_type": "code",
   "execution_count": 8,
   "metadata": {},
   "outputs": [],
   "source": [
    "# Define X and y\n",
    "y = df['SEVERE']\n",
    "X = df.drop(columns=['SEVERE'], axis=1)"
   ]
  },
  {
   "cell_type": "code",
   "execution_count": 9,
   "metadata": {},
   "outputs": [
    {
     "name": "stdout",
     "output_type": "stream",
     "text": [
      "0    268616\n",
      "1     88048\n",
      "Name: SEVERE, dtype: int64 \n",
      "\n",
      " 0    89717\n",
      "1    29172\n",
      "Name: SEVERE, dtype: int64\n"
     ]
    }
   ],
   "source": [
    "# Split the data into training and test sets\n",
    "X_train, X_test, y_train, y_test = train_test_split(X, y, random_state=42)\n",
    "print(y_train.value_counts(),'\\n\\n', y_test.value_counts())"
   ]
  },
  {
   "cell_type": "code",
   "execution_count": 10,
   "metadata": {},
   "outputs": [
    {
     "name": "stderr",
     "output_type": "stream",
     "text": [
      "C:\\Users\\vijay\\anaconda3\\lib\\site-packages\\sklearn\\linear_model\\_logistic.py:762: ConvergenceWarning: lbfgs failed to converge (status=1):\n",
      "STOP: TOTAL NO. of ITERATIONS REACHED LIMIT.\n",
      "\n",
      "Increase the number of iterations (max_iter) or scale the data as shown in:\n",
      "    https://scikit-learn.org/stable/modules/preprocessing.html\n",
      "Please also refer to the documentation for alternative solver options:\n",
      "    https://scikit-learn.org/stable/modules/linear_model.html#logistic-regression\n",
      "  n_iter_i = _check_optimize_result(\n"
     ]
    },
    {
     "data": {
      "text/plain": [
       "LogisticRegression(C=10000000000.0)"
      ]
     },
     "execution_count": 10,
     "metadata": {},
     "output_type": "execute_result"
    }
   ],
   "source": [
    "# Creating the classifier, fit it on the training data and make predictions on the test set\n",
    "from sklearn.linear_model import LogisticRegression\n",
    "\n",
    "logreg = LogisticRegression(C=1e10)\n",
    "logreg.fit(X_train, y_train)"
   ]
  },
  {
   "cell_type": "code",
   "execution_count": 11,
   "metadata": {},
   "outputs": [],
   "source": [
    "logreg_results = logreg.predict(X_test)"
   ]
  },
  {
   "cell_type": "code",
   "execution_count": 12,
   "metadata": {},
   "outputs": [
    {
     "name": "stdout",
     "output_type": "stream",
     "text": [
      "f1 score Train: 0.7525799110922946\n",
      "f1 score  Test: 0.753723892815782\n"
     ]
    }
   ],
   "source": [
    "print(\"f1 score Train:\",metrics.f1_score(y_train, logreg.predict(X_train)))\n",
    "print(\"f1 score  Test:\",metrics.f1_score(y_test, logreg_results))"
   ]
  },
  {
   "cell_type": "code",
   "execution_count": 13,
   "metadata": {},
   "outputs": [
    {
     "name": "stdout",
     "output_type": "stream",
     "text": [
      "Accuracy : 0.896256171723204\n"
     ]
    }
   ],
   "source": [
    "print(\"Accuracy :\",metrics.accuracy_score(y_test, logreg_results))"
   ]
  },
  {
   "cell_type": "code",
   "execution_count": 14,
   "metadata": {},
   "outputs": [
    {
     "name": "stdout",
     "output_type": "stream",
     "text": [
      "              precision    recall  f1-score   support\n",
      "\n",
      "           0       0.89      0.98      0.93     89717\n",
      "           1       0.90      0.65      0.75     29172\n",
      "\n",
      "    accuracy                           0.90    118889\n",
      "   macro avg       0.90      0.81      0.84    118889\n",
      "weighted avg       0.90      0.90      0.89    118889\n",
      "\n"
     ]
    }
   ],
   "source": [
    "#printing classifiction report of logistic regression\n",
    "print(classification_report(y_test, logreg_results))"
   ]
  },
  {
   "cell_type": "code",
   "execution_count": 15,
   "metadata": {},
   "outputs": [
    {
     "name": "stdout",
     "output_type": "stream",
     "text": [
      "[[87681  2036]\n",
      " [10298 18874]]\n"
     ]
    }
   ],
   "source": [
    "#printing the confusion matrix of Logistic regression\n",
    "print(confusion_matrix(y_test,logreg_results ))"
   ]
  },
  {
   "cell_type": "markdown",
   "metadata": {},
   "source": [
    "# SMOTE to handle class imbalance"
   ]
  },
  {
   "cell_type": "markdown",
   "metadata": {},
   "source": [
    "Using SMOTE to handle the class imbalance in the dataframe as a imbalance of \n",
    "75%(non Severe(0))-25%(Severe(1)) of Target(SEVERE)."
   ]
  },
  {
   "cell_type": "code",
   "execution_count": 16,
   "metadata": {},
   "outputs": [],
   "source": [
    "from imblearn.over_sampling import SMOTE"
   ]
  },
  {
   "cell_type": "code",
   "execution_count": 17,
   "metadata": {},
   "outputs": [],
   "source": [
    "# Fit SMOTE to training data\n",
    "sm = SMOTE(random_state=42)"
   ]
  },
  {
   "cell_type": "code",
   "execution_count": 18,
   "metadata": {},
   "outputs": [],
   "source": [
    "#Resampling the X and y using SMOTE\n",
    "X_resampled, y_resampled = sm.fit_resample(X_train, y_train) "
   ]
  },
  {
   "cell_type": "code",
   "execution_count": 19,
   "metadata": {},
   "outputs": [
    {
     "name": "stdout",
     "output_type": "stream",
     "text": [
      "1    268616\n",
      "0    268616\n",
      "Name: SEVERE, dtype: int64\n"
     ]
    }
   ],
   "source": [
    "# Preview synthetic sample class distribution\n",
    "print(y_resampled.value_counts()) "
   ]
  },
  {
   "cell_type": "code",
   "execution_count": 20,
   "metadata": {},
   "outputs": [],
   "source": [
    "# Split resampled data into training and test sets\n",
    "X_resampled_train, X_resampled_test, y_resampled_train, y_resampled_test = train_test_split(X_resampled, \n",
    "                                                                             y_resampled)"
   ]
  },
  {
   "cell_type": "code",
   "execution_count": 21,
   "metadata": {},
   "outputs": [
    {
     "name": "stdout",
     "output_type": "stream",
     "text": [
      "1    201612\n",
      "0    201312\n",
      "Name: SEVERE, dtype: int64 \n",
      "\n",
      " 0    67304\n",
      "1    67004\n",
      "Name: SEVERE, dtype: int64\n"
     ]
    }
   ],
   "source": [
    "print(y_resampled_train.value_counts(),'\\n\\n', y_resampled_test.value_counts())"
   ]
  },
  {
   "cell_type": "markdown",
   "metadata": {},
   "source": [
    "# Logistic with SMOTE class balanced"
   ]
  },
  {
   "cell_type": "code",
   "execution_count": 22,
   "metadata": {},
   "outputs": [
    {
     "name": "stderr",
     "output_type": "stream",
     "text": [
      "C:\\Users\\vijay\\anaconda3\\lib\\site-packages\\sklearn\\linear_model\\_logistic.py:762: ConvergenceWarning: lbfgs failed to converge (status=1):\n",
      "STOP: TOTAL NO. of ITERATIONS REACHED LIMIT.\n",
      "\n",
      "Increase the number of iterations (max_iter) or scale the data as shown in:\n",
      "    https://scikit-learn.org/stable/modules/preprocessing.html\n",
      "Please also refer to the documentation for alternative solver options:\n",
      "    https://scikit-learn.org/stable/modules/linear_model.html#logistic-regression\n",
      "  n_iter_i = _check_optimize_result(\n"
     ]
    },
    {
     "data": {
      "text/plain": [
       "LogisticRegression(C=10000000000.0)"
      ]
     },
     "execution_count": 22,
     "metadata": {},
     "output_type": "execute_result"
    }
   ],
   "source": [
    "# Creating the logistic regression with resmapled datasets, fit it on the training data and make predictions on the test set\n",
    "logreg.fit(X_resampled_train, y_resampled_train)"
   ]
  },
  {
   "cell_type": "code",
   "execution_count": 23,
   "metadata": {},
   "outputs": [],
   "source": [
    "logreg_resampled_results = logreg.predict(X_resampled_test)"
   ]
  },
  {
   "cell_type": "code",
   "execution_count": 24,
   "metadata": {},
   "outputs": [],
   "source": [
    "logreg_results_test = logreg.predict(X_test)"
   ]
  },
  {
   "cell_type": "code",
   "execution_count": 27,
   "metadata": {},
   "outputs": [
    {
     "name": "stdout",
     "output_type": "stream",
     "text": [
      "f1 score Train: 0.8876260125441202\n",
      "f1 score of resampled test: 0.8879963347587049\n",
      "f1 score Test : 0.7426463052167674\n",
      "Accuracy : 0.8732767539469589\n"
     ]
    }
   ],
   "source": [
    "print(\"f1 score Train:\",metrics.f1_score(y_resampled_train, logreg.predict(X_resampled_train)))\n",
    "print(\"f1 score of resampled test:\",metrics.f1_score(y_resampled_test, logreg_resampled_results))\n",
    "print(\"f1 score Test :\",metrics.f1_score(y_test, logreg_results_test))\n",
    "print(\"Accuracy :\",metrics.accuracy_score(y_test, logreg_results_test))"
   ]
  },
  {
   "cell_type": "code",
   "execution_count": 28,
   "metadata": {},
   "outputs": [
    {
     "name": "stdout",
     "output_type": "stream",
     "text": [
      "              precision    recall  f1-score   support\n",
      "\n",
      "           0       0.92      0.91      0.92     89717\n",
      "           1       0.74      0.75      0.74     29172\n",
      "\n",
      "    accuracy                           0.87    118889\n",
      "   macro avg       0.83      0.83      0.83    118889\n",
      "weighted avg       0.87      0.87      0.87    118889\n",
      "\n"
     ]
    }
   ],
   "source": [
    "#printing calssifiction report of logistic regression resampled\n",
    "print(classification_report(y_test, logreg_results_test))"
   ]
  },
  {
   "cell_type": "code",
   "execution_count": 29,
   "metadata": {},
   "outputs": [
    {
     "name": "stdout",
     "output_type": "stream",
     "text": [
      "[[82085  7632]\n",
      " [ 7434 21738]]\n"
     ]
    }
   ],
   "source": [
    "#printing the confusion matrix of resampled logistic regression\n",
    "print(confusion_matrix(y_test, logreg_results_test ))"
   ]
  },
  {
   "cell_type": "markdown",
   "metadata": {},
   "source": [
    "# Model : K-Nearest Neighbors"
   ]
  },
  {
   "cell_type": "code",
   "execution_count": 30,
   "metadata": {},
   "outputs": [],
   "source": [
    "#importing the skitlearn module of KNN classifier\n",
    "from sklearn.neighbors import KNeighborsClassifier"
   ]
  },
  {
   "cell_type": "code",
   "execution_count": 31,
   "metadata": {},
   "outputs": [],
   "source": [
    "# Creating the KNN classifier, fit it on the training data and make predictions on the test set\n",
    "knn_default = KNeighborsClassifier()"
   ]
  },
  {
   "cell_type": "code",
   "execution_count": 32,
   "metadata": {},
   "outputs": [
    {
     "data": {
      "text/plain": [
       "KNeighborsClassifier()"
      ]
     },
     "execution_count": 32,
     "metadata": {},
     "output_type": "execute_result"
    }
   ],
   "source": [
    "knn_default.fit(X_train, y_train)"
   ]
  },
  {
   "cell_type": "code",
   "execution_count": 33,
   "metadata": {},
   "outputs": [],
   "source": [
    "knn_results= knn_default.predict(X_test)"
   ]
  },
  {
   "cell_type": "code",
   "execution_count": 32,
   "metadata": {},
   "outputs": [
    {
     "name": "stdout",
     "output_type": "stream",
     "text": [
      "f1 score Train: 0.6831194471865746\n",
      "f1 score  Test: 0.567458899213724\n",
      "Accuracy : 0.8371253858641253\n"
     ]
    }
   ],
   "source": [
    "print(\"f1 score Train:\",metrics.f1_score(y_train, knn_default.predict(X_train)))\n",
    "print(\"f1 score  Test:\",metrics.f1_score(y_test, knn_results))\n",
    "print(\"Accuracy :\",metrics.accuracy_score(y_test, knn_results))"
   ]
  },
  {
   "cell_type": "code",
   "execution_count": 33,
   "metadata": {},
   "outputs": [
    {
     "name": "stdout",
     "output_type": "stream",
     "text": [
      "              precision    recall  f1-score   support\n",
      "\n",
      "           0       0.84      0.97      0.90     89717\n",
      "           1       0.81      0.44      0.57     29172\n",
      "\n",
      "    accuracy                           0.84    118889\n",
      "   macro avg       0.83      0.70      0.73    118889\n",
      "weighted avg       0.83      0.84      0.82    118889\n",
      "\n"
     ]
    }
   ],
   "source": [
    "#Printing classification roport of KNN model \n",
    "print(classification_report(y_test, knn_results ))"
   ]
  },
  {
   "cell_type": "code",
   "execution_count": 35,
   "metadata": {},
   "outputs": [
    {
     "name": "stdout",
     "output_type": "stream",
     "text": [
      "[[86823  2894]\n",
      " [16470 12702]]\n"
     ]
    }
   ],
   "source": [
    "#Printing the Confusion matrix of KNN model\n",
    "print(confusion_matrix(y_test, knn_results))"
   ]
  },
  {
   "cell_type": "markdown",
   "metadata": {},
   "source": [
    "# KNN with SMOTE Class balanced"
   ]
  },
  {
   "cell_type": "code",
   "execution_count": 38,
   "metadata": {},
   "outputs": [],
   "source": [
    "# Creating the KNN resampled classifier, fit it on the training data and make predictions on the test set\n",
    "knn_resampled = knn_default.fit(X_resampled_train, y_resampled_train)"
   ]
  },
  {
   "cell_type": "code",
   "execution_count": 39,
   "metadata": {},
   "outputs": [],
   "source": [
    "knn_resampled_results = knn_resampled.predict(X_resampled_test)"
   ]
  },
  {
   "cell_type": "code",
   "execution_count": 40,
   "metadata": {},
   "outputs": [],
   "source": [
    "knn_results_test = knn_resampled.predict(X_test)"
   ]
  },
  {
   "cell_type": "code",
   "execution_count": 43,
   "metadata": {},
   "outputs": [
    {
     "name": "stdout",
     "output_type": "stream",
     "text": [
      "f1 score Resampled Train: 0.9120417849775936\n",
      "f1 score of resampled Test: 0.8663049717112636\n",
      "f1 score Test : 0.6001695551262629\n",
      "Accuracy : 0.7580179831607634\n"
     ]
    }
   ],
   "source": [
    "print(\"f1 score Resampled Train:\",metrics.f1_score(y_resampled_train, knn_resampled.predict(X_resampled_train)))\n",
    "print(\"f1 score of resampled Test:\",metrics.f1_score(y_resampled_test, knn_resampled_results))\n",
    "print(\"f1 score Test :\",metrics.f1_score(y_test, knn_results_test))\n",
    "print(\"Accuracy :\",metrics.accuracy_score(y_test, knn_results_test))"
   ]
  },
  {
   "cell_type": "code",
   "execution_count": 44,
   "metadata": {},
   "outputs": [
    {
     "name": "stdout",
     "output_type": "stream",
     "text": [
      "[[68528 21189]\n",
      " [ 7580 21592]]\n"
     ]
    }
   ],
   "source": [
    "#Printing Confusion matrix of KNN resampled\n",
    "print(confusion_matrix(y_test, knn_results_test))"
   ]
  },
  {
   "cell_type": "code",
   "execution_count": 45,
   "metadata": {},
   "outputs": [
    {
     "name": "stdout",
     "output_type": "stream",
     "text": [
      "              precision    recall  f1-score   support\n",
      "\n",
      "           0       0.90      0.76      0.83     89717\n",
      "           1       0.50      0.74      0.60     29172\n",
      "\n",
      "    accuracy                           0.76    118889\n",
      "   macro avg       0.70      0.75      0.71    118889\n",
      "weighted avg       0.80      0.76      0.77    118889\n",
      "\n"
     ]
    }
   ],
   "source": [
    "#printing the classification report of KNN resampled\n",
    "print(classification_report(y_test, knn_results_test ))"
   ]
  },
  {
   "cell_type": "markdown",
   "metadata": {},
   "source": [
    "# Model : Decision Trees class weight balanced"
   ]
  },
  {
   "cell_type": "code",
   "execution_count": 46,
   "metadata": {},
   "outputs": [],
   "source": [
    "#importing the sci-kitlearn modulus of decision tree classifier\n",
    "from sklearn.tree import DecisionTreeClassifier\n",
    "from sklearn.tree import plot_tree"
   ]
  },
  {
   "cell_type": "code",
   "execution_count": 47,
   "metadata": {},
   "outputs": [],
   "source": [
    "# Creating the Decision Tree classifier, fit it on the training data and make predictions on the test set\n",
    "dtree_default = DecisionTreeClassifier(class_weight='balanced')\n"
   ]
  },
  {
   "cell_type": "code",
   "execution_count": 48,
   "metadata": {},
   "outputs": [
    {
     "data": {
      "text/plain": [
       "DecisionTreeClassifier(class_weight='balanced')"
      ]
     },
     "execution_count": 48,
     "metadata": {},
     "output_type": "execute_result"
    }
   ],
   "source": [
    "dtree_default.fit(X_train, y_train)"
   ]
  },
  {
   "cell_type": "code",
   "execution_count": 49,
   "metadata": {},
   "outputs": [],
   "source": [
    "dtree_results= dtree_default.predict(X_test)"
   ]
  },
  {
   "cell_type": "code",
   "execution_count": 50,
   "metadata": {},
   "outputs": [
    {
     "name": "stdout",
     "output_type": "stream",
     "text": [
      "f1 score Train: 0.99728159298651\n",
      "f1 score Test : 0.6942630873848971\n",
      "Accuracy : 0.8483543473323857\n"
     ]
    }
   ],
   "source": [
    "print(\"f1 score Train:\",metrics.f1_score(y_train, dtree_default.predict(X_train)))\n",
    "print(\"f1 score Test :\",metrics.f1_score(y_test, dtree_results))\n",
    "print(\"Accuracy :\",metrics.accuracy_score(y_test, dtree_results))"
   ]
  },
  {
   "cell_type": "code",
   "execution_count": 51,
   "metadata": {},
   "outputs": [
    {
     "name": "stdout",
     "output_type": "stream",
     "text": [
      "[[80390  9327]\n",
      " [ 8702 20470]]\n"
     ]
    }
   ],
   "source": [
    "#Printing the confusion matrix of Decision Tree \n",
    "print(confusion_matrix(y_test, dtree_results))"
   ]
  },
  {
   "cell_type": "code",
   "execution_count": 52,
   "metadata": {},
   "outputs": [
    {
     "name": "stdout",
     "output_type": "stream",
     "text": [
      "              precision    recall  f1-score   support\n",
      "\n",
      "           0       0.90      0.90      0.90     89717\n",
      "           1       0.69      0.70      0.69     29172\n",
      "\n",
      "    accuracy                           0.85    118889\n",
      "   macro avg       0.79      0.80      0.80    118889\n",
      "weighted avg       0.85      0.85      0.85    118889\n",
      "\n"
     ]
    }
   ],
   "source": [
    "#Printing the classification report of Decision Tree \n",
    "print(classification_report(y_test, dtree_results))"
   ]
  },
  {
   "cell_type": "markdown",
   "metadata": {},
   "source": [
    "# Decision Tree model using a Smote class balance"
   ]
  },
  {
   "cell_type": "code",
   "execution_count": 53,
   "metadata": {},
   "outputs": [],
   "source": [
    "# Creating the Decision Tree with resampled data, fit it on the training data and make predictions on the test set\n",
    "dtree_resampled = DecisionTreeClassifier()"
   ]
  },
  {
   "cell_type": "code",
   "execution_count": 54,
   "metadata": {},
   "outputs": [
    {
     "data": {
      "text/plain": [
       "DecisionTreeClassifier()"
      ]
     },
     "execution_count": 54,
     "metadata": {},
     "output_type": "execute_result"
    }
   ],
   "source": [
    "dtree_resampled.fit(X_resampled_train, y_resampled_train)"
   ]
  },
  {
   "cell_type": "code",
   "execution_count": 55,
   "metadata": {},
   "outputs": [],
   "source": [
    "dtree_resampled_results =  dtree_resampled.predict(X_resampled_test)"
   ]
  },
  {
   "cell_type": "code",
   "execution_count": 56,
   "metadata": {},
   "outputs": [],
   "source": [
    "dtree_test_results = dtree_resampled.predict(X_test)"
   ]
  },
  {
   "cell_type": "code",
   "execution_count": 58,
   "metadata": {},
   "outputs": [
    {
     "name": "stdout",
     "output_type": "stream",
     "text": [
      "f1 score Train: 0.9990818858560794\n",
      "f1 score of resampled Test : 0.8863936299627677\n",
      "f1 score Test: 0.6813823639530531\n",
      "Accuracy : 0.8353674435818285\n"
     ]
    }
   ],
   "source": [
    "print(\"f1 score Train:\",metrics.f1_score(y_resampled_train, dtree_resampled.predict(X_resampled_train)))\n",
    "print(\"f1 score of resampled Test :\",metrics.f1_score(y_resampled_test, dtree_resampled_results))\n",
    "print(\"f1 score Test:\",metrics.f1_score(y_test, dtree_test_results))\n",
    "print(\"Accuracy :\",metrics.accuracy_score(y_test, dtree_test_results))"
   ]
  },
  {
   "cell_type": "code",
   "execution_count": 59,
   "metadata": {},
   "outputs": [
    {
     "name": "stdout",
     "output_type": "stream",
     "text": [
      "[[78387 11330]\n",
      " [ 8243 20929]]\n"
     ]
    }
   ],
   "source": [
    "#printing the confusion matrix of the Decision Tree resampled data\n",
    "print(confusion_matrix(y_test, dtree_test_results))"
   ]
  },
  {
   "cell_type": "code",
   "execution_count": 60,
   "metadata": {},
   "outputs": [
    {
     "name": "stdout",
     "output_type": "stream",
     "text": [
      "              precision    recall  f1-score   support\n",
      "\n",
      "           0       0.90      0.87      0.89     89717\n",
      "           1       0.65      0.72      0.68     29172\n",
      "\n",
      "    accuracy                           0.84    118889\n",
      "   macro avg       0.78      0.80      0.79    118889\n",
      "weighted avg       0.84      0.84      0.84    118889\n",
      "\n"
     ]
    }
   ],
   "source": [
    "#Printing the classifiction report of Decision Tree  resampled data\n",
    "print(classification_report(y_test, dtree_test_results))"
   ]
  },
  {
   "cell_type": "markdown",
   "metadata": {},
   "source": [
    "# Decision Tree with Grid Search"
   ]
  },
  {
   "cell_type": "code",
   "execution_count": 61,
   "metadata": {},
   "outputs": [],
   "source": [
    "# Creating the Decision tree with Grid Search and reasmpled data\n",
    "from sklearn.model_selection import GridSearchCV\n",
    "dtree_param_grid = {\n",
    "    'max_depth' : [ 7,9],\n",
    "    'min_samples_leaf' : [2, 5],\n",
    "    'min_samples_split' : [2, 5 ],\n",
    "    'class_weight' : ['balanced']\n",
    "}"
   ]
  },
  {
   "cell_type": "code",
   "execution_count": 62,
   "metadata": {},
   "outputs": [],
   "source": [
    "dtree_grid = GridSearchCV(estimator= DecisionTreeClassifier(), \n",
    "                          param_grid=dtree_param_grid, scoring = 'recall')"
   ]
  },
  {
   "cell_type": "code",
   "execution_count": 63,
   "metadata": {},
   "outputs": [
    {
     "data": {
      "text/plain": [
       "GridSearchCV(estimator=DecisionTreeClassifier(),\n",
       "             param_grid={'class_weight': ['balanced'], 'max_depth': [7, 9],\n",
       "                         'min_samples_leaf': [2, 5],\n",
       "                         'min_samples_split': [2, 5]},\n",
       "             scoring='recall')"
      ]
     },
     "execution_count": 63,
     "metadata": {},
     "output_type": "execute_result"
    }
   ],
   "source": [
    "dtree_grid.fit(X_resampled_train, y_resampled_train)"
   ]
  },
  {
   "cell_type": "code",
   "execution_count": 64,
   "metadata": {},
   "outputs": [
    {
     "data": {
      "text/plain": [
       "{'class_weight': 'balanced',\n",
       " 'max_depth': 9,\n",
       " 'min_samples_leaf': 5,\n",
       " 'min_samples_split': 5}"
      ]
     },
     "execution_count": 64,
     "metadata": {},
     "output_type": "execute_result"
    }
   ],
   "source": [
    "#printing the best parameters of the GridSearch Decision Tree model resampled data\n",
    "dtree_grid.best_params_"
   ]
  },
  {
   "cell_type": "code",
   "execution_count": 65,
   "metadata": {},
   "outputs": [],
   "source": [
    "dtree_grid_res_resam_test = dtree_grid.predict(X_resampled_test)"
   ]
  },
  {
   "cell_type": "code",
   "execution_count": 66,
   "metadata": {},
   "outputs": [],
   "source": [
    "dtree_grid_results_test = dtree_grid.predict(X_test)"
   ]
  },
  {
   "cell_type": "code",
   "execution_count": 67,
   "metadata": {},
   "outputs": [
    {
     "name": "stdout",
     "output_type": "stream",
     "text": [
      "f1 score Train: 0.8560192211670136\n",
      "f1 score resampled Test:  0.8557782439851805\n",
      "f1 score Test: 0.7040494628263597\n",
      "Accuracy : 0.8373440772485259\n"
     ]
    }
   ],
   "source": [
    "print(\"f1 score Train:\",metrics.f1_score(y_resampled_train, dtree_grid.predict(X_resampled_train)))\n",
    "print(\"f1 score resampled Test: \",metrics.f1_score(y_resampled_test, dtree_grid_res_resam_test))\n",
    "print(\"f1 score Test:\",metrics.f1_score(y_test, dtree_grid_results_test))\n",
    "print(\"Accuracy :\",metrics.accuracy_score(y_test, dtree_grid_results_test))"
   ]
  },
  {
   "cell_type": "code",
   "execution_count": 68,
   "metadata": {},
   "outputs": [
    {
     "name": "stdout",
     "output_type": "stream",
     "text": [
      "[[76549 13168]\n",
      " [ 6170 23002]]\n"
     ]
    }
   ],
   "source": [
    "#Printing the confusion Matrix of the GridSearch Decsion Tree resampled data\n",
    "print(confusion_matrix(y_test, dtree_grid_results_test))"
   ]
  },
  {
   "cell_type": "code",
   "execution_count": 69,
   "metadata": {},
   "outputs": [
    {
     "name": "stdout",
     "output_type": "stream",
     "text": [
      "              precision    recall  f1-score   support\n",
      "\n",
      "           0       0.93      0.85      0.89     89717\n",
      "           1       0.64      0.79      0.70     29172\n",
      "\n",
      "    accuracy                           0.84    118889\n",
      "   macro avg       0.78      0.82      0.80    118889\n",
      "weighted avg       0.85      0.84      0.84    118889\n",
      "\n"
     ]
    }
   ],
   "source": [
    "#Printing the clssification matrix of GridSearch Decision Tree resampled data\n",
    "print(classification_report(y_test, dtree_grid_results_test))"
   ]
  },
  {
   "cell_type": "code",
   "execution_count": 70,
   "metadata": {},
   "outputs": [
    {
     "data": {
      "image/png": "[encoded data removed]",
      "text/plain": [
       "<Figure size 2520x1440 with 1 Axes>"
      ]
     },
     "metadata": {
      "needs_background": "light"
     },
     "output_type": "display_data"
    }
   ],
   "source": [
    "#Plotting the tree of GridSearch DecisionTree of resampled data\n",
    "fig = plt.figure(figsize=(35,20))\n",
    "_ = plot_tree(dtree_grid.best_estimator_, \n",
    "                   feature_names=X.columns,\n",
    "                   filled=True)"
   ]
  },
  {
   "cell_type": "markdown",
   "metadata": {},
   "source": [
    "# Random Forest "
   ]
  },
  {
   "cell_type": "code",
   "execution_count": 71,
   "metadata": {},
   "outputs": [],
   "source": [
    "#importing skitlearn module for Random Forest classifier\n",
    "from sklearn.ensemble import BaggingClassifier, RandomForestClassifier"
   ]
  },
  {
   "cell_type": "code",
   "execution_count": 72,
   "metadata": {},
   "outputs": [],
   "source": [
    "# Instantiate and fit a RandomForestClassifier\n",
    "rfc= RandomForestClassifier(class_weight = 'balanced', n_estimators=100,\n",
    "                            random_state = 42, max_depth= 5,)"
   ]
  },
  {
   "cell_type": "code",
   "execution_count": 73,
   "metadata": {},
   "outputs": [],
   "source": [
    "rfc_default = rfc.fit(X_train, y_train)"
   ]
  },
  {
   "cell_type": "code",
   "execution_count": 74,
   "metadata": {},
   "outputs": [],
   "source": [
    "rfc_results = rfc_default.predict(X_test)"
   ]
  },
  {
   "cell_type": "code",
   "execution_count": 75,
   "metadata": {},
   "outputs": [
    {
     "name": "stdout",
     "output_type": "stream",
     "text": [
      "f1 score Train: 0.7547479673785249\n",
      "f1 score Test:  0.7599323435444465\n",
      "Accuracy : 0.8925552406025788\n"
     ]
    }
   ],
   "source": [
    "print(\"f1 score Train:\",metrics.f1_score(y_train, rfc_default.predict(X_train)))\n",
    "print(\"f1 score Test: \",metrics.f1_score(y_test, rfc_results))\n",
    "print(\"Accuracy :\",metrics.accuracy_score(y_test, rfc_results))"
   ]
  },
  {
   "cell_type": "code",
   "execution_count": 76,
   "metadata": {},
   "outputs": [
    {
     "name": "stdout",
     "output_type": "stream",
     "text": [
      "[[85897  3820]\n",
      " [ 8954 20218]]\n"
     ]
    }
   ],
   "source": [
    "#printing the confusion matrix of Random Forestof resampled data\n",
    "print(confusion_matrix(y_test, rfc_results))"
   ]
  },
  {
   "cell_type": "code",
   "execution_count": 77,
   "metadata": {},
   "outputs": [
    {
     "name": "stdout",
     "output_type": "stream",
     "text": [
      "              precision    recall  f1-score   support\n",
      "\n",
      "           0       0.91      0.96      0.93     89717\n",
      "           1       0.84      0.69      0.76     29172\n",
      "\n",
      "    accuracy                           0.89    118889\n",
      "   macro avg       0.87      0.83      0.85    118889\n",
      "weighted avg       0.89      0.89      0.89    118889\n",
      "\n"
     ]
    }
   ],
   "source": [
    "#printing the classification report of Random Forest resanpled data\n",
    "print(classification_report(y_test, rfc_results))"
   ]
  },
  {
   "cell_type": "markdown",
   "metadata": {},
   "source": [
    "# Random Forest with SMOTE and class weight balanced"
   ]
  },
  {
   "cell_type": "code",
   "execution_count": 78,
   "metadata": {},
   "outputs": [],
   "source": [
    "# Instantiate and fit a RandomForestClassifier\n",
    "rfc= RandomForestClassifier(class_weight = 'balanced', n_estimators=100,\n",
    "                            random_state = 42, max_depth= 5,)"
   ]
  },
  {
   "cell_type": "code",
   "execution_count": 79,
   "metadata": {},
   "outputs": [],
   "source": [
    "rfc_resampled = rfc.fit(X_resampled_train, y_resampled_train)"
   ]
  },
  {
   "cell_type": "code",
   "execution_count": 80,
   "metadata": {},
   "outputs": [],
   "source": [
    "rfc_resampled_results = rfc.predict(X_resampled_test)"
   ]
  },
  {
   "cell_type": "code",
   "execution_count": 81,
   "metadata": {},
   "outputs": [],
   "source": [
    "rfc_results_test = rfc.predict(X_test)"
   ]
  },
  {
   "cell_type": "code",
   "execution_count": 82,
   "metadata": {},
   "outputs": [
    {
     "name": "stdout",
     "output_type": "stream",
     "text": [
      "f1 score Train: 0.8142804618405789\n",
      "f1 score resampled Test:  0.8130821065281771\n",
      "f1 score of Test :  0.744755864568356\n",
      "Accuracy : 0.8909991672904979\n"
     ]
    }
   ],
   "source": [
    "print(\"f1 score Train:\",metrics.f1_score(y_resampled_train, rfc.predict(X_resampled_train)))\n",
    "print(\"f1 score resampled Test: \",metrics.f1_score(y_resampled_test, rfc_resampled_results))\n",
    "print(\"f1 score of Test : \",metrics.f1_score(y_test,rfc_results_test))\n",
    "print(\"Accuracy :\",metrics.accuracy_score(y_test, rfc_results_test))"
   ]
  },
  {
   "cell_type": "code",
   "execution_count": 84,
   "metadata": {},
   "outputs": [
    {
     "name": "stdout",
     "output_type": "stream",
     "text": [
      "[[87024  2693]\n",
      " [10266 18906]]\n"
     ]
    }
   ],
   "source": [
    "#printing the confusion matrix of Random Forestof resampled data\n",
    "print(confusion_matrix(y_test, rfc_results_test))"
   ]
  },
  {
   "cell_type": "code",
   "execution_count": 85,
   "metadata": {},
   "outputs": [
    {
     "name": "stdout",
     "output_type": "stream",
     "text": [
      "              precision    recall  f1-score   support\n",
      "\n",
      "           0       0.89      0.97      0.93     89717\n",
      "           1       0.88      0.65      0.74     29172\n",
      "\n",
      "    accuracy                           0.89    118889\n",
      "   macro avg       0.88      0.81      0.84    118889\n",
      "weighted avg       0.89      0.89      0.89    118889\n",
      "\n"
     ]
    }
   ],
   "source": [
    "#printing the classification report of Random Forest resanpled data\n",
    "print(classification_report(y_test, rfc_results_test))"
   ]
  },
  {
   "cell_type": "markdown",
   "metadata": {},
   "source": [
    "# Random Forest with Grid Search"
   ]
  },
  {
   "cell_type": "code",
   "execution_count": 86,
   "metadata": {},
   "outputs": [],
   "source": [
    "rfc_params = { \n",
    "    'n_estimators': [200,300],\n",
    "    'max_depth': [3,7],\n",
    "    'max_features': [0.6, 0.7],\n",
    "    'criterion': ['gini', 'entropy'],\n",
    "    'class_weight': [None, 'balanced']}"
   ]
  },
  {
   "cell_type": "code",
   "execution_count": 89,
   "metadata": {},
   "outputs": [],
   "source": [
    "rfc_grid = GridSearchCV(estimator= RandomForestClassifier(), \n",
    "                          param_grid=rfc_params, scoring = 'recall')"
   ]
  },
  {
   "cell_type": "code",
   "execution_count": 90,
   "metadata": {},
   "outputs": [
    {
     "data": {
      "text/plain": [
       "GridSearchCV(estimator=RandomForestClassifier(),\n",
       "             param_grid={'class_weight': [None, 'balanced'],\n",
       "                         'criterion': ['gini', 'entropy'], 'max_depth': [3, 7],\n",
       "                         'max_features': [0.6, 0.7],\n",
       "                         'n_estimators': [200, 300]},\n",
       "             scoring='recall')"
      ]
     },
     "execution_count": 90,
     "metadata": {},
     "output_type": "execute_result"
    }
   ],
   "source": [
    "rfc_grid.fit(X_train,y_train)"
   ]
  },
  {
   "cell_type": "code",
   "execution_count": 91,
   "metadata": {},
   "outputs": [
    {
     "data": {
      "text/plain": [
       "{'class_weight': 'balanced',\n",
       " 'criterion': 'gini',\n",
       " 'max_depth': 7,\n",
       " 'max_features': 0.6,\n",
       " 'n_estimators': 300}"
      ]
     },
     "execution_count": 91,
     "metadata": {},
     "output_type": "execute_result"
    }
   ],
   "source": [
    "#printing the best parameters of the GridSearch Decision Tree model resampled data\n",
    "rfc_grid.best_params_"
   ]
  },
  {
   "cell_type": "code",
   "execution_count": 92,
   "metadata": {},
   "outputs": [],
   "source": [
    "rfc_grid_results = rfc_grid.predict(X_test)"
   ]
  },
  {
   "cell_type": "code",
   "execution_count": 93,
   "metadata": {},
   "outputs": [
    {
     "name": "stdout",
     "output_type": "stream",
     "text": [
      "f1 score Train: 0.7381132962302244\n",
      "f1 score Test:  0.7406368399838774\n",
      "Accuracy : 0.8646889115056902\n"
     ]
    }
   ],
   "source": [
    "print(\"f1 score Train:\",metrics.f1_score(y_train, rfc_grid.predict(X_train)))\n",
    "print(\"f1 score Test: \",metrics.f1_score(y_test, rfc_grid_results))\n",
    "print(\"Accuracy :\",metrics.accuracy_score(y_test, rfc_grid_results))"
   ]
  },
  {
   "cell_type": "code",
   "execution_count": 94,
   "metadata": {},
   "outputs": [
    {
     "name": "stdout",
     "output_type": "stream",
     "text": [
      "[[79833  9884]\n",
      " [ 6203 22969]]\n"
     ]
    }
   ],
   "source": [
    "#printing the confusion matrix of Random Forestof resampled data\n",
    "print(confusion_matrix(y_test, rfc_grid_results))"
   ]
  },
  {
   "cell_type": "code",
   "execution_count": 95,
   "metadata": {},
   "outputs": [
    {
     "name": "stdout",
     "output_type": "stream",
     "text": [
      "              precision    recall  f1-score   support\n",
      "\n",
      "           0       0.93      0.89      0.91     89717\n",
      "           1       0.70      0.79      0.74     29172\n",
      "\n",
      "    accuracy                           0.86    118889\n",
      "   macro avg       0.81      0.84      0.82    118889\n",
      "weighted avg       0.87      0.86      0.87    118889\n",
      "\n"
     ]
    }
   ],
   "source": [
    "#printing the classification report of Random Forest resanpled data\n",
    "print(classification_report(y_test, rfc_grid_results))"
   ]
  },
  {
   "cell_type": "markdown",
   "metadata": {},
   "source": [
    "#  Pipeline with StandardScaler and Logisitic Regression "
   ]
  },
  {
   "cell_type": "code",
   "execution_count": 96,
   "metadata": {},
   "outputs": [],
   "source": [
    "from sklearn.pipeline import Pipeline\n",
    "from sklearn.preprocessing import StandardScaler\n",
    "from sklearn.model_selection import GridSearchCV"
   ]
  },
  {
   "cell_type": "code",
   "execution_count": 97,
   "metadata": {},
   "outputs": [],
   "source": [
    "# Build a pipeline with StandardScaler and logistic Regression\n",
    "logreg_pipeline = Pipeline([('ss', StandardScaler()),\n",
    "                              ('LR', LogisticRegression(solver='liblinear', fit_intercept=False, random_state=42))])"
   ]
  },
  {
   "cell_type": "code",
   "execution_count": 98,
   "metadata": {
    "scrolled": true
   },
   "outputs": [
    {
     "data": {
      "text/plain": [
       "Pipeline(steps=[('ss', StandardScaler()),\n",
       "                ('LR',\n",
       "                 LogisticRegression(fit_intercept=False, random_state=42,\n",
       "                                    solver='liblinear'))])"
      ]
     },
     "execution_count": 98,
     "metadata": {},
     "output_type": "execute_result"
    }
   ],
   "source": [
    "logreg_pipeline.fit(X_train, y_train)"
   ]
  },
  {
   "cell_type": "code",
   "execution_count": 99,
   "metadata": {},
   "outputs": [],
   "source": [
    "logreg_pipeline_results =  logreg_pipeline.predict(X_test)"
   ]
  },
  {
   "cell_type": "code",
   "execution_count": 100,
   "metadata": {},
   "outputs": [
    {
     "name": "stdout",
     "output_type": "stream",
     "text": [
      "f1 score Train: 0.7591065292096221\n",
      "f1 score Test:  0.7610922862268289\n",
      "Accuracy : 0.8991832717913347\n"
     ]
    }
   ],
   "source": [
    "print(\"f1 score Train:\",metrics.f1_score(y_train, logreg_pipeline.predict(X_train)))\n",
    "print(\"f1 score Test: \",metrics.f1_score(y_test, logreg_pipeline_results))\n",
    "print(\"Accuracy :\",metrics.accuracy_score(y_test, logreg_pipeline_results))"
   ]
  },
  {
   "cell_type": "code",
   "execution_count": 101,
   "metadata": {},
   "outputs": [
    {
     "name": "stdout",
     "output_type": "stream",
     "text": [
      "[[87811  1906]\n",
      " [10080 19092]]\n"
     ]
    }
   ],
   "source": [
    "print(confusion_matrix(y_test, logreg_pipeline_results))"
   ]
  },
  {
   "cell_type": "code",
   "execution_count": 102,
   "metadata": {},
   "outputs": [
    {
     "name": "stdout",
     "output_type": "stream",
     "text": [
      "              precision    recall  f1-score   support\n",
      "\n",
      "           0       0.90      0.98      0.94     89717\n",
      "           1       0.91      0.65      0.76     29172\n",
      "\n",
      "    accuracy                           0.90    118889\n",
      "   macro avg       0.90      0.82      0.85    118889\n",
      "weighted avg       0.90      0.90      0.89    118889\n",
      "\n"
     ]
    }
   ],
   "source": [
    "print(classification_report(y_test, logreg_pipeline_results))"
   ]
  },
  {
   "cell_type": "markdown",
   "metadata": {},
   "source": [
    "# Feature Importance: Model Decision Tree(SMOTE class balance)"
   ]
  },
  {
   "cell_type": "markdown",
   "metadata": {},
   "source": [
    "considering the model Decision Tree with SMOTE class balance feature importance since\n",
    "Accuracy of the model is 89%"
   ]
  },
  {
   "cell_type": "code",
   "execution_count": 103,
   "metadata": {},
   "outputs": [
    {
     "name": "stdout",
     "output_type": "stream",
     "text": [
      "INJURIES_TOTAL   -   0.38084295843766175\n",
      "DAMAGE_OVER $1,500   -   0.077747057655628\n",
      "CRASH_HOUR   -   0.052972890942562106\n",
      "INJURIES_NO_INDICATION   -   0.03468802952131286\n",
      "CRASH_MONTH   -   0.03257726209607747\n",
      "CRASH_DAY_OF_WEEK   -   0.03153389547760695\n",
      "FIRST_CRASH_TYPE_REAR END   -   0.02656716120645604\n",
      "FIRST_CRASH_TYPE_SIDESWIPE SAME DIRECTION   -   0.019947122635838265\n",
      "LANE_CNT   -   0.019922548253067975\n",
      "TRAFFICWAY_TYPE_PARKING LOT   -   0.01911942452599343\n",
      "POSTED_SPEED_LIMIT   -   0.01757728483772674\n",
      "NUM_UNITS   -   0.017005386140318282\n",
      "HIT_AND_RUN_I   -   0.01617866689774801\n",
      "PRIM_CONTRIBUTORY_CAUSE_UNABLE TO DETERMINE   -   0.013547401657454173\n",
      "PRIM_CONTRIBUTORY_CAUSE_IMPROPER BACKING   -   0.011029378402926381\n",
      "FIRST_CRASH_TYPE_TURNING   -   0.010113618914525906\n",
      "PRIM_CONTRIBUTORY_CAUSE_NOT APPLICABLE   -   0.008873413907983001\n",
      "PRIM_CONTRIBUTORY_CAUSE_FAILING TO YIELD RIGHT-OF-WAY   -   0.007486597485725047\n",
      "TRAFFICWAY_TYPE_NOT DIVIDED   -   0.007162951818575101\n",
      "PRIM_CONTRIBUTORY_CAUSE_DRIVING SKILLS/KNOWLEDGE/EXPERIENCE   -   0.0070199187347734955\n",
      "TRAFFICWAY_TYPE_DIVIDED - W/MEDIAN (NOT RAISED)   -   0.006358655265859925\n",
      "ROAD_DEFECT_UNKNOWN/OTHER   -   0.005871911274430556\n",
      "INTERSECTION_RELATED_I   -   0.005778337225504551\n",
      "PRIM_CONTRIBUTORY_CAUSE_IMPROPER OVERTAKING/PASSING   -   0.005620370572254656\n",
      "SEASON_Spring   -   0.005344322974750696\n",
      "TRAFFICWAY_TYPE_ONE-WAY   -   0.005308184487464009\n",
      "PRIM_CONTRIBUTORY_CAUSE_FOLLOWING TOO CLOSELY   -   0.005246968383267417\n",
      "SEASON_Summer   -   0.005203770177239483\n",
      "PRIM_CONTRIBUTORY_CAUSE_IMPROPER LANE USAGE   -   0.005090633741520693\n",
      "PRIM_CONTRIBUTORY_CAUSE_IMPROPER TURNING/NO SIGNAL   -   0.005052132781373312\n",
      "ROAD_DEFECT_NO DEFECTS   -   0.004996702606284492\n",
      "LIGHTING_CONDITION_DAYLIGHT   -   0.00492785405145664\n",
      "ROADWAY_SURFACE_COND_WET   -   0.004721052788480077\n",
      "LIGHTING_CONDITION_DARKNESS, LIGHTED ROAD   -   0.004704389655402646\n",
      "DAMAGE_$501 - $1,500   -   0.004133675130189194\n",
      "PRIM_CONTRIBUTORY_CAUSE_WEATHER   -   0.0038448956227954112\n",
      "PRIM_CONTRIBUTORY_CAUSE_FAILING TO REDUCE SPEED TO AVOID CRASH   -   0.0036971503551630537\n",
      "TRAFFIC_CONTROL_DEVICE_TRAFFIC SIGNAL   -   0.0036820566044243434\n",
      "DEVICE_CONDITION_FUNCTIONING PROPERLY   -   0.0036485935683493627\n",
      "TRAFFICWAY_TYPE_UNKNOWN/OTHER   -   0.003637006698233658\n",
      "WEATHER_CONDITION_RAIN   -   0.003540490724776742\n",
      "DEVICE_CONDITION_NO CONTROLS   -   0.0034328078291754683\n",
      "TRAFFICWAY_TYPE_DIVIDED - W/MEDIAN BARRIER   -   0.003407181467813893\n",
      "TRAFFIC_CONTROL_DEVICE_NO CONTROLS   -   0.003369464347289225\n",
      "TRAFFIC_CONTROL_DEVICE_STOP SIGN/FLASHER   -   0.0033551468344334566\n",
      "FIRST_CRASH_TYPE_PARKED MOTOR VEHICLE   -   0.0029995191543022094\n",
      "PRIM_CONTRIBUTORY_CAUSE_OPERATING VEHICLE IN ERRATIC, RECKLESS, CARELESS, NEGLIGENT OR AGGRESSIVE MANNER   -   0.002831089314276293\n",
      "TRAFFICWAY_TYPE_INTERSECTION   -   0.0026018781769604226\n",
      "PRIM_CONTRIBUTORY_CAUSE_VISION OBSCURED (SIGNS, TREE LIMBS, BUILDINGS, ETC.)   -   0.002456570873501241\n",
      "SEASON_Fall   -   0.0023608757857192884\n",
      "ALIGNMENT_STRAIGHT AND LEVEL   -   0.0022473760888493247\n",
      "WEATHER_CONDITION_CLOUDY/OVERCAST   -   0.0022094743775274333\n",
      "NOT_RIGHT_OF_WAY_I   -   0.0020735219096132363\n",
      "WEATHER_CONDITION_UNKNOWN/OTHER   -   0.002019459728764714\n",
      "WEATHER_CONDITION_SNOW   -   0.0020108895041770244\n",
      "FIRST_CRASH_TYPE_FIXED OBJECT   -   0.001999812260113608\n",
      "ROADWAY_SURFACE_COND_SNOW OR SLUSH   -   0.001993717940916763\n",
      "ROADWAY_SURFACE_COND_UNKNOWN/OTHER   -   0.0018439695805564122\n",
      "PRIM_CONTRIBUTORY_CAUSE_DISREGARDING STOP SIGN   -   0.0017440081463968298\n",
      "LIGHTING_CONDITION_DUSK   -   0.0017414182324025646\n",
      "PRIM_CONTRIBUTORY_CAUSE_DISREGARDING TRAFFIC SIGNALS   -   0.0017358516821094712\n",
      "PRIM_CONTRIBUTORY_CAUSE_DISTRACTION - FROM INSIDE VEHICLE   -   0.0016207328281547158\n",
      "FIRST_CRASH_TYPE_OTHER OBJECT   -   0.0016069331606577465\n",
      "DEVICE_CONDITION_UNKNOWN   -   0.0015987895216639987\n",
      "FIRST_CRASH_TYPE_SIDESWIPE OPPOSITE DIRECTION   -   0.0014506087312679352\n",
      "PRIM_CONTRIBUTORY_CAUSE_DISTRACTION - FROM OUTSIDE VEHICLE   -   0.0014260374647073674\n",
      "PRIM_CONTRIBUTORY_CAUSE_ROAD ENGINEERING/SURFACE/MARKING DEFECTS   -   0.0014038062121175165\n",
      "FIRST_CRASH_TYPE_OTHER NONCOLLISION   -   0.0014016599528949459\n",
      "ROAD_DEFECT_RUT, HOLES   -   0.0013186694548406968\n",
      "PRIM_CONTRIBUTORY_CAUSE_EQUIPMENT - VEHICLE CONDITION   -   0.001274481236030197\n",
      "PRIM_CONTRIBUTORY_CAUSE_DRIVING ON WRONG SIDE/WRONG WAY   -   0.0012547186505956992\n",
      "LIGHTING_CONDITION_DAWN   -   0.001238032869099858\n",
      "TRAFFIC_CONTROL_DEVICE_UNKNOWN/OTHER   -   0.0012024748653376937\n",
      "PRIM_CONTRIBUTORY_CAUSE_ROAD CONSTRUCTION/MAINTENANCE   -   0.0011886731823176886\n",
      "PRIM_CONTRIBUTORY_CAUSE_EXCEEDING AUTHORIZED SPEED LIMIT   -   0.0011870308039198885\n",
      "TRAFFICWAY_TYPE_CENTER TURN LANE   -   0.001185376106344934\n",
      "LIGHTING_CONDITION_UNKNOWN   -   0.0011647011446388315\n",
      "PRIM_CONTRIBUTORY_CAUSE_EXCEEDING SAFE SPEED FOR CONDITIONS   -   0.0009380757019063568\n",
      "FIRST_CRASH_TYPE_ANIMAL   -   0.0009174207450335401\n",
      "PRIM_CONTRIBUTORY_CAUSE_PHYSICAL CONDITION OF DRIVER   -   0.0009095421318811732\n",
      "FIRST_CRASH_TYPE_PEDALCYCLIST   -   0.0008990489358973093\n",
      "ROAD_DEFECT_WORN SURFACE   -   0.0008302904817879225\n",
      "PRIM_CONTRIBUTORY_CAUSE_EVASIVE ACTION DUE TO ANIMAL, OBJECT, NONMOTORIST   -   0.0008052725768474688\n",
      "PRIM_CONTRIBUTORY_CAUSE_DISREGARDING OTHER TRAFFIC SIGNS   -   0.0008037538653812916\n",
      "ROAD_DEFECT_SHOULDER DEFECT   -   0.0007695235292508963\n",
      "PRIM_CONTRIBUTORY_CAUSE_UNDER THE INFLUENCE OF ALCOHOL/DRUGS (USE WHEN ARREST IS EFFECTED)   -   0.0007453792688404648\n",
      "ALIGNMENT_STRAIGHT ON GRADE   -   0.0007047231618996133\n",
      "DEVICE_CONDITION_OTHER   -   0.0006992576647707754\n",
      "PRIM_CONTRIBUTORY_CAUSE_DISREGARDING ROAD MARKINGS   -   0.0006618493455481313\n",
      "FIRST_CRASH_TYPE_PEDESTRIAN   -   0.0006097917499328912\n",
      "FIRST_CRASH_TYPE_HEAD ON   -   0.0005655985941886413\n",
      "TRAFFICWAY_TYPE_DRIVEWAY   -   0.0005269665363549849\n",
      "WORK_ZONE_I   -   0.0004919607340701527\n",
      "PRIM_CONTRIBUTORY_CAUSE_CELL PHONE USE OTHER THAN TEXTING   -   0.00048515742978642846\n",
      "ALIGNMENT_CURVE, LEVEL   -   0.00044578006808477567\n",
      "PRIM_CONTRIBUTORY_CAUSE_TURNING RIGHT ON RED   -   0.0004073385278177562\n",
      "DEVICE_CONDITION_NOT FUNCTIONING   -   0.00039468891676998867\n",
      "PRIM_CONTRIBUTORY_CAUSE_HAD BEEN DRINKING (USE WHEN ARREST IS NOT MADE)   -   0.0003612556033451061\n",
      "TRAFFICWAY_TYPE_RAMP   -   0.00035561912302427056\n",
      "FIRST_CRASH_TYPE_REAR TO FRONT   -   0.00034401195702431757\n",
      "WEATHER_CONDITION_SLEET/HAIL   -   0.0003232140125201974\n",
      "PRIM_CONTRIBUTORY_CAUSE_DISREGARDING YIELD SIGN   -   0.0002507677262306782\n",
      "FIRST_CRASH_TYPE_REAR TO SIDE   -   0.0002431525721240398\n",
      "PRIM_CONTRIBUTORY_CAUSE_TEXTING   -   0.00023091593463893468\n",
      "PRIM_CONTRIBUTORY_CAUSE_DISTRACTION - OTHER ELECTRONIC DEVICE (NAVIGATION DEVICE, DVD PLAYER, ETC.)   -   0.00020606440417775214\n",
      "TRAFFIC_CONTROL_DEVICE_LANE USE MARKING   -   0.00020135203159408414\n",
      "PRIM_CONTRIBUTORY_CAUSE_RELATED TO BUS STOP   -   0.00019747848119899472\n",
      "WEATHER_CONDITION_FOG/SMOKE/HAZE   -   0.00019619976273055746\n",
      "ALIGNMENT_STRAIGHT ON HILLCREST   -   0.00018388790377762453\n",
      "TRAFFIC_CONTROL_DEVICE_YIELD   -   0.0001399015435964503\n",
      "PRIM_CONTRIBUTORY_CAUSE_BICYCLE ADVANCING LEGALLY ON RED LIGHT   -   0.00012673096664729173\n",
      "TRAFFIC_CONTROL_DEVICE_OTHER REG. SIGN   -   0.00011353180476738874\n",
      "PRIM_CONTRIBUTORY_CAUSE_PASSING STOPPED SCHOOL BUS   -   9.046219844870766e-05\n",
      "TRAFFIC_CONTROL_DEVICE_RAILROAD CROSSING GATE   -   8.873975445543895e-05\n",
      "TRAFFIC_CONTROL_DEVICE_PEDESTRIAN CROSSING SIGN   -   7.566666069413078e-05\n",
      "TRAFFIC_CONTROL_DEVICE_OTHER WARNING SIGN   -   7.020877337043231e-05\n",
      "ALIGNMENT_CURVE ON HILLCREST   -   3.630748949922593e-05\n",
      "DEVICE_CONDITION_WORN REFLECTIVE MATERIAL   -   3.440081905239168e-05\n",
      "FIRST_CRASH_TYPE_OVERTURNED   -   3.363349354990961e-05\n",
      "TRAFFIC_CONTROL_DEVICE_POLICE/FLAGMAN   -   2.848223937828269e-05\n",
      "FIRST_CRASH_TYPE_REAR TO REAR   -   2.780300266436167e-05\n",
      "TRAFFIC_CONTROL_DEVICE_SCHOOL ZONE   -   2.5545021052192142e-05\n",
      "PRIM_CONTRIBUTORY_CAUSE_OBSTRUCTED CROSSWALKS   -   2.4816037581244964e-05\n",
      "PRIM_CONTRIBUTORY_CAUSE_MOTORCYCLE ADVANCING LEGALLY ON RED LIGHT   -   2.2467699206936338e-05\n",
      "DEVICE_CONDITION_MISSING   -   1.8250061510829213e-05\n",
      "TRAFFIC_CONTROL_DEVICE_NO PASSING   -   1.7440058020943734e-05\n",
      "TRAFFIC_CONTROL_DEVICE_DELINEATORS   -   1.6813750554604565e-05\n",
      "TRAFFIC_CONTROL_DEVICE_STOP SIGN/FALSHER   -   1.6764239931086223e-05\n",
      "FIRST_CRASH_TYPE_TRAIN   -   7.811248910581081e-06\n",
      "INJURIES_FATAL   -   0.0\n",
      "INJURIES_NON_INCAPACITATING   -   0.0\n",
      "INJURIES_REPORTED_NOT_EVIDENT   -   0.0\n",
      "TRAFFIC_CONTROL_DEVICE_RR CROSSING SIGN   -   0.0\n",
      "INJURIES_INCAPACITATING   -   0.0\n"
     ]
    }
   ],
   "source": [
    "#printing the sorted feature ranking of Decision Tree resampled data\n",
    "importances= dtree_resampled.feature_importances_\n",
    "indices = np.argsort(importances)[::-1]\n",
    "x_value =[]\n",
    "y_value = []\n",
    "\n",
    "for f in range(X_resampled.shape[1]):\n",
    "    print(X_resampled.columns[indices[f]], \"  -  \", importances[indices[f]])\n",
    "    x_value.append( X_resampled.columns[indices[f]])\n",
    "    y_value.append( importances[indices[f]])"
   ]
  },
  {
   "cell_type": "code",
   "execution_count": 104,
   "metadata": {},
   "outputs": [
    {
     "data": {
      "text/plain": [
       "Text(0.5, 1.0, 'Top 15 Important Features')"
      ]
     },
     "execution_count": 104,
     "metadata": {},
     "output_type": "execute_result"
    },
    {
     "data": {
      "image/png": "[encoded data removed]",
      "text/plain": [
       "<Figure size 864x720 with 1 Axes>"
      ]
     },
     "metadata": {
      "needs_background": "light"
     },
     "output_type": "display_data"
    }
   ],
   "source": [
    "#plotting the top 15 important Features of the Decision Tree of resampled data\n",
    "plt.figure(figsize = (12,10))\n",
    "sns.barplot(y=x_value[:15], x=y_value[:15])\n",
    "plt.title(\"Top 15 Important Features\")\n"
   ]
  },
  {
   "cell_type": "markdown",
   "metadata": {},
   "source": [
    "Looking at the graph, the severity of car crash can be determined by the features Injuries Total followed by Damage caused."
   ]
  },
  {
   "cell_type": "markdown",
   "metadata": {},
   "source": [
    "# Conclusion"
   ]
  },
  {
   "cell_type": "markdown",
   "metadata": {},
   "source": [
    "Performed couple different models on the data. Ran Logistic Regression model as a basic model. Used SMOTE to handle class imbalance. Tried K Nearest Neighbors, Decision Tree, Random Forest, Grid search with different models and Pipeline with with StandardScaler and Logistic Regression.\n",
    "Used Logistic Regression as our Final model. Table below as the scores of f1 train,f1 test and accuracy of all model performed."
   ]
  },
  {
   "cell_type": "markdown",
   "metadata": {},
   "source": [
    "| Model | Train f1 | Test f1  |Accuracy         \n",
    "| :- |:------:|:------:| :-:\n",
    "|Logistic Regression| 0.75|0.75| 0.90\n",
    "|Logistic Regression(SMOTE) | 0.87|0.74 | 0.89\n",
    "|KNearest Neighbors |0.68|0.57|0.84\n",
    "|KNN (SMOTE) |0.91|0.60|0.86\n",
    "|Decision Tree|1.0|0.69|0.85\n",
    "|Decision Tree(SMOTE)|1.0|0.68|0.88\n",
    "|Decision Tree with GridSearch|0.86|0.70|0.86\n",
    "|Random Forest|0.75|0.76|0.89\n",
    "|Random Forest(SMOTE)|0.80|0.74|0.83\n",
    "|Random Forest with Gridsearch|0.74|0.74|0.87\n",
    "|pipeline Logistic|0.76|0.76|0.90"
   ]
  },
  {
   "cell_type": "code",
   "execution_count": 143,
   "metadata": {},
   "outputs": [
    {
     "data": {
      "text/plain": [
       "[Text(0, 0.5, 'True'), Text(0.5, 0, 'Predicted')]"
      ]
     },
     "execution_count": 143,
     "metadata": {},
     "output_type": "execute_result"
    },
    {
     "data": {
      "image/png": "[encoded data removed]",
      "text/plain": [
       "<Figure size 432x288 with 2 Axes>"
      ]
     },
     "metadata": {
      "needs_background": "light"
     },
     "output_type": "display_data"
    }
   ],
   "source": [
    "from sklearn.metrics import confusion_matrix, ConfusionMatrixDisplay\n",
    "\n",
    "cm = confusion_matrix(y_resampled_test, logreg_resampled_results, normalize='all')\n",
    "cmd = ConfusionMatrixDisplay(cm, display_labels=['Non Severe','Severe'])\n",
    "cmd.plot()\n",
    "cmd.ax_.set(xlabel='Predicted', ylabel='True')\n"
   ]
  },
  {
   "cell_type": "markdown",
   "metadata": {},
   "source": [
    "Considering the model Logistic Regression with SMOTE class imbalance with a Accuracy of\n",
    "89%. Precision and Recall score of this model looks balanced. Above the confusion matrix of the model\n",
    "model test data, shows the predicted False Positive is 4% and False Negative 7%.\n"
   ]
  },
  {
   "cell_type": "code",
   "execution_count": null,
   "metadata": {},
   "outputs": [],
   "source": []
  }
 ],
 "metadata": {
  "kernelspec": {
   "display_name": "Python 3",
   "language": "python",
   "name": "python3"
  },
  "language_info": {
   "codemirror_mode": {
    "name": "ipython",
    "version": 3
   },
   "file_extension": ".py",
   "mimetype": "text/x-python",
   "name": "python",
   "nbconvert_exporter": "python",
   "pygments_lexer": "ipython3",
   "version": "3.8.3"
  },
  "toc": {
   "base_numbering": 1,
   "nav_menu": {},
   "number_sections": true,
   "sideBar": true,
   "skip_h1_title": false,
   "title_cell": "Table of Contents",
   "title_sidebar": "Contents",
   "toc_cell": false,
   "toc_position": {},
   "toc_section_display": true,
   "toc_window_display": false
  },
  "varInspector": {
   "cols": {
    "lenName": 16,
    "lenType": 16,
    "lenVar": 40
   },
   "kernels_config": {
    "python": {
     "delete_cmd_postfix": "",
     "delete_cmd_prefix": "del ",
     "library": "var_list.py",
     "varRefreshCmd": "print(var_dic_list())"
    },
    "r": {
     "delete_cmd_postfix": ") ",
     "delete_cmd_prefix": "rm(",
     "library": "var_list.r",
     "varRefreshCmd": "cat(var_dic_list()) "
    }
   },
   "types_to_exclude": [
    "module",
    "function",
    "builtin_function_or_method",
    "instance",
    "_Feature"
   ],
   "window_display": false
  }
 },
 "nbformat": 4,
 "nbformat_minor": 4
}
